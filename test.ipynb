{
 "cells": [
  {
   "cell_type": "code",
   "execution_count": null,
   "metadata": {},
   "outputs": [
    {
     "name": "stdout",
     "output_type": "stream",
     "text": [
      "10\n",
      "56\n",
      "16776960\n"
     ]
    }
   ],
   "source": [
    "myNumber = 0b1010\n",
    "print(myNumber)\n",
    "\n",
    "myNumber = 0o0070\n",
    "print(myNumber)\n",
    "\n",
    "myNumber = 0xFFFF00\n",
    "print(myNumber)"
   ]
  },
  {
   "cell_type": "code",
   "execution_count": null,
   "metadata": {},
   "outputs": [
    {
     "name": "stdout",
     "output_type": "stream",
     "text": [
      "(1, 0)\n"
     ]
    }
   ],
   "source": [
    "myNumber = 1,000\n",
    "print(myNumber)"
   ]
  },
  {
   "cell_type": "code",
   "execution_count": 1,
   "metadata": {},
   "outputs": [
    {
     "name": "stdout",
     "output_type": "stream",
     "text": [
      "1000\n"
     ]
    }
   ],
   "source": [
    "myNumber = 1_000\n",
    "print(myNumber)"
   ]
  },
  {
   "cell_type": "code",
   "execution_count": null,
   "metadata": {},
   "outputs": [
    {
     "name": "stdout",
     "output_type": "stream",
     "text": [
      "200\n",
      "33\n"
     ]
    }
   ],
   "source": [
    "a = 100\n",
    "a *= 2      \n",
    "print(a)\n",
    "\n",
    "b = 100\n",
    "b //= 3    \n",
    "print(b)"
   ]
  },
  {
   "cell_type": "code",
   "execution_count": null,
   "metadata": {},
   "outputs": [
    {
     "name": "stdout",
     "output_type": "stream",
     "text": [
      "1\n",
      "0\n"
     ]
    }
   ],
   "source": [
    "print(int(True))\n",
    "print(int(False))"
   ]
  },
  {
   "cell_type": "code",
   "execution_count": null,
   "metadata": {},
   "outputs": [
    {
     "name": "stdout",
     "output_type": "stream",
     "text": [
      "10\n"
     ]
    }
   ],
   "source": [
    "print(int('1010',2))"
   ]
  },
  {
   "cell_type": "code",
   "execution_count": null,
   "metadata": {},
   "outputs": [
    {
     "name": "stdout",
     "output_type": "stream",
     "text": [
      "10000000000000000000000000000000000000000000000000000000000000000000000000000000000000000000000000000000000000000000000000000000000000000000000000000000000000000000000000000000000000000000000000000000000000000000000000000000000000000000000000000000000000000000000000000000000000000000000000000000000000000000000000000000000000000000000000000000000000000000000000000000000000000000000000000000000000000000000000000000000000000000000000000000000000000000000000000000000000000000000000000000000000000000000000000000000000000000000000000000000000000000000000000000000000000000000000000000000000000000000000000000000000000000000000000000000000000000000000000000000000000000000000000000000000000000000000000000000000000000000000000000000000000000000000000000000000000000000000000000000000000000000000000000000000000000000000000000000000000000000000000000000000000000000000000000000000000000000000000000000000000000000000000000000000000000000000000000000000000000000000000000000000000000000000000000000000000\n"
     ]
    }
   ],
   "source": [
    "print(10**1000)"
   ]
  },
  {
   "cell_type": "code",
   "execution_count": null,
   "metadata": {},
   "outputs": [
    {
     "name": "stdout",
     "output_type": "stream",
     "text": [
      "A\n",
      "65\n"
     ]
    }
   ],
   "source": [
    "# chr() 可以將數字轉換成字元 (ASCII)\n",
    "print(chr(65))\n",
    "\n",
    "# ord() 可以將字元轉換成數字 (ASCII)\n",
    "print(ord('A'))"
   ]
  },
  {
   "cell_type": "code",
   "execution_count": null,
   "metadata": {},
   "outputs": [
    {
     "name": "stdout",
     "output_type": "stream",
     "text": [
      "D\n"
     ]
    }
   ],
   "source": [
    "now = ord('A')\n",
    "next = now + 3\n",
    "print(chr(next))"
   ]
  },
  {
   "cell_type": "code",
   "execution_count": null,
   "metadata": {},
   "outputs": [
    {
     "name": "stdout",
     "output_type": "stream",
     "text": [
      "3.141592653589793\n",
      "1.0\n",
      "2.0\n",
      "3\n",
      "4\n",
      "1.4142135623730951\n"
     ]
    }
   ],
   "source": [
    "import math\n",
    "print(math.pi)\n",
    "print(math.sin(math.pi/2))\n",
    "print(math.log(100,10))\n",
    "print(math.floor(3.14))\n",
    "print(math.ceil(3.14))\n",
    "print(math.sqrt(2))"
   ]
  },
  {
   "cell_type": "code",
   "execution_count": null,
   "metadata": {},
   "outputs": [
    {
     "name": "stdout",
     "output_type": "stream",
     "text": [
      "數字應該在1~5之間\n"
     ]
    }
   ],
   "source": [
    "score = 6\n",
    "if score == 5:\n",
    "    print('非常滿意')\n",
    "elif score == 4:\n",
    "    print('滿意')\n",
    "elif score == 3:\n",
    "    print('普通')\n",
    "elif score == 2:\n",
    "    print('不滿意')\n",
    "elif score == 1:\n",
    "    print('非常不滿意')\n",
    "else:\n",
    "    print('數字應該在1~5之間')"
   ]
  },
  {
   "cell_type": "code",
   "execution_count": null,
   "metadata": {},
   "outputs": [
    {
     "name": "stdout",
     "output_type": "stream",
     "text": [
      "hi this is a long text\n"
     ]
    }
   ],
   "source": [
    "a = 'hi this is a l\\\n",
    "ong text' \n",
    "print (a)"
   ]
  },
  {
   "cell_type": "code",
   "execution_count": null,
   "metadata": {},
   "outputs": [
    {
     "name": "stdout",
     "output_type": "stream",
     "text": [
      "hi this is a l\n",
      "ong text\n"
     ]
    }
   ],
   "source": [
    "a = \"\"\"hi this is a l\n",
    "ong text\"\"\"\n",
    "print (a)"
   ]
  },
  {
   "cell_type": "code",
   "execution_count": null,
   "metadata": {},
   "outputs": [
    {
     "name": "stdout",
     "output_type": "stream",
     "text": [
      "1 存在於 myList 中\n",
      "H 存在於 myWord 中\n"
     ]
    }
   ],
   "source": [
    "myList = [1, 2, 3, 4, 5]\n",
    "if 1 in myList:\n",
    "    print('1 存在於 myList 中')\n",
    "    \n",
    "myWord = 'Hello World!'\n",
    "if 'H' in myWord:\n",
    "    print('H 存在於 myWord 中')"
   ]
  },
  {
   "cell_type": "code",
   "execution_count": null,
   "metadata": {},
   "outputs": [
    {
     "name": "stdout",
     "output_type": "stream",
     "text": [
      "5這個數字大於3\n"
     ]
    }
   ],
   "source": [
    "myList = [1, 2, 3, 4, 5]\n",
    "if (count := len(myList)) > 3:\n",
    "   print(f\"{count}這個數字大於3\")"
   ]
  },
  {
   "cell_type": "code",
   "execution_count": null,
   "metadata": {},
   "outputs": [
    {
     "name": "stdout",
     "output_type": "stream",
     "text": [
      "5這個數字大於3\n"
     ]
    }
   ],
   "source": [
    "myList = [1, 2,3,4,5]\n",
    "count = len(myList)\n",
    "if count > 3:\n",
    "    print(f\"{count}這個數字大於3\")"
   ]
  },
  {
   "cell_type": "code",
   "execution_count": null,
   "metadata": {},
   "outputs": [
    {
     "ename": "ValueError",
     "evalue": "invalid literal for int() with base 10: ''",
     "output_type": "error",
     "traceback": [
      "\u001b[1;31m---------------------------------------------------------------------------\u001b[0m",
      "\u001b[1;31mValueError\u001b[0m                                Traceback (most recent call last)",
      "\u001b[1;32mc:\\Users\\Tim\\Desktop\\test.ipynb 儲存格 17\u001b[0m line \u001b[0;36m3\n\u001b[0;32m      <a href='vscode-notebook-cell:/c%3A/Users/Tim/Desktop/test.ipynb#X22sZmlsZQ%3D%3D?line=0'>1</a>\u001b[0m \u001b[39m# 使用者輸入\u001b[39;00m\n\u001b[0;32m      <a href='vscode-notebook-cell:/c%3A/Users/Tim/Desktop/test.ipynb#X22sZmlsZQ%3D%3D?line=1'>2</a>\u001b[0m gender \u001b[39m=\u001b[39m \u001b[39minput\u001b[39m(\u001b[39m\"\u001b[39m\u001b[39m請輸入性別（男/女）：\u001b[39m\u001b[39m\"\u001b[39m)\n\u001b[1;32m----> <a href='vscode-notebook-cell:/c%3A/Users/Tim/Desktop/test.ipynb#X22sZmlsZQ%3D%3D?line=2'>3</a>\u001b[0m age \u001b[39m=\u001b[39m \u001b[39mint\u001b[39;49m(\u001b[39minput\u001b[39;49m(\u001b[39m\"\u001b[39;49m\u001b[39m請輸入年齡：\u001b[39;49m\u001b[39m\"\u001b[39;49m))\n\u001b[0;32m      <a href='vscode-notebook-cell:/c%3A/Users/Tim/Desktop/test.ipynb#X22sZmlsZQ%3D%3D?line=3'>4</a>\u001b[0m height \u001b[39m=\u001b[39m \u001b[39mfloat\u001b[39m(\u001b[39minput\u001b[39m(\u001b[39m\"\u001b[39m\u001b[39m請輸入身高（公分）：\u001b[39m\u001b[39m\"\u001b[39m))\n\u001b[0;32m      <a href='vscode-notebook-cell:/c%3A/Users/Tim/Desktop/test.ipynb#X22sZmlsZQ%3D%3D?line=4'>5</a>\u001b[0m weight \u001b[39m=\u001b[39m \u001b[39mfloat\u001b[39m(\u001b[39minput\u001b[39m(\u001b[39m\"\u001b[39m\u001b[39m請輸入體重（公斤）：\u001b[39m\u001b[39m\"\u001b[39m))\n",
      "\u001b[1;31mValueError\u001b[0m: invalid literal for int() with base 10: ''"
     ]
    }
   ],
   "source": [
    "# 使用者輸入\n",
    "gender = input(\"請輸入性別（男/女）：\")\n",
    "age = int(input(\"請輸入年齡：\"))\n",
    "height = float(input(\"請輸入身高（公分）：\"))\n",
    "weight = float(input(\"請輸入體重（公斤）：\"))\n",
    "body_fat = float(input(\"請輸入體脂率（百分比）：\"))\n",
    "activity_factor = float(input(\"請輸入活動因子：\"))\n",
    "stress_factor = float(input(\"請輸入壓力因子：\"))\n",
    "\n",
    "# 計算BMI\n",
    "BMI = weight / (height/100)**2\n",
    "\n",
    "# 計算除脂體重\n",
    "lean_body_mass = weight * (100 - body_fat) / 100\n",
    "\n",
    "# 計算基礎代謝率\n",
    "if gender == \"男\":\n",
    "    bmr = 66 + ( 13.7*weight + 5*height - 6.8*age ) \n",
    "elif gender == \"女\":\n",
    "    bmr = 655 + ( 9.6*weight + 1.8*height - 4.7*age )\n",
    "\n",
    "# 計算總熱量消耗\n",
    "TDEE = bmr * activity_factor * stress_factor\n",
    "\n",
    "# 計算低碳飲食法的三大營養素熱量\n",
    "carbohydrate = TDEE * 0.2\n",
    "protein = TDEE * 0.3\n",
    "fat = TDEE * 0.5\n",
    "\n",
    "# 計算低碳飲食法的三大營養素克數\n",
    "carbohydrate_gram = carbohydrate / 4\n",
    "protein_gram = protein / 4\n",
    "fat_gram = fat / 9\n",
    "\n",
    "# 判斷體重狀態\n",
    "if BMI < 18.5:\n",
    "    BMI_status = \"體重過輕\"\n",
    "elif BMI >= 18.5 and BMI < 24:\n",
    "    BMI_status = \"正常\"\n",
    "elif BMI >= 24 and BMI < 27:\n",
    "    BMI_status = \"過重\"\n",
    "elif BMI >= 27 and BMI < 30:\n",
    "    BMI_status = \"輕度肥胖\"\n",
    "elif BMI >= 30 and BMI < 35:\n",
    "    BMI_status = \"中度肥胖\"\n",
    "elif BMI >= 35:\n",
    "    BMI_status = \"重度肥胖\"\n",
    "    \n",
    "# 顯示健康飲食推薦報告：\n",
    "\n",
    "print(\"\\n#-----您的健康飲食推薦報告-----#\\n\")\n",
    "print(\"您的BMI為：\",BMI)\n",
    "print(\"您的除脂體重為：\",lean_body_mass)\n",
    "print(\"您的體重狀態為：\",BMI_status)\n",
    "print(\"您的體脂率為：\",body_fat,\"%\")\n",
    "print(\"您的基礎代謝率為：\",bmr)\n",
    "print(\"您的總熱量消耗為：\",TDEE,\"\\n\")\n",
    "print(\"您的低碳飲食法三大營養素建議克數為：\")\n",
    "print(\"碳水化合物：\",carbohydrate_gram,\"克\")\n",
    "print(\"蛋白質：\",protein_gram,\"克\")\n",
    "print(\"脂肪：\",fat_gram,\"克\")"
   ]
  },
  {
   "cell_type": "code",
   "execution_count": null,
   "metadata": {},
   "outputs": [
    {
     "name": "stdout",
     "output_type": "stream",
     "text": [
      "\n",
      " Here is a new line \n",
      " and here is the second line\n"
     ]
    }
   ],
   "source": [
    "print('\\n Here is a new line \\n and here is the second line')"
   ]
  },
  {
   "cell_type": "code",
   "execution_count": null,
   "metadata": {},
   "outputs": [
    {
     "name": "stdout",
     "output_type": "stream",
     "text": [
      "Here is a new line \t and here is the second line\n"
     ]
    }
   ],
   "source": [
    "print('Here is a new line \\t and here is the second line')"
   ]
  },
  {
   "cell_type": "code",
   "execution_count": null,
   "metadata": {},
   "outputs": [
    {
     "name": "stdout",
     "output_type": "stream",
     "text": [
      "Hello\n"
     ]
    }
   ],
   "source": [
    "s='Hello'\n",
    "print(s)"
   ]
  },
  {
   "cell_type": "code",
   "execution_count": null,
   "metadata": {},
   "outputs": [
    {
     "data": {
      "text/plain": [
       "'H'"
      ]
     },
     "execution_count": 38,
     "metadata": {},
     "output_type": "execute_result"
    }
   ],
   "source": [
    "s[0]"
   ]
  },
  {
   "cell_type": "code",
   "execution_count": null,
   "metadata": {},
   "outputs": [
    {
     "data": {
      "text/plain": [
       "'o'"
      ]
     },
     "execution_count": 39,
     "metadata": {},
     "output_type": "execute_result"
    }
   ],
   "source": [
    "s[-1]"
   ]
  },
  {
   "cell_type": "code",
   "execution_count": null,
   "metadata": {},
   "outputs": [
    {
     "name": "stdout",
     "output_type": "stream",
     "text": [
      "a\n",
      "b\n",
      "z\n",
      "abc\n",
      "abcdefghijklmnopqrstuvwxyz\n",
      "bcdefghijklmnopqrstuvwxyz\n",
      "zxvtrpnljhfdb\n"
     ]
    }
   ],
   "source": [
    "letters = \"abcdefghijklmnopqrstuvwxyz\"\n",
    "print(letters[0])\n",
    "print(letters[1])\n",
    "print(letters[-1])\n",
    "print(letters[:3])\n",
    "print(letters[:])\n",
    "print(letters[1:])\n",
    "print(letters[::-2])\n"
   ]
  },
  {
   "cell_type": "code",
   "execution_count": null,
   "metadata": {},
   "outputs": [
    {
     "name": "stdout",
     "output_type": "stream",
     "text": [
      "Tim is Tibame's favorite\n"
     ]
    }
   ],
   "source": [
    "name='Tim'\n",
    "Course='Tibame'\n",
    "print(\"{0} is {1}'s favorite\".format(name,Course))"
   ]
  },
  {
   "cell_type": "code",
   "execution_count": null,
   "metadata": {},
   "outputs": [
    {
     "name": "stdout",
     "output_type": "stream",
     "text": [
      "Tim is Tibame's favorite\n"
     ]
    }
   ],
   "source": [
    "name='Tim'\n",
    "Course='Tibame'\n",
    "print(f\"{name} is {Course}'s favorite\")"
   ]
  },
  {
   "cell_type": "code",
   "execution_count": null,
   "metadata": {},
   "outputs": [
    {
     "name": "stdout",
     "output_type": "stream",
     "text": [
      "num=456\n"
     ]
    }
   ],
   "source": [
    "num = 456\n",
    "print(f\"{num=}\")"
   ]
  },
  {
   "cell_type": "code",
   "execution_count": null,
   "metadata": {},
   "outputs": [
    {
     "name": "stdout",
     "output_type": "stream",
     "text": [
      "Floating point number: 13.145\n"
     ]
    }
   ],
   "source": [
    "print('Floating point number:%7.3f'%(13.145))"
   ]
  },
  {
   "cell_type": "code",
   "execution_count": null,
   "metadata": {},
   "outputs": [
    {
     "name": "stdout",
     "output_type": "stream",
     "text": [
      "123\n",
      "123.456\n",
      "True\n"
     ]
    }
   ],
   "source": [
    "print(str(123))\n",
    "print(str(123.456))\n",
    "print(str(True))"
   ]
  },
  {
   "cell_type": "code",
   "execution_count": null,
   "metadata": {},
   "outputs": [
    {
     "name": "stdout",
     "output_type": "stream",
     "text": [
      "Here is a number: 123.1. Here is a string: hi\n"
     ]
    }
   ],
   "source": [
    "print ('Here is a number: %r. Here is a string: %s' %(123.1,'hi'))"
   ]
  },
  {
   "cell_type": "code",
   "execution_count": null,
   "metadata": {},
   "outputs": [
    {
     "name": "stdout",
     "output_type": "stream",
     "text": [
      "'\\n\\t this is a \\t line with format \\t\\n'\n"
     ]
    }
   ],
   "source": [
    "raw = repr('\\n\\t this is a \\t line with format \\t\\n')\n",
    "print (raw)"
   ]
  },
  {
   "cell_type": "code",
   "execution_count": null,
   "metadata": {},
   "outputs": [
    {
     "name": "stdout",
     "output_type": "stream",
     "text": [
      "This is a string with an insert\n"
     ]
    }
   ],
   "source": [
    "print (f'This is a string with an {'insert'}')"
   ]
  },
  {
   "cell_type": "code",
   "execution_count": null,
   "metadata": {},
   "outputs": [
    {
     "name": "stdout",
     "output_type": "stream",
     "text": [
      "換行\n",
      "\n",
      "TAB\t\n",
      "雙引號\"\n",
      "斜線\\\n",
      "斜\n",
      "原始字串，可以避免字元被轉譯。\\n\n"
     ]
    }
   ],
   "source": [
    "# 常見的轉譯字元\n",
    "text_1 = \"換行\\n\"\n",
    "text_2 = \"TAB\\t\"\n",
    "text_3 = \"雙引號\\\"\"\n",
    "text_4 = \"斜線\\\\\"\n",
    "text_5 = \"斜線\\b\"\n",
    "print(text_1)\n",
    "print(text_2)\n",
    "print(text_3)\n",
    "print(text_4)\n",
    "print(text_5)\n",
    "text_type_5 = r\"原始字串，可以避免字元被轉譯。\\n\"\n",
    "print(text_type_5)"
   ]
  },
  {
   "cell_type": "code",
   "execution_count": null,
   "metadata": {},
   "outputs": [
    {
     "name": "stdout",
     "output_type": "stream",
     "text": [
      "steven\n"
     ]
    }
   ],
   "source": [
    "# 小括號內的字串會自動連接，括號內的空格跟任何換行不會被保留\n",
    "name = (\"s\" \n",
    "        \"t\" \n",
    "        \"e\" \n",
    "        \"v\"\n",
    "        \"e\" \n",
    "        \"n\"\n",
    "        )\n",
    "print(name)"
   ]
  },
  {
   "cell_type": "code",
   "execution_count": null,
   "metadata": {},
   "outputs": [
    {
     "name": "stdout",
     "output_type": "stream",
     "text": [
      "哈哈哈哈哈哈哈哈哈哈\n"
     ]
    }
   ],
   "source": [
    "# 用「*」重複字串\n",
    "laugh = \"哈\"\n",
    "laugh_die = laugh*10\n",
    "print(laugh_die)"
   ]
  },
  {
   "cell_type": "code",
   "execution_count": null,
   "metadata": {},
   "outputs": [
    {
     "name": "stdout",
     "output_type": "stream",
     "text": [
      "abcdefgh\n",
      "cdefgh\n",
      "abcdefg\n",
      "fgh\n",
      "bcde\n",
      "aceg\n",
      "hgfedcba\n",
      "ceg\n"
     ]
    }
   ],
   "source": [
    "# 用 slice 取得子字串 [start:end:step]\n",
    "letters = \"abcdefgh\"\n",
    "print(letters[:])  # 取得全部字串\n",
    "print(letters[2:]) # 取得 offset 2 之後的字串\n",
    "print(letters[:7]) # 取到 offset 7 之前的字串 (僅取到 offset 7 - 1)\n",
    "print(letters[-3:]) # 取倒數 3 個字元\n",
    "print(letters [1:-3]) # 從 offset 1 開始，取到 offset -3 之前的字串\n",
    "print(letters[::2]) # 每隔 2 個字元取得一個字元\n",
    "print(letters[::-1]) # 反轉字串\n",
    "print(letters[2:7:2]) # 組合技 - 從 offset 2 開始，每隔 2 個字元取得一個字元，直到 offset 7 為止"
   ]
  },
  {
   "cell_type": "code",
   "execution_count": null,
   "metadata": {},
   "outputs": [
    {
     "name": "stdout",
     "output_type": "stream",
     "text": [
      "['I', 'am', 'a', 'student.']\n",
      "['Apple', 'Banana', 'Orange']\n"
     ]
    }
   ],
   "source": [
    "# 用 split() 將字串拆分\n",
    "sentence = \"I am a student.\"\n",
    "print(sentence.split(\" \"))\n",
    "\n",
    "items = \"Apple,Banana,Orange\"\n",
    "print(items.split(\",\"))"
   ]
  },
  {
   "cell_type": "code",
   "execution_count": null,
   "metadata": {},
   "outputs": [
    {
     "name": "stdout",
     "output_type": "stream",
     "text": [
      "Apple,Banana,Orange\n"
     ]
    }
   ],
   "source": [
    "# 用 join() 將字串結合\n",
    "items = [\"Apple\", \"Banana\", \"Orange\"]\n",
    "print(\",\".join(items))"
   ]
  },
  {
   "cell_type": "code",
   "execution_count": null,
   "metadata": {},
   "outputs": [
    {
     "name": "stdout",
     "output_type": "stream",
     "text": [
      "I am a teacher. The duty of a teacher is to learn.\n",
      "I am a teacher. The duty of a student is to learn.\n"
     ]
    }
   ],
   "source": [
    "# 用 replace() 替換字串\n",
    "sentence = \"I am a student. The duty of a student is to learn.\"\n",
    "print(sentence.replace(\"student\", \"teacher\"))\n",
    "print(sentence.replace(\"student\", \"teacher\", 1))    # 第三個參數為替換次數"
   ]
  },
  {
   "cell_type": "code",
   "execution_count": null,
   "metadata": {},
   "outputs": [
    {
     "name": "stdout",
     "output_type": "stream",
     "text": [
      "This is a title.\n",
      "This is a title.   \n",
      "   This is a title.\n"
     ]
    }
   ],
   "source": [
    "# 用 strip() 去除字串前後的字元\n",
    "sentence = \"   This is a title.   \"\n",
    "print(sentence.strip())\n",
    "print(sentence.lstrip())\n",
    "print(sentence.rstrip())"
   ]
  },
  {
   "cell_type": "code",
   "execution_count": null,
   "metadata": {},
   "outputs": [
    {
     "name": "stdout",
     "output_type": "stream",
     "text": [
      "商品大特賣\n"
     ]
    }
   ],
   "source": [
    "sentence = \"   ..!!!! 商品大特賣 !!!!..   \"\n",
    "print(sentence.strip(\" .!\")) "
   ]
  },
  {
   "cell_type": "code",
   "execution_count": null,
   "metadata": {},
   "outputs": [
    {
     "name": "stdout",
     "output_type": "stream",
     "text": [
      "True\n",
      "True\n"
     ]
    }
   ],
   "source": [
    "# 用 startwith()  ; 用 endswith() 檢查結尾\n",
    "user_input = \"!圖像生成 貓咪 翻滾 (彩色)\"\n",
    "print(user_input.startswith(\"!圖像生成\"))\n",
    "print(user_input.endswith(\"(彩色)\"))"
   ]
  },
  {
   "cell_type": "code",
   "execution_count": null,
   "metadata": {},
   "outputs": [
    {
     "name": "stdout",
     "output_type": "stream",
     "text": [
      "15\n",
      "15\n",
      "48\n",
      "48\n"
     ]
    }
   ],
   "source": [
    "lyrics = \"\"\"上一篇文章被刪除後\n",
    "所有叛逆的字元\n",
    "決定不再讓空白 沈默\n",
    "我們比空氣更自由\n",
    "比時間還富有\n",
    "沒有文字 無需言語 就能溝通\"\"\"\n",
    "\n",
    "word = \"字\"\n",
    "print(lyrics.find(word))\n",
    "print(lyrics.index(word))\n",
    "\n",
    "print(lyrics.rfind(word)) # 找最後一次出現的 offset\n",
    "print(lyrics.rindex(word)) # 找最後一次出現的 offset"
   ]
  },
  {
   "cell_type": "code",
   "execution_count": null,
   "metadata": {},
   "outputs": [
    {
     "name": "stdout",
     "output_type": "stream",
     "text": [
      "True\n",
      "True\n"
     ]
    }
   ],
   "source": [
    "print(\"123\".isdigit()) # 判斷字串是否皆為「數字」\n",
    "print(\"Abc123\".isalnum()) # 判斷字串是否皆為「數字」或「英文字母」"
   ]
  },
  {
   "cell_type": "code",
   "execution_count": null,
   "metadata": {},
   "outputs": [
    {
     "name": "stdout",
     "output_type": "stream",
     "text": [
      "So this is me swallowing my pride\n",
      "So This Is Me Swallowing My Pride\n",
      "SO THIS IS ME SWALLOWING MY PRIDE\n",
      "so this is me swallowing my pride\n",
      "SO THIS IS ME SWALLOWING MY PRIDE\n"
     ]
    }
   ],
   "source": [
    "# 大小寫處理\n",
    "sentence = \"so this is me swallowing my pride\"\n",
    "print(sentence.capitalize()) # 首字大寫\n",
    "print(sentence.title()) # 每個單字的首字大寫\n",
    "print(sentence.upper()) # 全部大寫\n",
    "print(sentence.lower()) # 全部小寫\n",
    "print(sentence.swapcase()) # 大小寫互換"
   ]
  },
  {
   "cell_type": "code",
   "execution_count": null,
   "metadata": {},
   "outputs": [
    {
     "name": "stdout",
     "output_type": "stream",
     "text": [
      "親愛的:                     \n",
      "                 最愛你的人 敬上\n"
     ]
    }
   ],
   "source": [
    "# 字串對齊\n",
    "start = \"親愛的:\"\n",
    "end = \"最愛你的人 敬上\"\n",
    "print(start.ljust(25))  # 左對齊\n",
    "print(end.rjust(25))    # 右對齊"
   ]
  },
  {
   "cell_type": "code",
   "execution_count": null,
   "metadata": {},
   "outputs": [
    {
     "name": "stdout",
     "output_type": "stream",
     "text": [
      "Author: James Clear     Book: Atomic Habits: An Easy & Proven Way to Build Good Habits & Break Bad Ones                           ,Pages:   320\n"
     ]
    }
   ],
   "source": [
    "# 格式化的填補與對齊\n",
    "author = \"James Clear\"\n",
    "book = \"Atomic Habits: An Easy & Proven Way to Build Good Habits & Break Bad Ones\"\n",
    "pages = \"320\"\n",
    "print(f\"Author: {author:<15} Book: {book:<100},Pages: {pages:>5}\")"
   ]
  },
  {
   "cell_type": "code",
   "execution_count": null,
   "metadata": {},
   "outputs": [
    {
     "name": "stdout",
     "output_type": "stream",
     "text": [
      "dict_keys(['CH1', 'CH2', 'CH3', 'CH4'])\n",
      "['CH1', 'CH2', 'CH3', 'CH4']\n"
     ]
    }
   ],
   "source": [
    "# 用 .keys() 取得字典中所有的鍵。\n",
    "book = {\"CH1\": \"Python基礎\", \"CH2\": \"流程控制\", \"CH3\": \"串列\", \"CH4\": \"字典\"}\n",
    "print(book.keys())\n",
    "print(list(book.keys()))"
   ]
  },
  {
   "cell_type": "code",
   "execution_count": null,
   "metadata": {},
   "outputs": [
    {
     "name": "stdout",
     "output_type": "stream",
     "text": [
      "()\n",
      "[123]\n",
      "(123,)\n"
     ]
    }
   ],
   "source": [
    "# 建立 tuple\n",
    "tuple_type1 = ()\n",
    "tuple_type2 = (123)\n",
    "tuple_type3 = (123,)\n",
    "print(tuple_type1)\n",
    "print(tuple_type2)\n",
    "print(tuple_type3)"
   ]
  },
  {
   "cell_type": "code",
   "execution_count": null,
   "metadata": {},
   "outputs": [
    {
     "name": "stdout",
     "output_type": "stream",
     "text": [
      "123\n"
     ]
    }
   ],
   "source": [
    "# 如果只加小括號，沒有逗號，建立出來的不會是 tuple\n",
    "tuple_failed = (123)\n",
    "print(tuple_failed)"
   ]
  },
  {
   "cell_type": "code",
   "execution_count": null,
   "metadata": {},
   "outputs": [
    {
     "name": "stdout",
     "output_type": "stream",
     "text": [
      "(123, 456, 789)\n",
      "(123, 456, 789)\n",
      "(123, 456, 789)\n"
     ]
    }
   ],
   "source": [
    "# 指派有多個元素的 tuple\n",
    "tuple_type4 = 123, 456, 789\n",
    "tuple_type5 = 123, 456, 789,\n",
    "tuple_type6 = (123,456,789)\n",
    "print(tuple_type4)\n",
    "print(tuple_type5)\n",
    "print(tuple_type6)"
   ]
  },
  {
   "cell_type": "code",
   "execution_count": null,
   "metadata": {},
   "outputs": [
    {
     "name": "stdout",
     "output_type": "stream",
     "text": [
      "set()\n"
     ]
    }
   ],
   "source": [
    "# 用 set 建立集合\n",
    "empty_set = set()\n",
    "print(empty_set)"
   ]
  },
  {
   "cell_type": "code",
   "execution_count": null,
   "metadata": {},
   "outputs": [
    {
     "name": "stdout",
     "output_type": "stream",
     "text": [
      "{'d', 'b', 'a'}\n"
     ]
    }
   ],
   "source": [
    "# set 可以用來將可迭代物件的重複值去除\n",
    "words = \"aabdbabdbababdbabdabdba\"\n",
    "words_set = set(words)\n",
    "print(words_set)"
   ]
  },
  {
   "cell_type": "code",
   "execution_count": null,
   "metadata": {},
   "outputs": [
    {
     "name": "stdout",
     "output_type": "stream",
     "text": [
      "1\n",
      "2\n",
      "3\n",
      "4\n",
      "5\n"
     ]
    }
   ],
   "source": [
    "# set 可用 for 迴圈來迭代\n",
    "s = {1, 2, 3, 4, 5}\n",
    "for i in s:\n",
    "    print(i)"
   ]
  },
  {
   "cell_type": "code",
   "execution_count": null,
   "metadata": {},
   "outputs": [
    {
     "name": "stdout",
     "output_type": "stream",
     "text": [
      "{0, 1, -1}\n"
     ]
    }
   ],
   "source": [
    "# set 可以用來將可迭代物件的重複值去除\n",
    "number = [0, 1, 0, 0, -1, 1, 1, 0, -1, 0]\n",
    "number_set = set(number)\n",
    "print(number_set)"
   ]
  },
  {
   "cell_type": "code",
   "execution_count": null,
   "metadata": {},
   "outputs": [
    {
     "name": "stdout",
     "output_type": "stream",
     "text": [
      "123\n",
      "456\n",
      "789\n"
     ]
    }
   ],
   "source": [
    "# 利用 tuple 一次賦值多個變數\n",
    "number = (123, 456, 789)\n",
    "a, b, c = number\n",
    "print(a)\n",
    "print(b)\n",
    "print(c)"
   ]
  },
  {
   "cell_type": "code",
   "execution_count": null,
   "metadata": {},
   "outputs": [
    {
     "name": "stdout",
     "output_type": "stream",
     "text": [
      "3 1 2\n"
     ]
    }
   ],
   "source": [
    "# 利用 tuple 進行多個值的交換也是可以的\n",
    "a = 1\n",
    "b = 2\n",
    "c = 3\n",
    "a, b, c = c, a, b\n",
    "print(a, b, c)"
   ]
  },
  {
   "cell_type": "code",
   "execution_count": null,
   "metadata": {},
   "outputs": [
    {
     "name": "stdout",
     "output_type": "stream",
     "text": [
      "(1, 2, 3, 4, 5, 6)\n"
     ]
    }
   ],
   "source": [
    "# 可以用 + 來連接 tuple\n",
    "tuple1 = (1, 2, 3)\n",
    "tuple2 = (4, 5, 6)\n",
    "tuple3 = tuple1 + tuple2\n",
    "print(tuple3)"
   ]
  },
  {
   "cell_type": "code",
   "execution_count": null,
   "metadata": {},
   "outputs": [
    {
     "name": "stdout",
     "output_type": "stream",
     "text": [
      "(1, 0, 1, 0, 1, 0, 1, 0, 1, 0, 1, 0, 1, 0, 1, 0, 1, 0, 1, 0)\n"
     ]
    }
   ],
   "source": [
    "# 可以用 * 來重複 tuple\n",
    "tuple1 = (1, 0)\n",
    "tuple2 = tuple1 * 10\n",
    "print(tuple2)"
   ]
  },
  {
   "cell_type": "code",
   "execution_count": null,
   "metadata": {},
   "outputs": [
    {
     "name": "stdout",
     "output_type": "stream",
     "text": [
      "1\n",
      "2\n",
      "3\n"
     ]
    }
   ],
   "source": [
    "# tuple 是可以迭代的\n",
    "tuple1 = (1, 2, 3)\n",
    "for i in tuple1:\n",
    "    print(i)"
   ]
  },
  {
   "cell_type": "code",
   "execution_count": null,
   "metadata": {},
   "outputs": [
    {
     "name": "stdout",
     "output_type": "stream",
     "text": [
      "(1, 2, 3)\n",
      "(1, 2, 3, 4)\n"
     ]
    }
   ],
   "source": [
    "# tuple 是不可變的，所以重新指派的時候，會產生新的 tuple。\n",
    "t1 = (1, 2, 3)\n",
    "print(t1)\n",
    "t1 += (4,)\n",
    "print(t1)"
   ]
  },
  {
   "cell_type": "code",
   "execution_count": null,
   "metadata": {},
   "outputs": [
    {
     "name": "stdout",
     "output_type": "stream",
     "text": [
      "['a', 'b', 'c']\n",
      "[1, 2, 3]\n",
      "[0, 1, 2, 3, 4, 5, 6, 7, 8, 9]\n"
     ]
    }
   ],
   "source": [
    "# list() 可以將可迭代物件轉換成串列\n",
    "my_list1 = list('abc')\n",
    "my_list2 = list((1,2,3))\n",
    "my_list3 = list(range(10))\n",
    "print(my_list1)\n",
    "print(my_list2)\n",
    "print(my_list3)"
   ]
  },
  {
   "cell_type": "code",
   "execution_count": null,
   "metadata": {},
   "outputs": [
    {
     "name": "stdout",
     "output_type": "stream",
     "text": [
      "['1', '2', '3']\n"
     ]
    }
   ],
   "source": [
    "# 用 split() 將輸入的資料轉換成串列\n",
    "number = input('請輸入數字，以空白鍵分隔：').split()\n",
    "print(number)"
   ]
  },
  {
   "cell_type": "code",
   "execution_count": null,
   "metadata": {},
   "outputs": [
    {
     "name": "stdout",
     "output_type": "stream",
     "text": [
      "[1.0, 2.0, 3.0]\n"
     ]
    }
   ],
   "source": [
    "# 利用 map() 將輸入的字串轉換成整數\n",
    "number_str = input('請輸入數字，以空白鍵分隔：').split()\n",
    "number_int = map(int, number_str)\n",
    "print(list(number_int))"
   ]
  },
  {
   "cell_type": "code",
   "execution_count": null,
   "metadata": {},
   "outputs": [
    {
     "name": "stdout",
     "output_type": "stream",
     "text": [
      "1\n",
      "3\n"
     ]
    }
   ],
   "source": [
    "# 可以用 [offset] 取得串列中的元素，但記得 offset 必需要是有效的\n",
    "my_list = [1, 2, 3]\n",
    "print(my_list[0])\n",
    "print(my_list[-1])"
   ]
  },
  {
   "cell_type": "code",
   "execution_count": null,
   "metadata": {},
   "outputs": [
    {
     "name": "stdout",
     "output_type": "stream",
     "text": [
      "[1, 2]\n",
      "[9, 8, 7, 6, 5, 4, 3, 2, 1]\n"
     ]
    }
   ],
   "source": [
    "# 可以用 slice 的方式取得串列中的元素，這些 slice 都不會改變原本的串列\n",
    "my_list = [1, 2, 3, 4, 5, 6, 7, 8, 9]\n",
    "print(my_list[0:2])\n",
    "print(my_list[::-1])"
   ]
  },
  {
   "cell_type": "code",
   "execution_count": null,
   "metadata": {},
   "outputs": [
    {
     "name": "stdout",
     "output_type": "stream",
     "text": [
      "[1, 2, 3, 4, 5, 6, 7, 8, 9]\n",
      "[9, 8, 7, 6, 5, 4, 3, 2, 1]\n"
     ]
    }
   ],
   "source": [
    "# 如果要將原串列反轉，可以用 reverse()\n",
    "print(my_list)\n",
    "my_list.reverse()\n",
    "print(my_list)"
   ]
  },
  {
   "cell_type": "code",
   "execution_count": null,
   "metadata": {},
   "outputs": [
    {
     "name": "stdout",
     "output_type": "stream",
     "text": [
      "['apple', 'banana', 'orange']\n",
      "['apple', 'banana', 'orange', 'watermelon']\n"
     ]
    }
   ],
   "source": [
    "# 用 .append() 可以將元素加到串列的最後面，但是只能加一個元素\n",
    "my_list = ['apple', 'banana', 'orange']\n",
    "print(my_list)\n",
    "my_list.append('watermelon')\n",
    "print(my_list)"
   ]
  },
  {
   "cell_type": "code",
   "execution_count": null,
   "metadata": {},
   "outputs": [
    {
     "name": "stdout",
     "output_type": "stream",
     "text": [
      "['apple', 'cat', 'dog', 'egg']\n",
      "['apple', 'banana', 'cat', 'dog', 'egg']\n"
     ]
    }
   ],
   "source": [
    "# 用 .insert() 可以將元素加到串列的任何位置\n",
    "my_list = ['apple', 'cat', 'dog', 'egg']\n",
    "print(my_list)\n",
    "my_list.insert(1, 'banana')\n",
    "print(my_list)"
   ]
  },
  {
   "cell_type": "code",
   "execution_count": null,
   "metadata": {},
   "outputs": [
    {
     "name": "stdout",
     "output_type": "stream",
     "text": [
      "[1, 2, 3, [4, 5, 6]]\n"
     ]
    }
   ],
   "source": [
    "# 注意，如果用 .append() 來連接串列，就會變成「串列中有串列」。記得不要誤用！\n",
    "my_list1 = [1, 2, 3]\n",
    "my_list2 = [4, 5, 6]\n",
    "my_list1.append(my_list2)\n",
    "print(my_list1)"
   ]
  },
  {
   "cell_type": "code",
   "execution_count": null,
   "metadata": {},
   "outputs": [
    {
     "name": "stdout",
     "output_type": "stream",
     "text": [
      "1635184587328\n",
      "1635184356480\n",
      "[1, 2, 3, 4, 5, 6]\n",
      "1635184587328\n"
     ]
    }
   ],
   "source": [
    "# 可以用 .extend() 來連接串列\n",
    "my_list1 = [1, 2, 3]\n",
    "my_list2 = [4, 5, 6]\n",
    "print(id(my_list1))\n",
    "print(id(my_list2))\n",
    "\n",
    "my_list1.extend(my_list2)\n",
    "print(my_list1)\n",
    "print(id(my_list1))"
   ]
  },
  {
   "cell_type": "code",
   "execution_count": null,
   "metadata": {},
   "outputs": [
    {
     "name": "stdout",
     "output_type": "stream",
     "text": [
      "1635184426176\n",
      "[1, 2, 3, 4, 5, 6]\n",
      "1635184426176\n"
     ]
    }
   ],
   "source": [
    "# 可以用 += 來連接串列\n",
    "my_list1 = [1, 2, 3]\n",
    "my_list2 = [4, 5, 6]\n",
    "print(id(my_list1))\n",
    "\n",
    "my_list1 += my_list2\n",
    "print(my_list1)\n",
    "print(id(my_list1))"
   ]
  },
  {
   "cell_type": "code",
   "execution_count": null,
   "metadata": {},
   "outputs": [
    {
     "name": "stdout",
     "output_type": "stream",
     "text": [
      "['Steven', 'Ivy', 'Eva']\n"
     ]
    }
   ],
   "source": [
    "# 用 [offset] 來修改串列中的元素\n",
    "my_list = ['steven', 'Ivy', 'Eva']\n",
    "my_list[0] = 'Steven'\n",
    "print(my_list)"
   ]
  },
  {
   "cell_type": "code",
   "execution_count": null,
   "metadata": {},
   "outputs": [
    {
     "name": "stdout",
     "output_type": "stream",
     "text": [
      "[0, 0, 0, 0, 0, 4, 5, 6, 7, 8, 9]\n"
     ]
    }
   ],
   "source": [
    "# 用 slice 來取代串列特定區間的元素\n",
    "numbers = [1, 2, 3, 4, 5, 6, 7, 8, 9]\n",
    "numbers[0:3] = [0, 0, 0, 0, 0]\n",
    "print(numbers)"
   ]
  },
  {
   "cell_type": "code",
   "execution_count": null,
   "metadata": {},
   "outputs": [
    {
     "name": "stdout",
     "output_type": "stream",
     "text": [
      "[0, 1, 2, 3, 4, 6, 7, 8, 9]\n"
     ]
    }
   ],
   "source": [
    "# 只要是可迭代物件就可以!\n",
    "numbers = [0,0,0,0,0,6,7,8,9]\n",
    "numbers[0:5] = range(5)\n",
    "print(numbers)"
   ]
  },
  {
   "cell_type": "code",
   "execution_count": null,
   "metadata": {},
   "outputs": [
    {
     "name": "stdout",
     "output_type": "stream",
     "text": [
      "Jack\n",
      "['Steven', 'Ivy', 'Eva']\n"
     ]
    }
   ],
   "source": [
    "# 用 .pop() 來「取出」串列中的元素。\n",
    "members = [\"Steven\", \"Ivy\", \"Eva\", \"Jack\"]\n",
    "fired_member = members.pop()\n",
    "print(fired_member)\n",
    "print(members)"
   ]
  },
  {
   "cell_type": "code",
   "execution_count": null,
   "metadata": {},
   "outputs": [
    {
     "name": "stdout",
     "output_type": "stream",
     "text": [
      "Steven\n",
      "['Ivy', 'Eva', 'Jack']\n"
     ]
    }
   ],
   "source": [
    "# 如果想取出第一個元素，可以用 pop(0)。(FIFO 的概念)\n",
    "members = [\"Steven\", \"Ivy\", \"Eva\", \"Jack\"]\n",
    "fired_member = members.pop(0)\n",
    "print(fired_member)\n",
    "print(members)"
   ]
  },
  {
   "cell_type": "code",
   "execution_count": null,
   "metadata": {},
   "outputs": [
    {
     "name": "stdout",
     "output_type": "stream",
     "text": [
      "2\n"
     ]
    }
   ],
   "source": [
    "# 用 .index() 找出元素在串列中的位置。\n",
    "members = [\"Steven\", \"Ivy\", \"Eva\", \"Jack\"]\n",
    "print(members.index(\"Eva\"))"
   ]
  },
  {
   "cell_type": "code",
   "execution_count": null,
   "metadata": {},
   "outputs": [
    {
     "name": "stdout",
     "output_type": "stream",
     "text": [
      "False\n"
     ]
    }
   ],
   "source": [
    "# 用 in 來檢查元素是否在串列中\n",
    "sentence = [\"我\",\"真\",\"的\",\"很\",\"常\",\"忘\",\"記\",\"加\",\"句\",\"點\"]\n",
    "print(\"。\" in sentence)"
   ]
  },
  {
   "cell_type": "code",
   "execution_count": null,
   "metadata": {},
   "outputs": [
    {
     "name": "stdout",
     "output_type": "stream",
     "text": [
      "成員名單:  Steven , Ivy , Eva , Jack\n"
     ]
    }
   ],
   "source": [
    "# 用 join() 來將串列中的元素連接成字串\n",
    "members = [\"Steven\", \"Ivy\", \"Eva\", \"Jack\"]\n",
    "separator = \" , \"\n",
    "print(\"成員名單: \", separator.join(members))"
   ]
  },
  {
   "cell_type": "code",
   "execution_count": null,
   "metadata": {},
   "outputs": [
    {
     "name": "stdout",
     "output_type": "stream",
     "text": [
      "['Steven ', ' Ivy ', ' Eva ', ' Jack']\n"
     ]
    }
   ],
   "source": [
    "sentence = \"Steven , Ivy , Eva , Jack\"\n",
    "print(sentence.split(','))"
   ]
  },
  {
   "cell_type": "code",
   "execution_count": null,
   "metadata": {},
   "outputs": [
    {
     "name": "stdout",
     "output_type": "stream",
     "text": [
      "[1, 2, 3, 4, 5]\n"
     ]
    }
   ],
   "source": [
    "# 用 .sort() 進行排序\n",
    "numbers = [1, 5, 3, 2, 4]\n",
    "numbers.sort()\n",
    "print(numbers)"
   ]
  },
  {
   "cell_type": "code",
   "execution_count": null,
   "metadata": {},
   "outputs": [
    {
     "name": "stdout",
     "output_type": "stream",
     "text": [
      "[1, 2, 3, 4, 5]\n",
      "[1, 5, 3, 2, 4]\n"
     ]
    }
   ],
   "source": [
    "# 用 sorted() 製造排序後的串列\n",
    "numbers = [1, 5, 3, 2, 4]\n",
    "print(sorted(numbers))\n",
    "print(numbers)"
   ]
  },
  {
   "cell_type": "code",
   "execution_count": null,
   "metadata": {},
   "outputs": [
    {
     "name": "stdout",
     "output_type": "stream",
     "text": [
      "[1, 2, 3]\n",
      "[1, 2, 3]\n",
      "[1, 2, 3]\n",
      "[1, 2, 3]\n"
     ]
    }
   ],
   "source": [
    "# 複製串列\n",
    "a = [1, 2, 3]\n",
    "b = a.copy()\n",
    "c = list(a)\n",
    "d = a[:]\n",
    "\n",
    "print(a)\n",
    "print(b)\n",
    "print(c)\n",
    "print(d)"
   ]
  },
  {
   "cell_type": "code",
   "execution_count": null,
   "metadata": {},
   "outputs": [
    {
     "name": "stdout",
     "output_type": "stream",
     "text": [
      "Steven | M | 40000\n",
      "Ben | M | 50000\n",
      "Ivy | F | 60000\n",
      "Eva | F | 70000\n",
      "Jack | M | 80000\n",
      "Anna | F | 90000\n"
     ]
    }
   ],
   "source": [
    "# 用 zip( ) 配對串列中的元素\n",
    "members = [\"Steven\", \"Ben\", \"Ivy\", \"Eva\", \"Jack\", \"Anna\"]\n",
    "gender = [\"M\", \"M\", \"F\", \"F\", \"M\", \"F\"]\n",
    "salary = [40000, 50000, 60000, 70000, 80000, 90000]\n",
    "\n",
    "for member, gender, salary in zip(members, gender, salary):\n",
    "    test = \" | \".join([member, gender, str(salary)])\n",
    "    print(test)"
   ]
  },
  {
   "cell_type": "code",
   "execution_count": null,
   "metadata": {},
   "outputs": [
    {
     "name": "stdout",
     "output_type": "stream",
     "text": [
      "[(1, 'A'), (2, 'B'), (3, 'C')]\n",
      "{1: 'A', 2: 'B', 3: 'C'}\n"
     ]
    }
   ],
   "source": [
    "# zip() 可以用於快速建立二維串列或是字典\n",
    "numbers = [1, 2, 3]\n",
    "letters = [\"A\", \"B\", \"C\"]\n",
    "print(list(zip(numbers, letters)))\n",
    "print(dict(zip(numbers, letters)))"
   ]
  },
  {
   "cell_type": "code",
   "execution_count": null,
   "metadata": {},
   "outputs": [
    {
     "name": "stdout",
     "output_type": "stream",
     "text": [
      "[1, 4, 9, 16, 25, 36, 49, 64, 81, 100]\n"
     ]
    }
   ],
   "source": [
    "# 利用串列生成式快速建立串列\n",
    "square_number = [i**2 for i in range(1, 11)]\n",
    "print(square_number)"
   ]
  },
  {
   "cell_type": "code",
   "execution_count": null,
   "metadata": {},
   "outputs": [
    {
     "name": "stdout",
     "output_type": "stream",
     "text": [
      "[2, 4, 6, 8, 10]\n"
     ]
    }
   ],
   "source": [
    "# 串列生成式可以加上條件式\n",
    "even_number = [i for i in range(1, 11) if i % 2 == 0]\n",
    "print(even_number)"
   ]
  },
  {
   "cell_type": "code",
   "execution_count": null,
   "metadata": {},
   "outputs": [
    {
     "name": "stdout",
     "output_type": "stream",
     "text": [
      "['1 * 1 = 1', '1 * 2 = 2', '1 * 3 = 3', '1 * 4 = 4', '1 * 5 = 5', '1 * 6 = 6', '1 * 7 = 7', '1 * 8 = 8', '1 * 9 = 9', '2 * 1 = 2', '2 * 2 = 4', '2 * 3 = 6', '2 * 4 = 8', '2 * 5 = 10', '2 * 6 = 12', '2 * 7 = 14', '2 * 8 = 16', '2 * 9 = 18', '3 * 1 = 3', '3 * 2 = 6', '3 * 3 = 9', '3 * 4 = 12', '3 * 5 = 15', '3 * 6 = 18', '3 * 7 = 21', '3 * 8 = 24', '3 * 9 = 27', '4 * 1 = 4', '4 * 2 = 8', '4 * 3 = 12', '4 * 4 = 16', '4 * 5 = 20', '4 * 6 = 24', '4 * 7 = 28', '4 * 8 = 32', '4 * 9 = 36', '5 * 1 = 5', '5 * 2 = 10', '5 * 3 = 15', '5 * 4 = 20', '5 * 5 = 25', '5 * 6 = 30', '5 * 7 = 35', '5 * 8 = 40', '5 * 9 = 45', '6 * 1 = 6', '6 * 2 = 12', '6 * 3 = 18', '6 * 4 = 24', '6 * 5 = 30', '6 * 6 = 36', '6 * 7 = 42', '6 * 8 = 48', '6 * 9 = 54', '7 * 1 = 7', '7 * 2 = 14', '7 * 3 = 21', '7 * 4 = 28', '7 * 5 = 35', '7 * 6 = 42', '7 * 7 = 49', '7 * 8 = 56', '7 * 9 = 63', '8 * 1 = 8', '8 * 2 = 16', '8 * 3 = 24', '8 * 4 = 32', '8 * 5 = 40', '8 * 6 = 48', '8 * 7 = 56', '8 * 8 = 64', '8 * 9 = 72', '9 * 1 = 9', '9 * 2 = 18', '9 * 3 = 27', '9 * 4 = 36', '9 * 5 = 45', '9 * 6 = 54', '9 * 7 = 63', '9 * 8 = 72', '9 * 9 = 81']\n"
     ]
    }
   ],
   "source": [
    "# 快速建立九九乘法表\n",
    "multi_table = [f\"{i} * {j} = {i*j}\" for i in range(1, 10) for j in range(1, 10)]\n",
    "print(multi_table)"
   ]
  },
  {
   "cell_type": "code",
   "execution_count": null,
   "metadata": {},
   "outputs": [
    {
     "name": "stdout",
     "output_type": "stream",
     "text": [
      "[1, 4, 9, 16, 25, 36, 49, 64, 81, 100]\n"
     ]
    }
   ],
   "source": [
    "# 一般建立方法\n",
    "square_number = []\n",
    "for i in range(1,11):\n",
    "    square_number.append(i**2)\n",
    "print(square_number)"
   ]
  },
  {
   "cell_type": "code",
   "execution_count": null,
   "metadata": {},
   "outputs": [
    {
     "name": "stdout",
     "output_type": "stream",
     "text": [
      "7\n"
     ]
    }
   ],
   "source": [
    "#二維串列\n",
    "list_2d = [[1, 2, 3], [4, 5, 6], [7, 8, 9]]\n",
    "print(list_2d[2][0])"
   ]
  },
  {
   "cell_type": "code",
   "execution_count": null,
   "metadata": {},
   "outputs": [
    {
     "name": "stdout",
     "output_type": "stream",
     "text": [
      "[[0, 2], [3, 4]]\n",
      "[[0, 2], [3, 4]]\n",
      "[[1, 2], [3, 4]]\n",
      "[[0, 2], [3, 4]]\n"
     ]
    }
   ],
   "source": [
    "# 如果串列中的元素是可變的，那麼串列間還是會互相影響\n",
    "a = [[1, 2], [3, 4]]\n",
    "b = a.copy()\n",
    "b[0][0] = 0\n",
    "print(a)\n",
    "print(b)\n",
    "\n",
    "# 使用 deepcopy( ) 來複製串列\n",
    "import copy\n",
    "a = [[1, 2], [3, 4]]\n",
    "b = copy.deepcopy(a)\n",
    "b[0][0] = 0\n",
    "print(a)\n",
    "print(b)"
   ]
  },
  {
   "cell_type": "code",
   "execution_count": null,
   "metadata": {},
   "outputs": [
    {
     "name": "stdout",
     "output_type": "stream",
     "text": [
      "[[0, 2], [3, 4]]\n",
      "[[0, 2], [3, 4]]\n"
     ]
    }
   ],
   "source": [
    "a = [[1, 2], [3, 4]]\n",
    "b = a.copy()\n",
    "b[0][0] = 0\n",
    "print(a)\n",
    "print(b)"
   ]
  },
  {
   "cell_type": "code",
   "execution_count": null,
   "metadata": {},
   "outputs": [
    {
     "name": "stdout",
     "output_type": "stream",
     "text": [
      "['Steven', 'Ivy', 'Eva']\n"
     ]
    }
   ],
   "source": [
    "members = [\"Steven\", \"Ivy\", \"Eva\", \"Jack\"]\n",
    "del members[-1]\n",
    "print(members)"
   ]
  },
  {
   "cell_type": "code",
   "execution_count": null,
   "metadata": {},
   "outputs": [
    {
     "name": "stdout",
     "output_type": "stream",
     "text": [
      "['Steven', 'Eva', 'Jack']\n"
     ]
    }
   ],
   "source": [
    "# 用 .remove() 來刪除串列中的元素\n",
    "members = [\"Steven\", \"Ivy\", \"Eva\", \"Jack\"]\n",
    "members.remove(\"Ivy\")\n",
    "print(members)"
   ]
  },
  {
   "cell_type": "code",
   "execution_count": null,
   "metadata": {},
   "outputs": [
    {
     "name": "stdout",
     "output_type": "stream",
     "text": [
      "{'CH1': 'Python基礎', 'CH2': '流程控制', 'CH3': '串列', 'CH4': '字典'}\n"
     ]
    }
   ],
   "source": [
    "# 利用 zip() 函式建立字典\n",
    "chapter = [\"CH1\", \"CH2\", \"CH3\", \"CH4\"]\n",
    "content = [\"Python基礎\", \"流程控制\", \"串列\", \"字典\"]\n",
    "book =dict(zip(chapter, content))\n",
    "print(book)\n"
   ]
  },
  {
   "cell_type": "code",
   "execution_count": null,
   "metadata": {},
   "outputs": [
    {
     "name": "stdout",
     "output_type": "stream",
     "text": [
      "{'CH1': 'Python基礎', 'CH2': '流程控制', 'CH3': '串列', 'CH4': '字典', 'CH5': '函式'}\n",
      "{'CH1': '前言與Python語言基礎', 'CH2': '流程控制', 'CH3': '串列', 'CH4': '字典', 'CH5': '函式'}\n"
     ]
    }
   ],
   "source": [
    "# 用 [鍵] 來加入或修改字典中的元素\n",
    "book = {\"CH1\": \"Python基礎\", \"CH2\": \"流程控制\", \"CH3\": \"串列\", \"CH4\": \"字典\"}\n",
    "book[\"CH5\"] = \"函式\"\n",
    "print(book)\n",
    "book[\"CH1\"] = \"前言與Python語言基礎\"\n",
    "print(book)"
   ]
  },
  {
   "cell_type": "code",
   "execution_count": null,
   "metadata": {},
   "outputs": [
    {
     "name": "stdout",
     "output_type": "stream",
     "text": [
      "Python基礎\n",
      "Python基礎\n"
     ]
    }
   ],
   "source": [
    "# 可以用 [鍵] 或 get() 來取得字典中的元素\n",
    "book = {\"CH1\": \"Python基礎\", \"CH2\": \"流程控制\", \"CH3\": \"串列\", \"CH4\": \"字典\"}\n",
    "print(book[\"CH1\"])\n",
    "print(book.get(\"CH1\"))"
   ]
  },
  {
   "cell_type": "code",
   "execution_count": null,
   "metadata": {},
   "outputs": [
    {
     "name": "stdout",
     "output_type": "stream",
     "text": [
      "dict_keys(['CH1', 'CH2', 'CH3', 'CH4'])\n",
      "['CH1', 'CH2', 'CH3', 'CH4']\n"
     ]
    }
   ],
   "source": [
    "# 用 .keys() 取得字典中所有的鍵。\n",
    "book = {\"CH1\": \"Python基礎\", \"CH2\": \"流程控制\", \"CH3\": \"串列\", \"CH4\": \"字典\"}\n",
    "print(book.keys())\n",
    "print(list(book.keys()))"
   ]
  },
  {
   "cell_type": "code",
   "execution_count": null,
   "metadata": {},
   "outputs": [
    {
     "name": "stdout",
     "output_type": "stream",
     "text": [
      "dict_values(['Python基礎', '流程控制', '串列', '字典'])\n",
      "['Python基礎', '流程控制', '串列', '字典']\n"
     ]
    }
   ],
   "source": [
    "# 用 .values() 取得字典中所有的值。注意: 這個方法會回傳一個 dict_values 物件，而不是 list\n",
    "book = {\"CH1\": \"Python基礎\", \"CH2\": \"流程控制\", \"CH3\": \"串列\", \"CH4\": \"字典\"}\n",
    "print(book.values())\n",
    "print(list(book.values()))"
   ]
  },
  {
   "cell_type": "code",
   "execution_count": null,
   "metadata": {},
   "outputs": [
    {
     "name": "stdout",
     "output_type": "stream",
     "text": [
      "dict_items([('CH1', 'Python基礎'), ('CH2', '流程控制'), ('CH3', '串列'), ('CH4', '字典')])\n",
      "[('CH1', 'Python基礎'), ('CH2', '流程控制'), ('CH3', '串列'), ('CH4', '字典')]\n"
     ]
    }
   ],
   "source": [
    "# 用 .items() 取得字典中所有的鍵值對。\n",
    "book = {\"CH1\": \"Python基礎\", \"CH2\": \"流程控制\", \"CH3\": \"串列\", \"CH4\": \"字典\"}\n",
    "print(book.items())\n",
    "print(list(book.items()))"
   ]
  },
  {
   "cell_type": "code",
   "execution_count": null,
   "metadata": {},
   "outputs": [
    {
     "name": "stdout",
     "output_type": "stream",
     "text": [
      "3\n"
     ]
    }
   ],
   "source": [
    "# 用 len() 可以取得字典中有多少個鍵值對\n",
    "book = {\"CH1\": \"Python基礎\", \"CH2\": \"流程控制\", \"CH3\": \"串列\", \"CH3\": \"字典\"}\n",
    "print(len(book))"
   ]
  },
  {
   "cell_type": "code",
   "execution_count": null,
   "metadata": {},
   "outputs": [
    {
     "name": "stdout",
     "output_type": "stream",
     "text": [
      "{'CH1': 'Python基礎', 'CH2': '流程控制', 'CH3': '專案練習-減重App', 'CH4': '專案練習-聊天機器人App'}\n",
      "{'CH1': 'Python基礎', 'CH2': '流程控制'}\n",
      "{'CH3': '專案練習-減重App', 'CH4': '專案練習-聊天機器人App'}\n"
     ]
    }
   ],
   "source": [
    "# 用 {**字典1, **字典2} 來合併兩個字典。(原本的字典不會被改變)\n",
    "book1 = {\"CH1\": \"Python基礎\", \"CH2\": \"流程控制\"}\n",
    "book2 = {\"CH3\": \"專案練習-減重App\", \"CH4\": \"專案練習-聊天機器人App\"}\n",
    "new_book = {**book1, **book2}\n",
    "print(new_book)\n",
    "print(book1)\n",
    "print(book2)"
   ]
  },
  {
   "cell_type": "code",
   "execution_count": null,
   "metadata": {},
   "outputs": [
    {
     "name": "stdout",
     "output_type": "stream",
     "text": [
      "{'CH1': 'Python基礎', 'CH2': '流程控制', 'CH3': '專案練習-減重App', 'CH4': '專案練習-聊天機器人App'}\n",
      "{'CH3': '專案練習-減重App', 'CH4': '專案練習-聊天機器人App'}\n"
     ]
    }
   ],
   "source": [
    "# 用 .update() 來合併兩個字典。(前面的字典會被改變)\n",
    "book1 = {\"CH1\": \"Python基礎\", \"CH2\": \"流程控制\"}\n",
    "book2 = {\"CH3\": \"專案練習-減重App\", \"CH4\": \"專案練習-聊天機器人App\"}\n",
    "book1.update(book2)\n",
    "print(book1)\n",
    "print(book2)"
   ]
  },
  {
   "cell_type": "code",
   "execution_count": null,
   "metadata": {},
   "outputs": [
    {
     "name": "stdout",
     "output_type": "stream",
     "text": [
      "{0, 1, 3, 4, 5, 6}\n"
     ]
    }
   ],
   "source": [
    "a=set(range(7))\n",
    "a.add(2)\n",
    "a.add(6)\n",
    "a.remove(2)\n",
    "print(a)"
   ]
  },
  {
   "cell_type": "code",
   "execution_count": null,
   "metadata": {},
   "outputs": [
    {
     "name": "stdout",
     "output_type": "stream",
     "text": [
      "{'CH1': '專案練習-減重App', 'CH2': '專案練習-聊天機器人App'}\n",
      "{'CH1': '專案練習-減重App', 'CH2': '專案練習-聊天機器人App'}\n"
     ]
    }
   ],
   "source": [
    "# 當兩個字典有重複的鍵時，後面的值會覆蓋前面的值\n",
    "book1 = {\"CH1\": \"Python基礎\", \"CH2\": \"流程控制\"}\n",
    "book2 = {\"CH1\": \"專案練習-減重App\", \"CH2\": \"專案練習-聊天機器人App\"}\n",
    "print({**book1, **book2})\n",
    "\n",
    "book1 = {\"CH1\": \"Python基礎\", \"CH2\": \"流程控制\"}\n",
    "book2 = {\"CH1\": \"專案練習-減重App\", \"CH2\": \"專案練習-聊天機器人App\"}\n",
    "book1.update(book2)\n",
    "print(book1)"
   ]
  },
  {
   "cell_type": "code",
   "execution_count": null,
   "metadata": {},
   "outputs": [
    {
     "name": "stdout",
     "output_type": "stream",
     "text": [
      "{'CH1': 'Python基礎', 'CH2': '流程控制', 'CH3': '串列'}\n"
     ]
    }
   ],
   "source": [
    "# 用 del 來刪除字典中的鍵值對\n",
    "book = {\"CH1\": \"Python基礎\", \"CH2\": \"流程控制\", \"CH3\": \"串列\", \"CH4\": \"字典\"}\n",
    "del book[\"CH4\"]\n",
    "print(book)"
   ]
  },
  {
   "cell_type": "code",
   "execution_count": null,
   "metadata": {},
   "outputs": [
    {
     "name": "stdout",
     "output_type": "stream",
     "text": [
      "字典\n",
      "{'CH1': 'Python基礎', 'CH2': '流程控制', 'CH3': '串列'}\n"
     ]
    }
   ],
   "source": [
    "# 用 .pop() 來刪除字典中的鍵值對，並回傳被刪除的值。\n",
    "book = {\"CH1\": \"Python基礎\", \"CH2\": \"流程控制\", \"CH3\": \"串列\", \"CH4\": \"字典\"}\n",
    "print(book.pop(\"CH4\"))\n",
    "print(book)"
   ]
  },
  {
   "cell_type": "code",
   "execution_count": null,
   "metadata": {},
   "outputs": [
    {
     "name": "stdout",
     "output_type": "stream",
     "text": [
      "Ivy\n",
      "['Steven', 'Eva', 'Jack']\n"
     ]
    }
   ],
   "source": [
    "# 如果想取出第一個元素，可以用 pop(0)。(FIFO 的概念)\n",
    "members = [\"Steven\", \"Ivy\", \"Eva\", \"Jack\"]\n",
    "fired_member = members.pop(1)\n",
    "print(fired_member)\n",
    "print(members)"
   ]
  },
  {
   "cell_type": "code",
   "execution_count": null,
   "metadata": {},
   "outputs": [
    {
     "name": "stdout",
     "output_type": "stream",
     "text": [
      "{}\n"
     ]
    }
   ],
   "source": [
    "# 用 .clear() 來刪除字典中的所有鍵值對\n",
    "book = {\"CH1\": \"Python基礎\", \"CH2\": \"流程控制\", \"CH3\": \"串列\", \"CH4\": \"字典\"}\n",
    "book.clear()\n",
    "print(book)"
   ]
  },
  {
   "cell_type": "code",
   "execution_count": null,
   "metadata": {},
   "outputs": [
    {
     "name": "stdout",
     "output_type": "stream",
     "text": [
      "True\n"
     ]
    }
   ],
   "source": [
    "# 用 in 來檢查字典中是否有某個鍵\n",
    "user = {\"msycomtw\": \"123456141\", \"steve1211\": \"654321\", \"pp0p1123\": \"987654\"}\n",
    "print(\"msycomtw\" in user)"
   ]
  },
  {
   "cell_type": "code",
   "execution_count": null,
   "metadata": {},
   "outputs": [
    {
     "name": "stdout",
     "output_type": "stream",
     "text": [
      "{'msycomtw': '123456', 'steve1211': '654321', 'pp0p1123': '987654'}\n",
      "{'msycomtw': '123456', 'steve1211': '654321', 'pp0p1123': '987654'}\n"
     ]
    }
   ],
   "source": [
    "# 字典是可變的，請小心更動到原本的字典。\n",
    "user = {\"msycomtw\": \"123456141\", \"steve1211\": \"654321\", \"pp0p1123\": \"987654\"}\n",
    "user_revise = user\n",
    "user_revise[\"msycomtw\"] = \"123456\"\n",
    "print(user)\n",
    "print(user_revise)"
   ]
  },
  {
   "cell_type": "code",
   "execution_count": null,
   "metadata": {},
   "outputs": [
    {
     "name": "stdout",
     "output_type": "stream",
     "text": [
      "{'msycomtw': '123456141', 'steve1211': '654321', 'pp0p1123': '987654'}\n",
      "{'msycomtw': '123456', 'steve1211': '654321', 'pp0p1123': '987654'}\n"
     ]
    }
   ],
   "source": [
    "# 用 .copy() 來複製一份字典\n",
    "user = {\"msycomtw\": \"123456141\", \"steve1211\": \"654321\", \"pp0p1123\": \"987654\"}\n",
    "user_revise = copy.deepcopy(user)\n",
    "user_revise[\"msycomtw\"] = \"123456\"\n",
    "print(user)\n",
    "print(user_revise)"
   ]
  },
  {
   "cell_type": "code",
   "execution_count": null,
   "metadata": {},
   "outputs": [
    {
     "name": "stdout",
     "output_type": "stream",
     "text": [
      "[[0, 2], [3, 4]]\n",
      "[[0, 2], [3, 4]]\n",
      "[[1, 2], [3, 4]]\n",
      "[[0, 2], [3, 4]]\n"
     ]
    }
   ],
   "source": [
    "# 如果串列中的元素是可變的，那麼串列間還是會互相影響\n",
    "a = [[1, 2], [3, 4]]\n",
    "b = a.copy()\n",
    "b[0][0] = 0\n",
    "print(a)\n",
    "print(b)\n",
    "\n",
    "# 使用 deepcopy( ) 來複製串列\n",
    "import copy\n",
    "a = [[1, 2], [3, 4]]\n",
    "b = copy.deepcopy(a)\n",
    "b[0][0] = 0\n",
    "print(a)\n",
    "print(b)"
   ]
  },
  {
   "cell_type": "code",
   "execution_count": null,
   "metadata": {},
   "outputs": [
    {
     "name": "stdout",
     "output_type": "stream",
     "text": [
      "{'msycomtw': '123456141', 'steve1211': '654321', 'pp0p1123': '987654'}\n",
      "{'msycomtw': '123456', 'steve1211': '654321', 'pp0p1123': '987654'}\n"
     ]
    }
   ],
   "source": [
    "# 用 .copy() 來複製一份字典\n",
    "user = {\"msycomtw\": \"123456141\", \"steve1211\": \"654321\", \"pp0p1123\": \"987654\"}\n",
    "user_revise = user.copy()\n",
    "user_revise[\"msycomtw\"] = \"123456\"\n",
    "print(user)\n",
    "print(user_revise)"
   ]
  },
  {
   "cell_type": "code",
   "execution_count": null,
   "metadata": {},
   "outputs": [
    {
     "name": "stdout",
     "output_type": "stream",
     "text": [
      "{'msycomtw': [1, 2, 3], 'steve1211': '654321', 'pp0p1123': '987654'}\n",
      "{'msycomtw': [4, 5, 6], 'steve1211': '654321', 'pp0p1123': '987654'}\n"
     ]
    }
   ],
   "source": [
    "# 用 .copy() 來複製一份字典\n",
    "user = {\"msycomtw\": [1,2,3], \"steve1211\": \"654321\", \"pp0p1123\": \"987654\"}\n",
    "user_revise = user.copy()\n",
    "user_revise[\"msycomtw\"] = [4,5,6]\n",
    "print(user)\n",
    "print(user_revise)"
   ]
  },
  {
   "cell_type": "code",
   "execution_count": null,
   "metadata": {},
   "outputs": [
    {
     "name": "stdout",
     "output_type": "stream",
     "text": [
      "{'P': 1, 'n': 4, 'e': 1, 'u': 2, 'm': 2, 'o': 9, 'l': 3, 't': 1, 'r': 2, 'a': 2, 'i': 6, 'c': 6, 's': 4, 'p': 1, 'v': 1}\n"
     ]
    }
   ],
   "source": [
    "# 字典生成式\n",
    "words = \"Pneumonoultramicroscopicsilicovolcanoconiosis\"\n",
    "letter_count = {letter: words.count(letter) for letter in words}\n",
    "print(letter_count)"
   ]
  },
  {
   "cell_type": "code",
   "execution_count": null,
   "metadata": {},
   "outputs": [
    {
     "name": "stdout",
     "output_type": "stream",
     "text": [
      "{'P': 1, 'n': 4, 'e': 1, 'u': 2, 'm': 2, 'o': 9, 'l': 3, 't': 1, 'r': 2, 'a': 2, 'i': 6, 'c': 6, 's': 4, 'p': 1, 'v': 1}\n"
     ]
    }
   ],
   "source": [
    "words = \"Pneumonoultramicroscopicsilicovolcanoconiosis\"\n",
    "letter_count = {}\n",
    "\n",
    "for letter in words:\n",
    "    if letter in letter_count:\n",
    "        letter_count[letter] += 1\n",
    "    else:\n",
    "        letter_count[letter] = 1\n",
    "\n",
    "print(letter_count)\n"
   ]
  },
  {
   "cell_type": "code",
   "execution_count": null,
   "metadata": {},
   "outputs": [
    {
     "name": "stdout",
     "output_type": "stream",
     "text": [
      "set()\n"
     ]
    }
   ],
   "source": [
    "# 用 set 建立集合\n",
    "empty_set = set()\n",
    "print(empty_set)"
   ]
  },
  {
   "cell_type": "code",
   "execution_count": null,
   "metadata": {},
   "outputs": [
    {
     "name": "stdout",
     "output_type": "stream",
     "text": [
      "{'a', 'b', 'd'}\n"
     ]
    }
   ],
   "source": [
    "# set 可以用來將可迭代物件的重複值去除\n",
    "words = \"aabdbabdbababdbabdabdba\"\n",
    "words_set = set(words)\n",
    "print(words_set)"
   ]
  },
  {
   "cell_type": "code",
   "execution_count": null,
   "metadata": {},
   "outputs": [
    {
     "name": "stdout",
     "output_type": "stream",
     "text": [
      "{0, 1, -1}\n"
     ]
    }
   ],
   "source": [
    "# set 可以用來將可迭代物件的重複值去除\n",
    "number = [0, 1, 0, 0, -1, 1, 1, 0, -1, 0]\n",
    "number_set = set(number)\n",
    "print(number_set)"
   ]
  },
  {
   "cell_type": "code",
   "execution_count": null,
   "metadata": {},
   "outputs": [
    {
     "name": "stdout",
     "output_type": "stream",
     "text": [
      "5\n"
     ]
    }
   ],
   "source": [
    "s = {1, 2, 3, 4, 5}\n",
    "print(len(s))"
   ]
  },
  {
   "cell_type": "code",
   "execution_count": null,
   "metadata": {},
   "outputs": [
    {
     "name": "stdout",
     "output_type": "stream",
     "text": [
      "1\n",
      "2\n",
      "3\n",
      "4\n",
      "5\n"
     ]
    }
   ],
   "source": [
    "# set 可用 for 迴圈來迭代\n",
    "s = {1, 2, 3, 4, 5}\n",
    "for i in s:\n",
    "    print(i)"
   ]
  },
  {
   "cell_type": "code",
   "execution_count": null,
   "metadata": {},
   "outputs": [
    {
     "name": "stdout",
     "output_type": "stream",
     "text": [
      "QQㄋㄟㄋㄟ好喝到咩噗茶\n",
      "百香QQ綠茶\n",
      "百香QQ綠茶\n"
     ]
    }
   ],
   "source": [
    "# 用 in 來檢查集合中是否有某個元素\n",
    "drinks = {\n",
    "    \"QQㄋㄟㄋㄟ好喝到咩噗茶\": {\"珍珠\",\"紅茶\",\"鮮奶\"},\n",
    "    \"紅茶拿鐵\": {\"紅茶\",\"鮮奶\"},\n",
    "    \"百香QQ綠茶\": {\"綠茶\",\"百香果肉\",\"珍珠\",\"椰果\"},\n",
    "    \"青檸冷萃\": {\"檸檬汁\",\"綠茶\",\"檸檬片\"}\n",
    "}\n",
    "\n",
    "for drink, content in drinks.items():\n",
    "    if \"珍珠\" in content:\n",
    "        print(drink)\n",
    "\n",
    "for drink, content in drinks.items():\n",
    "    if \"珍珠\" in content and \"鮮奶\" not in content:\n",
    "        print(drink)"
   ]
  },
  {
   "cell_type": "code",
   "execution_count": null,
   "metadata": {},
   "outputs": [
    {
     "name": "stdout",
     "output_type": "stream",
     "text": [
      "True\n"
     ]
    }
   ],
   "source": [
    "# 用 in 來檢查字典中是否有某個鍵\n",
    "user = {\"msycomtw\": \"123456141\", \"steve1211\": \"654321\", \"pp0p1123\": \"987654\"}\n",
    "print(\"msycomtw\" in user)"
   ]
  },
  {
   "cell_type": "code",
   "execution_count": null,
   "metadata": {},
   "outputs": [
    {
     "name": "stdout",
     "output_type": "stream",
     "text": [
      "{4, 5}\n",
      "{4, 5}\n",
      "set()\n",
      "False\n"
     ]
    }
   ],
   "source": [
    "# 交集\n",
    "set_1 = {1, 2, 3, 4, 5}\n",
    "set_2 = {4, 5, 6, 7, 8}\n",
    "print(set_1 & set_2)\n",
    "print(set_1.intersection(set_2))\n",
    "\n",
    "# 如果沒有交集，則回傳空集合\n",
    "set_1 = {1, 2, 3, 4, 5}\n",
    "set_2 = {6, 7, 8}\n",
    "print(set_1 & set_2)\n",
    "print(bool(set_1 & set_2)) # 空集合會被當成 False"
   ]
  },
  {
   "cell_type": "code",
   "execution_count": null,
   "metadata": {},
   "outputs": [
    {
     "name": "stdout",
     "output_type": "stream",
     "text": [
      "{1, 2, 3, 4, 5, 6, 7, 8}\n",
      "{1, 2, 3, 4, 5, 6, 7, 8}\n"
     ]
    }
   ],
   "source": [
    "# 聯集\n",
    "set_1 = {1, 2, 3, 4, 5}\n",
    "set_2 = {4, 5, 6, 7, 8}\n",
    "print(set_1 | set_2)\n",
    "print(set_1.union(set_2))"
   ]
  },
  {
   "cell_type": "code",
   "execution_count": null,
   "metadata": {},
   "outputs": [
    {
     "name": "stdout",
     "output_type": "stream",
     "text": [
      "{1, 2, 3}\n",
      "{8, 6, 7}\n"
     ]
    }
   ],
   "source": [
    "# 差集\n",
    "set_1 = {1, 2, 3, 4, 5}\n",
    "set_2 = {4, 5, 6, 7, 8}\n",
    "print(set_1 - set_2)\n",
    "print(set_2.difference(set_1))"
   ]
  },
  {
   "cell_type": "code",
   "execution_count": null,
   "metadata": {},
   "outputs": [
    {
     "name": "stdout",
     "output_type": "stream",
     "text": [
      "{1, 2, 3, 6, 7, 8}\n",
      "{1, 2, 3, 6, 7, 8}\n"
     ]
    }
   ],
   "source": [
    "# 互斥或\n",
    "set_1 = {1, 2, 3, 4, 5}\n",
    "set_2 = {4, 5, 6, 7, 8}\n",
    "print(set_1 ^ set_2)\n",
    "print(set_1.symmetric_difference(set_2))"
   ]
  },
  {
   "cell_type": "code",
   "execution_count": null,
   "metadata": {},
   "outputs": [
    {
     "name": "stdout",
     "output_type": "stream",
     "text": [
      "True\n",
      "True\n",
      "True\n",
      "True\n",
      "True\n",
      "True\n"
     ]
    }
   ],
   "source": [
    "# 集合的比較\n",
    "set_1 = {1, 2, 3}\n",
    "set_2 = {1, 2, 3, 4, 5}\n",
    "print(set_1 <= set_2) # 子集合\n",
    "print(set_1.issubset(set_2)) # 子集合\n",
    "print(set_1 <= set_1) # 所有的集合都是自己的子集合\n",
    "print(set_1 < set_2) # 真子集合\n",
    "print(set_2 >= set_1) # 超集合\n",
    "print(set_2 > set_1) # 真超集合"
   ]
  },
  {
   "cell_type": "code",
   "execution_count": null,
   "metadata": {},
   "outputs": [
    {
     "name": "stdout",
     "output_type": "stream",
     "text": [
      "{1, 3, 5, 7, 9, 11, 13, 15, 17, 19, 21, 23, 25, 27, 29, 31, 33, 35, 37, 39, 41, 43, 45, 47, 49, 51, 53, 55, 57, 59, 61, 63, 65, 67, 69, 71, 73, 75, 77, 79, 81, 83, 85, 87, 89, 91, 93, 95, 97, 99, 101, 103, 105, 107, 109, 111, 113, 115, 117, 119, 121, 123, 125, 127, 129, 131, 133, 135, 137, 139, 141, 143, 145, 147, 149, 151, 153, 155, 157, 159, 161, 163, 165, 167, 169, 171, 173, 175, 177, 179, 181, 183, 185, 187, 189, 191, 193, 195, 197, 199}\n"
     ]
    }
   ],
   "source": [
    "# 集合的生成式\n",
    "odd_number = {2*n+1 for n in range(100)}\n",
    "print(odd_number)"
   ]
  },
  {
   "cell_type": "code",
   "execution_count": null,
   "metadata": {},
   "outputs": [
    {
     "name": "stdout",
     "output_type": "stream",
     "text": [
      "frozenset({1, 2, 3, 4, 5})\n"
     ]
    },
    {
     "ename": "AttributeError",
     "evalue": "'frozenset' object has no attribute 'remove'",
     "output_type": "error",
     "traceback": [
      "\u001b[1;31m---------------------------------------------------------------------------\u001b[0m",
      "\u001b[1;31mAttributeError\u001b[0m                            Traceback (most recent call last)",
      "\u001b[1;32mc:\\Users\\Tim\\Desktop\\test.ipynb 儲存格 131\u001b[0m line \u001b[0;36m5\n\u001b[0;32m      <a href='vscode-notebook-cell:/c%3A/Users/Tim/Desktop/test.ipynb#Y245sZmlsZQ%3D%3D?line=2'>3</a>\u001b[0m frozen_set \u001b[39m=\u001b[39m \u001b[39mfrozenset\u001b[39m(original_set)\n\u001b[0;32m      <a href='vscode-notebook-cell:/c%3A/Users/Tim/Desktop/test.ipynb#Y245sZmlsZQ%3D%3D?line=3'>4</a>\u001b[0m \u001b[39mprint\u001b[39m(frozen_set)\n\u001b[1;32m----> <a href='vscode-notebook-cell:/c%3A/Users/Tim/Desktop/test.ipynb#Y245sZmlsZQ%3D%3D?line=4'>5</a>\u001b[0m frozen_set\u001b[39m.\u001b[39;49mremove(\u001b[39m1\u001b[39m) \u001b[39m# 會報錯，因為 frozen_set \u001b[39;00m\n\u001b[0;32m      <a href='vscode-notebook-cell:/c%3A/Users/Tim/Desktop/test.ipynb#Y245sZmlsZQ%3D%3D?line=5'>6</a>\u001b[0m \u001b[39mprint\u001b[39m(frozen_set)\n",
      "\u001b[1;31mAttributeError\u001b[0m: 'frozenset' object has no attribute 'remove'"
     ]
    }
   ],
   "source": [
    "# 用 frozenset() 來建立不可變的集合\n",
    "original_set = [1, 2, 3, 4, 5]\n",
    "frozen_set = frozenset(original_set)\n",
    "print(frozen_set)\n",
    "frozen_set.remove(1) # 會報錯，因為 frozen_set \n",
    "print(frozen_set)"
   ]
  },
  {
   "cell_type": "code",
   "execution_count": null,
   "metadata": {},
   "outputs": [
    {
     "name": "stdout",
     "output_type": "stream",
     "text": [
      "這不是整數欸，我不想處理~\n",
      "1，是一個奇數\n",
      "2，是一個偶數\n",
      "2，是一個偶數\n",
      "這不是整數欸，我不想處理~\n",
      "掰掰！\n"
     ]
    }
   ],
   "source": [
    "# 用 continue 跳過一次循環，直接進入下一次循環。\n",
    "number = 0\n",
    "while True:\n",
    "    number = input(\"請輸入一個數字[輸入 q 離開]:\")\n",
    "    if number == \"q\":\n",
    "        print(\"掰掰！\")\n",
    "        break\n",
    "    \n",
    "    if number.isdigit() == False:\n",
    "        print(\"這不是整數欸，我不想處理~\")\n",
    "        continue\n",
    "    \n",
    "    if int(number) % 2 == 0:\n",
    "        print(f\"{int(number)}，是一個偶數\")\n",
    "    else:\n",
    "        print(f\"{int(number)}，是一個奇數\")"
   ]
  },
  {
   "cell_type": "code",
   "execution_count": null,
   "metadata": {},
   "outputs": [
    {
     "name": "stdout",
     "output_type": "stream",
     "text": [
      "QQㄋㄟㄋㄟ好喝到咩噗茶\n",
      "百香QQ綠茶\n",
      "百香QQ綠茶\n"
     ]
    }
   ],
   "source": [
    "# 用 in 來檢查集合中是否有某個元素\n",
    "drinks = {\n",
    "    \"QQㄋㄟㄋㄟ好喝到咩噗茶\": {\"珍珠\",\"紅茶\",\"鮮奶\"},\n",
    "    \"紅茶拿鐵\": {\"紅茶\",\"鮮奶\"},\n",
    "    \"百香QQ綠茶\": {\"綠茶\",\"百香果肉\",\"珍珠\",\"椰果\"},\n",
    "    \"青檸冷萃\": {\"檸檬汁\",\"綠茶\",\"檸檬片\"}\n",
    "}\n",
    "\n",
    "for drink, content in drinks.items():\n",
    "    if \"珍珠\" in content:\n",
    "        print(drink)\n",
    "\n",
    "for drink, content in drinks.items():\n",
    "    if \"珍珠\" in content and \"鮮奶\" not in content:\n",
    "        print(drink)"
   ]
  },
  {
   "cell_type": "code",
   "execution_count": null,
   "metadata": {},
   "outputs": [
    {
     "data": {
      "text/plain": [
       "['__breakpointhook__',\n",
       " '__displayhook__',\n",
       " '__doc__',\n",
       " '__excepthook__',\n",
       " '__interactivehook__',\n",
       " '__loader__',\n",
       " '__name__',\n",
       " '__package__',\n",
       " '__spec__',\n",
       " '__stderr__',\n",
       " '__stdin__',\n",
       " '__stdout__',\n",
       " '__unraisablehook__',\n",
       " '_base_executable',\n",
       " '_clear_type_cache',\n",
       " '_current_exceptions',\n",
       " '_current_frames',\n",
       " '_debugmallocstats',\n",
       " '_enablelegacywindowsfsencoding',\n",
       " '_framework',\n",
       " '_getframe',\n",
       " '_getframemodulename',\n",
       " '_git',\n",
       " '_home',\n",
       " '_setprofileallthreads',\n",
       " '_settraceallthreads',\n",
       " '_stdlib_dir',\n",
       " '_vpath',\n",
       " '_xoptions',\n",
       " 'activate_stack_trampoline',\n",
       " 'addaudithook',\n",
       " 'api_version',\n",
       " 'argv',\n",
       " 'audit',\n",
       " 'base_exec_prefix',\n",
       " 'base_prefix',\n",
       " 'breakpointhook',\n",
       " 'builtin_module_names',\n",
       " 'byteorder',\n",
       " 'call_tracing',\n",
       " 'copyright',\n",
       " 'deactivate_stack_trampoline',\n",
       " 'displayhook',\n",
       " 'dllhandle',\n",
       " 'dont_write_bytecode',\n",
       " 'exc_info',\n",
       " 'excepthook',\n",
       " 'exception',\n",
       " 'exec_prefix',\n",
       " 'executable',\n",
       " 'exit',\n",
       " 'flags',\n",
       " 'float_info',\n",
       " 'float_repr_style',\n",
       " 'get_asyncgen_hooks',\n",
       " 'get_coroutine_origin_tracking_depth',\n",
       " 'get_int_max_str_digits',\n",
       " 'getallocatedblocks',\n",
       " 'getdefaultencoding',\n",
       " 'getfilesystemencodeerrors',\n",
       " 'getfilesystemencoding',\n",
       " 'getprofile',\n",
       " 'getrecursionlimit',\n",
       " 'getrefcount',\n",
       " 'getsizeof',\n",
       " 'getswitchinterval',\n",
       " 'gettrace',\n",
       " 'getunicodeinternedsize',\n",
       " 'getwindowsversion',\n",
       " 'hash_info',\n",
       " 'hexversion',\n",
       " 'implementation',\n",
       " 'int_info',\n",
       " 'intern',\n",
       " 'is_finalizing',\n",
       " 'is_stack_trampoline_active',\n",
       " 'last_traceback',\n",
       " 'last_type',\n",
       " 'last_value',\n",
       " 'maxsize',\n",
       " 'maxunicode',\n",
       " 'meta_path',\n",
       " 'modules',\n",
       " 'monitoring',\n",
       " 'orig_argv',\n",
       " 'path',\n",
       " 'path_hooks',\n",
       " 'path_importer_cache',\n",
       " 'platform',\n",
       " 'platlibdir',\n",
       " 'prefix',\n",
       " 'ps1',\n",
       " 'ps2',\n",
       " 'ps3',\n",
       " 'pycache_prefix',\n",
       " 'set_asyncgen_hooks',\n",
       " 'set_coroutine_origin_tracking_depth',\n",
       " 'set_int_max_str_digits',\n",
       " 'setprofile',\n",
       " 'setrecursionlimit',\n",
       " 'setswitchinterval',\n",
       " 'settrace',\n",
       " 'stderr',\n",
       " 'stdin',\n",
       " 'stdlib_module_names',\n",
       " 'stdout',\n",
       " 'thread_info',\n",
       " 'unraisablehook',\n",
       " 'version',\n",
       " 'version_info',\n",
       " 'warnoptions',\n",
       " 'winver']"
      ]
     },
     "execution_count": 5,
     "metadata": {},
     "output_type": "execute_result"
    }
   ],
   "source": [
    "import sys\n",
    "dir(sys)\n"
   ]
  },
  {
   "cell_type": "code",
   "execution_count": null,
   "metadata": {},
   "outputs": [
    {
     "name": "stdout",
     "output_type": "stream",
     "text": [
      "同意!\n"
     ]
    }
   ],
   "source": [
    "# 用 return 設計函式的回傳值\n",
    "def agree():\n",
    "    return True\n",
    "\n",
    "if agree():\n",
    "    print('同意!')\n",
    "else:\n",
    "    print('不同意!')"
   ]
  },
  {
   "cell_type": "code",
   "execution_count": null,
   "metadata": {},
   "outputs": [
    {
     "name": "stdout",
     "output_type": "stream",
     "text": [
      "white\n",
      "red\n",
      "big\n",
      "white\n",
      "black\n"
     ]
    }
   ],
   "source": [
    "# 定義新類別\n",
    "class Cup():\n",
    "    color = \"white\"\n",
    "\n",
    "# 物件會擁有類別的所有屬性\n",
    "my_cup = Cup()\n",
    "print(my_cup.color)\n",
    "\n",
    "# 你可以修改「物件屬性」\n",
    "my_cup.color = \"red\"\n",
    "print(my_cup.color)\n",
    "\n",
    "# 或是新增「物件屬性」\n",
    "my_cup.size = \"big\"\n",
    "print(my_cup.size)\n",
    "\n",
    "# 「物件屬性」的新增與修改，都與「類別屬性」無關\n",
    "print(Cup.color)\n",
    "# print(Cup.size) # Cup 不會有 size 屬性\n",
    "\n",
    "# 但是如果你修改了「類別屬性」，那麼接下來所有新生成的物件，其「物件屬性」都會跟著變。\n",
    "Cup.color = \"black\"\n",
    "new_cup = Cup()\n",
    "print(new_cup.color)"
   ]
  },
  {
   "cell_type": "code",
   "execution_count": null,
   "metadata": {},
   "outputs": [
    {
     "name": "stdout",
     "output_type": "stream",
     "text": [
      "90\n"
     ]
    }
   ],
   "source": [
    "class Cup():\n",
    "    water = 100\n",
    "    \n",
    "\t\t# 身為一個杯子，要能倒出自己所盛裝的液體，讓杯中的液體減少。\n",
    "    def pour(self, water):\n",
    "        self.water -= water\n",
    "        \n",
    "my_cup = Cup()\n",
    "my_cup.pour(10)\n",
    "print(my_cup.water)"
   ]
  },
  {
   "cell_type": "code",
   "execution_count": null,
   "metadata": {},
   "outputs": [
    {
     "name": "stdout",
     "output_type": "stream",
     "text": [
      "white\n",
      "red\n",
      "red\n"
     ]
    }
   ],
   "source": [
    "class Cup():\n",
    "    water = 0\n",
    "    color = \"white\"\n",
    "    \n",
    "    # 實例方法: 可以用來修改物件的狀態\n",
    "    def fill(self, input):\n",
    "        self.water += input\n",
    "        \n",
    "    # 利用 __class__ 來修改類別屬性\n",
    "    def change_default_color(self, color):\n",
    "        self.__class__.color = color\n",
    "\n",
    "my_cup = Cup()\n",
    "print(my_cup.color)\n",
    "my_cup.change_default_color(\"red\")\n",
    "print(my_cup.color)\n",
    "\n",
    "other_cup = Cup()\n",
    "print(other_cup.color)"
   ]
  },
  {
   "cell_type": "code",
   "execution_count": null,
   "metadata": {},
   "outputs": [
    {
     "name": "stdout",
     "output_type": "stream",
     "text": [
      "blue\n",
      "white\n",
      "blue\n",
      "red\n"
     ]
    }
   ],
   "source": [
    "class Cup():\n",
    "    color = \"white\"\n",
    "    \n",
    "    # 類別方法: 可以用來修改類別屬性\n",
    "    @classmethod\n",
    "    def change_default_color(cls, color):\n",
    "        cls.color = color\n",
    "\n",
    "my_cup = Cup()\n",
    "my_cup.color = \"blue\"\n",
    "print(my_cup.color)\n",
    "print(Cup.color)\n",
    "\n",
    "my_cup.change_default_color(\"red\")\n",
    "print(my_cup.color)\n",
    "print(Cup.color)"
   ]
  },
  {
   "cell_type": "code",
   "execution_count": null,
   "metadata": {},
   "outputs": [
    {
     "name": "stdout",
     "output_type": "stream",
     "text": [
      "value1\n",
      "value2\n"
     ]
    }
   ],
   "source": [
    "class MyClass:\n",
    "    def __init__(self, parameter1, parameter2):\n",
    "        self.parameter1 = parameter1\n",
    "        self.parameter2 = parameter2\n",
    "\n",
    "# 创建类的实例并传递参数\n",
    "my_instance = MyClass(\"value1\", \"value2\")\n",
    "\n",
    "# 访问实例的属性\n",
    "print(my_instance.parameter1)\n",
    "print(my_instance.parameter2)\n"
   ]
  },
  {
   "cell_type": "code",
   "execution_count": null,
   "metadata": {},
   "outputs": [
    {
     "name": "stdout",
     "output_type": "stream",
     "text": [
      "1\n",
      "3\n"
     ]
    }
   ],
   "source": [
    "s=1\n",
    "\n",
    "def func(a):\n",
    "    s=2\n",
    "    a=4\n",
    "func(s)\n",
    "print(s)\n",
    "s=3\n",
    "func(s)\n",
    "print(s)    "
   ]
  },
  {
   "cell_type": "code",
   "execution_count": null,
   "metadata": {},
   "outputs": [
    {
     "name": "stdout",
     "output_type": "stream",
     "text": [
      "10\n"
     ]
    }
   ],
   "source": [
    "x=12\n",
    "if x>10:\n",
    "    x=11\n",
    "elif x<12:\n",
    "    x=10\n",
    "    if x%10 ==0:\n",
    "        x=13\n",
    "    else:\n",
    "        x=14\n",
    "if x==11:\n",
    "    x=10\n",
    "elif x==13:\n",
    "    x=14\n",
    "if x%10 ==4:\n",
    "    x=13\n",
    "elif x>13:\n",
    "    x=12\n",
    "    \n",
    "print(x)"
   ]
  },
  {
   "cell_type": "code",
   "execution_count": null,
   "metadata": {},
   "outputs": [
    {
     "name": "stdout",
     "output_type": "stream",
     "text": [
      "[7, 4, 8, 5, 9, 6, 3, 0, 0, 0]\n"
     ]
    }
   ],
   "source": [
    "arr=[0,0,0,0,0,0,0,0,0,0]\n",
    "for i in range(0,10):\n",
    "    arr[(i+i)%7]=i\n",
    "\n",
    "print(arr)"
   ]
  },
  {
   "cell_type": "code",
   "execution_count": null,
   "metadata": {},
   "outputs": [
    {
     "name": "stdout",
     "output_type": "stream",
     "text": [
      "6\n"
     ]
    }
   ],
   "source": [
    "a=(6) % 7\n",
    "print(a)"
   ]
  },
  {
   "cell_type": "code",
   "execution_count": null,
   "metadata": {},
   "outputs": [
    {
     "name": "stdout",
     "output_type": "stream",
     "text": [
      "80\n"
     ]
    }
   ],
   "source": [
    "def fun (a,b):\n",
    "    s=0\n",
    "    if a>b:\n",
    "        t=a\n",
    "        a=b\n",
    "        b=t\n",
    "    for i in range(0,a):\n",
    "        for j in range(i,b):\n",
    "            s+=j\n",
    "    return s\n",
    "\n",
    "print(fun(7,4))"
   ]
  },
  {
   "cell_type": "code",
   "execution_count": null,
   "metadata": {},
   "outputs": [
    {
     "name": "stdout",
     "output_type": "stream",
     "text": [
      "80\n"
     ]
    }
   ],
   "source": [
    "def fun(a, b):\n",
    "    s = 0\n",
    "    if a > b:\n",
    "        t = a\n",
    "        a = b\n",
    "        b = t\n",
    "    for i in range(0, a):\n",
    "        for j in range(i, b):\n",
    "            s += j\n",
    "    return s\n",
    "\n",
    "print(fun(7, 4))\n"
   ]
  },
  {
   "cell_type": "code",
   "execution_count": null,
   "metadata": {},
   "outputs": [
    {
     "name": "stdout",
     "output_type": "stream",
     "text": [
      "80\n"
     ]
    }
   ],
   "source": [
    "def fun(a, b):\n",
    "    s = 0\n",
    "    if a > b:\n",
    "        t = a\n",
    "        a = b\n",
    "        b = t\n",
    "    for i in range(0, a):\n",
    "        for j in range(i, b):\n",
    "            s += j\n",
    "    return s\n",
    "\n",
    "print(fun(7, 4))\n"
   ]
  },
  {
   "cell_type": "code",
   "execution_count": null,
   "metadata": {},
   "outputs": [
    {
     "name": "stdout",
     "output_type": "stream",
     "text": [
      "31\n",
      "None\n"
     ]
    }
   ],
   "source": [
    "def R(x,y,s):\n",
    "    t=int((x+y)/2)\n",
    "    s=s+t\n",
    "    if x<y:\n",
    "        if 5>=t:\n",
    "            R(t,y,s)\n",
    "        else:\n",
    "            R(x,y-5,s)\n",
    "    else:\n",
    "        print(s)\n",
    "        \n",
    "print(R(3,17,0))"
   ]
  },
  {
   "cell_type": "code",
   "execution_count": null,
   "metadata": {},
   "outputs": [
    {
     "name": "stdout",
     "output_type": "stream",
     "text": [
      "100\n",
      "1\n"
     ]
    }
   ],
   "source": [
    "a=100\n",
    "\n",
    "def fn():\n",
    "   global a\n",
    "   a=1\n",
    "    \n",
    "print(a)\n",
    "fn()\n",
    "print(a)"
   ]
  },
  {
   "cell_type": "code",
   "execution_count": null,
   "metadata": {},
   "outputs": [
    {
     "name": "stdout",
     "output_type": "stream",
     "text": [
      "4950\n"
     ]
    }
   ],
   "source": [
    "print(sum(range(100)))"
   ]
  },
  {
   "cell_type": "code",
   "execution_count": null,
   "metadata": {},
   "outputs": [
    {
     "name": "stdout",
     "output_type": "stream",
     "text": [
      "[11  7  3]\n"
     ]
    }
   ],
   "source": [
    "import numpy as np\n",
    "np1=np.array([6,5,4,3,2,1])\n",
    "np2=np1.reshape(3,2)\n",
    "print(np2.sum(axis=1))"
   ]
  },
  {
   "cell_type": "code",
   "execution_count": null,
   "metadata": {},
   "outputs": [
    {
     "name": "stdout",
     "output_type": "stream",
     "text": [
      "125\n"
     ]
    }
   ],
   "source": [
    "def a(v1):\n",
    "    def b(v2):\n",
    "        return v1 **v2\n",
    "    return b\n",
    "\n",
    "a1=a(5)\n",
    "print(a1(3))"
   ]
  },
  {
   "cell_type": "code",
   "execution_count": null,
   "metadata": {},
   "outputs": [
    {
     "name": "stdout",
     "output_type": "stream",
     "text": [
      "5\n",
      "20\n",
      "25\n",
      "10\n",
      "40\n",
      "100\n"
     ]
    }
   ],
   "source": [
    "# 類別-正方形(Square)\n",
    "class Square():\n",
    "    def __init__(self, side):\n",
    "        self.__side = side\n",
    "    \n",
    "    @property  \n",
    "    def side(self):\n",
    "        return self.__side\n",
    "    \n",
    "    @side.setter\n",
    "    def side(self, side):\n",
    "        self.__side = side\n",
    "    \n",
    "    @property\n",
    "    def perimeter(self):\n",
    "        return self.__side * 4\n",
    "    \n",
    "    @property\n",
    "    def area(self):\n",
    "        return self.__side ** 2\n",
    "    \n",
    "my_square = Square(5)\n",
    "print(my_square.side)\n",
    "print(my_square.perimeter)\n",
    "print(my_square.area)\n",
    "\n",
    "# 修改屬性\n",
    "my_square.side = 10\n",
    "print(my_square.side)\n",
    "print(my_square.perimeter)\n",
    "print(my_square.area)"
   ]
  },
  {
   "cell_type": "code",
   "execution_count": null,
   "metadata": {},
   "outputs": [
    {
     "name": "stdout",
     "output_type": "stream",
     "text": [
      "5\n",
      "20\n",
      "25\n"
     ]
    }
   ],
   "source": [
    "# 類別-正方形(Square)\n",
    "class Square:\n",
    "    def __init__(self, side):\n",
    "        self.side = side\n",
    "        self.perimeter = side * 4\n",
    "        self.area = side ** 2\n",
    "        \n",
    "my_square = Square(5)\n",
    "print(my_square.side)\n",
    "print(my_square.perimeter)\n",
    "print(my_square.area)"
   ]
  },
  {
   "cell_type": "code",
   "execution_count": null,
   "metadata": {},
   "outputs": [
    {
     "name": "stdout",
     "output_type": "stream",
     "text": [
      "5\n",
      "20\n",
      "25\n",
      "5\n",
      "999\n",
      "0\n"
     ]
    }
   ],
   "source": [
    "# 類別-正方形(Square)\n",
    "class Square():\n",
    "    def __init__(self, side):\n",
    "        self.side = side\n",
    "        self.perimeter = side * 4\n",
    "        self.area = side ** 2\n",
    "        \n",
    "my_square = Square(5)\n",
    "print(my_square.side)\n",
    "print(my_square.perimeter)\n",
    "print(my_square.area)\n",
    "\n",
    "# 使用者竄改屬性\n",
    "my_square.perimeter = 999\n",
    "my_square.area = 0\n",
    "print(my_square.side)\n",
    "print(my_square.perimeter)\n",
    "print(my_square.area)"
   ]
  },
  {
   "cell_type": "code",
   "execution_count": null,
   "metadata": {},
   "outputs": [
    {
     "name": "stdout",
     "output_type": "stream",
     "text": [
      "5\n",
      "20\n",
      "25\n",
      "10\n",
      "40\n",
      "100\n"
     ]
    }
   ],
   "source": [
    "# 類別-正方形(Square)\n",
    "class Square():\n",
    "    def __init__(self, side):\n",
    "        self._side = side\n",
    "    \n",
    "    def set_side(self, side):\n",
    "        self._side = side\n",
    "        \n",
    "    def get_side(self):\n",
    "        return self._side\n",
    "    \n",
    "    def get_perimeter(self):\n",
    "        return self._side * 4\n",
    "    \n",
    "    def get_area(self):\n",
    "        return self._side ** 2\n",
    "    \n",
    "my_square = Square(5)\n",
    "print(my_square.get_side())\n",
    "print(my_square.get_perimeter())\n",
    "print(my_square.get_area())\n",
    "\n",
    "# 修改屬性\n",
    "my_square.set_side(10)\n",
    "print(my_square.get_side())\n",
    "print(my_square.get_perimeter())\n",
    "print(my_square.get_area())"
   ]
  },
  {
   "cell_type": "code",
   "execution_count": null,
   "metadata": {},
   "outputs": [
    {
     "name": "stdout",
     "output_type": "stream",
     "text": [
      "5\n",
      "20\n",
      "25\n",
      "10\n",
      "40\n",
      "100\n"
     ]
    }
   ],
   "source": [
    "# 類別-正方形(Square)\n",
    "class Square():\n",
    "    def __init__(self, side):\n",
    "        self.__side = side\n",
    "    \n",
    "    @property  \n",
    "    def side(self):\n",
    "        return self.__side\n",
    "    \n",
    "    @side.setter\n",
    "    def side(self, side):\n",
    "        self.__side = side\n",
    "    \n",
    "    @property\n",
    "    def perimeter(self):\n",
    "        return self.__side * 4\n",
    "    \n",
    "    @property\n",
    "    def area(self):\n",
    "        return self.__side ** 2\n",
    "    \n",
    "my_square = Square(5)\n",
    "print(my_square.side)\n",
    "print(my_square.perimeter)\n",
    "print(my_square.area)\n",
    "\n",
    "# 修改屬性\n",
    "my_square.side = 10\n",
    "print(my_square.side)\n",
    "print(my_square.perimeter)\n",
    "print(my_square.area)"
   ]
  },
  {
   "cell_type": "code",
   "execution_count": null,
   "metadata": {},
   "outputs": [
    {
     "name": "stdout",
     "output_type": "stream",
     "text": [
      "dog\n",
      "black\n",
      "Woof!\n"
     ]
    }
   ],
   "source": [
    "class Dog():\n",
    "    name = \"dog\"\n",
    "    color = \"black\"\n",
    "    def bark(self):\n",
    "        print(\"Woof!\")\n",
    "\n",
    "# 「哈士奇Husky」類別繼承了「狗Dog」這個類別的所有屬性和方法     \n",
    "class Husky(Dog):\n",
    "    pass\n",
    "\n",
    "my_dog = Husky()\n",
    "print(my_dog.name)\n",
    "print(my_dog.color)\n",
    "my_dog.bark()"
   ]
  },
  {
   "cell_type": "code",
   "execution_count": null,
   "metadata": {},
   "outputs": [
    {
     "name": "stdout",
     "output_type": "stream",
     "text": [
      "{0, 1, 3, 4, 6}\n"
     ]
    }
   ],
   "source": [
    "a=set(range(5))\n",
    "a.add(2)\n",
    "a.add(6)\n",
    "a.remove(2)\n",
    "\n",
    "print(a)"
   ]
  },
  {
   "cell_type": "code",
   "execution_count": null,
   "metadata": {},
   "outputs": [
    {
     "name": "stdout",
     "output_type": "stream",
     "text": [
      "25\n",
      "20\n"
     ]
    }
   ],
   "source": [
    "class Rectangle():\n",
    "    def __init__(self, width, height):\n",
    "        self.width = width\n",
    "        self.height = height\n",
    "        \n",
    "    @property\n",
    "    def perimeter(self):\n",
    "        return (self.width + self.height) * 2\n",
    "    \n",
    "    @property\n",
    "    def area(self):\n",
    "        return self.width * self.height\n",
    "    \n",
    "class Square(Rectangle):\n",
    "    def __init__(self, side):\n",
    "        # 在子類別中呼叫父類別的初始化方法\n",
    "        super().__init__(side, side)\n",
    "\n",
    "my_square = Square(5)\n",
    "print(my_square.area)\n",
    "print(my_square.perimeter)"
   ]
  },
  {
   "cell_type": "code",
   "execution_count": null,
   "metadata": {},
   "outputs": [
    {
     "name": "stdout",
     "output_type": "stream",
     "text": [
      "5\n",
      "20\n",
      "25\n",
      "10\n",
      "40\n",
      "100\n"
     ]
    }
   ],
   "source": [
    "# 類別-正方形(Square)\n",
    "class Square():\n",
    "    def __init__(self, side):\n",
    "        self.__side = side\n",
    "    \n",
    "    @property  \n",
    "    def side(self):\n",
    "        return self.__side\n",
    "    \n",
    "    @side.setter\n",
    "    def side(self, side):\n",
    "        self.__side = side\n",
    "    \n",
    "    @property\n",
    "    def perimeter(self):\n",
    "        return self.__side * 4\n",
    "    \n",
    "    @property\n",
    "    def area(self):\n",
    "\n",
    "\n",
    "# 修改屬性\n",
    "my_square.side = 10\n",
    "print(my_square.side)\n",
    "print(my_square.perimeter)\n",
    "print(my_square.area)"
   ]
  },
  {
   "cell_type": "code",
   "execution_count": null,
   "metadata": {},
   "outputs": [
    {
     "name": "stdout",
     "output_type": "stream",
     "text": [
      "False\n"
     ]
    }
   ],
   "source": [
    "def check_https_prefix(input_string):\n",
    "    # 檢視是否以 \"https://\" 開頭，不考慮大小寫\n",
    "    return input_string.startswith(\"https://\")\n",
    "\n",
    "# 測試函式\n",
    "user_input = input(\"請輸入一個字串：\")\n",
    "result = check_https_prefix(user_input)\n",
    "\n",
    "if result:\n",
    "    print(result)\n",
    "else:\n",
    "    print(result)\n"
   ]
  },
  {
   "cell_type": "code",
   "execution_count": null,
   "metadata": {},
   "outputs": [
    {
     "name": "stdout",
     "output_type": "stream",
     "text": [
      "False\n"
     ]
    }
   ],
   "source": [
    "def check_https_prefix(input_string):\n",
    "    # 檢視是否以 \"https://:\" 開頭，不考慮大小寫\n",
    "    return input_string.startswith(\"https://:\", 0, 8)\n",
    "\n",
    "# 測試函式\n",
    "user_input = input(\"請輸入一個字串：\")\n",
    "result = check_https_prefix(user_input)\n",
    "\n",
    "print(result)  # 直接印出 True 或 False\n"
   ]
  },
  {
   "cell_type": "code",
   "execution_count": null,
   "metadata": {},
   "outputs": [
    {
     "name": "stdout",
     "output_type": "stream",
     "text": [
      "True\n"
     ]
    }
   ],
   "source": [
    "def check_https_prefix(input_string):\n",
    "    # 檢視是否以 \"https://:\" 開頭，不考慮大小寫\n",
    "    return input_string.lower().startswith(\"https://\")\n",
    "\n",
    "# 測試函式\n",
    "user_input = input(\"請輸入一個字串：\")\n",
    "result = check_https_prefix(user_input)\n",
    "\n",
    "print(result)  # 直接印出 True 或 False\n"
   ]
  },
  {
   "cell_type": "code",
   "execution_count": null,
   "metadata": {},
   "outputs": [
    {
     "name": "stdout",
     "output_type": "stream",
     "text": [
      "False\n"
     ]
    }
   ],
   "source": [
    "def check_withdrawal_amount(amount):\n",
    "    # 檢查是否是 100 的倍數，大於等於 100，小於等於 10000\n",
    "    if amount % 100 == 0 and 100 <= amount <= 10000:\n",
    "        return True\n",
    "    else:\n",
    "        return False\n",
    "\n",
    "# 測試函式\n",
    "user_input = int(input(\"請輸入想要領取的金額：\"))\n",
    "result = check_withdrawal_amount(user_input)\n",
    "\n",
    "print(result)\n"
   ]
  },
  {
   "cell_type": "code",
   "execution_count": null,
   "metadata": {},
   "outputs": [
    {
     "name": "stdout",
     "output_type": "stream",
     "text": [
      "換行\n",
      "\n",
      "TAB\t\n",
      "雙引號\"\n",
      "斜線\\\n",
      "斜\n"
     ]
    }
   ],
   "source": [
    "text_1 = \"換行\\n\"\n",
    "text_2 = \"TAB\\t\"\n",
    "text_3 = \"雙引號\\\"\"\n",
    "text_4 = \"斜線\\\\\"\n",
    "text_5 = \"斜線\\b\"\n",
    "print(text_1)\n",
    "print(text_2)\n",
    "print(text_3)\n",
    "print(text_4)\n",
    "print(text_5)"
   ]
  },
  {
   "cell_type": "code",
   "execution_count": null,
   "metadata": {},
   "outputs": [
    {
     "name": "stdout",
     "output_type": "stream",
     "text": [
      "Apple,Banana,Orange\n"
     ]
    }
   ],
   "source": [
    "# 用 join() 將字串結合\n",
    "items = [\"Apple\", \"Banana\", \"Orange\"]\n",
    "print(\",\".join(items))"
   ]
  },
  {
   "cell_type": "code",
   "execution_count": null,
   "metadata": {},
   "outputs": [
    {
     "name": "stdout",
     "output_type": "stream",
     "text": [
      "I am a teacher. The duty of a teacher is to learn.\n",
      "I am a teacher. The duty of a student is to learn.\n"
     ]
    }
   ],
   "source": [
    "# 用 replace() 替換字串\n",
    "sentence = \"I am a student. The duty of a student is to learn.\"\n",
    "print(sentence.replace(\"student\", \"teacher\"))\n",
    "print(sentence.replace(\"student\", \"teacher\", 1))    # 第三個參數為替換次數"
   ]
  },
  {
   "cell_type": "code",
   "execution_count": null,
   "metadata": {},
   "outputs": [
    {
     "name": "stdout",
     "output_type": "stream",
     "text": [
      "15\n",
      "15\n",
      "48\n",
      "48\n"
     ]
    }
   ],
   "source": [
    "lyrics = \"\"\"上一篇文章被刪除後\n",
    "所有叛逆的字元\n",
    "決定不再讓空白 沈默\n",
    "我們比空氣更自由\n",
    "比時間還富有\n",
    "沒有文字 無需言語 就能溝通\"\"\"\n",
    "\n",
    "word = \"字\"\n",
    "print(lyrics.find(word))\n",
    "print(lyrics.index(word))\n",
    "\n",
    "print(lyrics.rfind(word)) # 找最後一次出現的 offset\n",
    "print(lyrics.rindex(word)) # 找最後一次出現的 offset"
   ]
  },
  {
   "cell_type": "code",
   "execution_count": null,
   "metadata": {},
   "outputs": [
    {
     "name": "stdout",
     "output_type": "stream",
     "text": [
      "True\n",
      "True\n"
     ]
    }
   ],
   "source": [
    "# 用 startwith()  ; 用 endswith() 檢查結尾\n",
    "user_input = \"!圖像生成 貓咪 翻滾 (彩色)\"\n",
    "print(user_input.startswith(\"!圖像生成\"))\n",
    "print(user_input.endswith(\"(彩色)\"))"
   ]
  },
  {
   "cell_type": "code",
   "execution_count": null,
   "metadata": {},
   "outputs": [
    {
     "name": "stdout",
     "output_type": "stream",
     "text": [
      "So this is me swallowing my pride\n",
      "So This Is Me Swallowing My Pride\n",
      "SO THIS IS ME SWALLOWING MY PRIDE\n",
      "so this is me swallowing my pride\n",
      "SO THIS IS ME SWALLOWING MY PRIDE\n"
     ]
    }
   ],
   "source": [
    "# 大小寫處理\n",
    "sentence = \"so this is me swallowing my pride\"\n",
    "print(sentence.capitalize()) # 首字大寫\n",
    "print(sentence.title()) # 每個單字的首字大寫\n",
    "print(sentence.upper()) # 全部大寫\n",
    "print(sentence.lower()) # 全部小寫\n",
    "print(sentence.swapcase()) # 大小寫互換"
   ]
  },
  {
   "cell_type": "code",
   "execution_count": null,
   "metadata": {},
   "outputs": [
    {
     "name": "stdout",
     "output_type": "stream",
     "text": [
      "0\n",
      "1\n",
      "2\n",
      "3\n",
      "4\n"
     ]
    }
   ],
   "source": [
    "# for 迴圈\n",
    "for i in range(5):\n",
    "    print(i)"
   ]
  },
  {
   "cell_type": "code",
   "execution_count": null,
   "metadata": {},
   "outputs": [
    {
     "name": "stdout",
     "output_type": "stream",
     "text": [
      "J\n",
      "u\n",
      "t\n",
      " \n",
      "d\n",
      "o\n",
      " \n",
      "i\n",
      "t\n",
      "!\n",
      "J\n",
      "u\n"
     ]
    }
   ],
   "source": [
    "# 我們一樣可以用 break 來中斷，或用 continue 來跳過迴圈。\n",
    "words = \"Just do it!\"\n",
    "for word in words:\n",
    "    if word == \"s\":\n",
    "        continue\n",
    "    print(word)\n",
    "    \n",
    "words = \"Just do it!\"\n",
    "for word in words:\n",
    "    if word == \"s\":\n",
    "        break\n",
    "    print(word)"
   ]
  },
  {
   "cell_type": "code",
   "execution_count": null,
   "metadata": {},
   "outputs": [
    {
     "name": "stdout",
     "output_type": "stream",
     "text": [
      "找到 9 了！\n"
     ]
    }
   ],
   "source": [
    "# 迴圈的 else 區塊\n",
    "# 這個區塊會在迴圈結束後執行，除非迴圈中有 break 被執行。\n",
    "numbers = \"123456787654346237239\"\n",
    "check_offset = 0\n",
    "while check_offset < len(numbers):\n",
    "    if numbers[check_offset] == \"9\":\n",
    "        print(\"找到 9 了！\")\n",
    "        break  \n",
    "    check_offset += 1\n",
    "else:\n",
    "    print(\"這個字串裡面沒有 9 唷！\")"
   ]
  },
  {
   "cell_type": "code",
   "execution_count": null,
   "metadata": {},
   "outputs": [
    {
     "name": "stdout",
     "output_type": "stream",
     "text": [
      "J\n",
      "u\n",
      "s\n",
      "t\n",
      " \n",
      "d\n",
      "o\n",
      " \n",
      "i\n",
      "t\n",
      "!\n",
      "沒有找到 a 唷！\n"
     ]
    }
   ],
   "source": [
    "# 用 else 區塊來處理for迴圈結束後的事情。\n",
    "words = \"Just do it!\"\n",
    "for word in words:\n",
    "    if word == \"a\":\n",
    "        break\n",
    "    print(word)\n",
    "else:\n",
    "    print(\"沒有找到 a 唷！\")"
   ]
  },
  {
   "cell_type": "code",
   "execution_count": null,
   "metadata": {},
   "outputs": [
    {
     "name": "stdout",
     "output_type": "stream",
     "text": [
      "[練習模式已啟用]\n",
      "[顯示好感度]\n"
     ]
    }
   ],
   "source": [
    "name = \"小美\"\n",
    "mode = \"練習模式\"\n",
    "\n",
    "while True:\n",
    "    # 輸入對話\n",
    "    user_input  = input(\"我: \")\n",
    "    \n",
    "    if user_input == \"q\":\n",
    "        break\n",
    "    \n",
    "    if user_input == \"練習模式\":\n",
    "        mode = \"練習模式\"\n",
    "        print(\"[練習模式已啟用]\")\n",
    "        continue\n",
    "    \n",
    "    if user_input == \"目前好感度\":\n",
    "        print(\"[顯示好感度]\")\n",
    "        continue\n",
    "    \n",
    "    print(f\"{name}: {user_input}\")"
   ]
  },
  {
   "cell_type": "code",
   "execution_count": null,
   "metadata": {},
   "outputs": [
    {
     "ename": "ModuleNotFoundError",
     "evalue": "No module named 'openai'",
     "output_type": "error",
     "traceback": [
      "\u001b[1;31m---------------------------------------------------------------------------\u001b[0m",
      "\u001b[1;31mModuleNotFoundError\u001b[0m                       Traceback (most recent call last)",
      "\u001b[1;32mc:\\Users\\Tim\\Desktop\\test.ipynb 儲存格 177\u001b[0m line \u001b[0;36m1\n\u001b[1;32m----> <a href='vscode-notebook-cell:/c%3A/Users/Tim/Desktop/test.ipynb#Y341sZmlsZQ%3D%3D?line=0'>1</a>\u001b[0m \u001b[39mimport\u001b[39;00m \u001b[39mopenai\u001b[39;00m\n\u001b[0;32m      <a href='vscode-notebook-cell:/c%3A/Users/Tim/Desktop/test.ipynb#Y341sZmlsZQ%3D%3D?line=1'>2</a>\u001b[0m openai\u001b[39m.\u001b[39mapi_key \u001b[39m=\u001b[39m \u001b[39m'\u001b[39m\u001b[39m<你的 API 金鑰>\u001b[39m\u001b[39m'\u001b[39m\n\u001b[0;32m      <a href='vscode-notebook-cell:/c%3A/Users/Tim/Desktop/test.ipynb#Y341sZmlsZQ%3D%3D?line=3'>4</a>\u001b[0m \u001b[39m# 設定參數\u001b[39;00m\n",
      "\u001b[1;31mModuleNotFoundError\u001b[0m: No module named 'openai'"
     ]
    }
   ],
   "source": [
    "import openai\n",
    "openai.api_key = '<你的 API 金鑰>'\n",
    "\n",
    "# 設定參數\n",
    "name = \"小美\"\n",
    "mode = \"練習模式\"\n",
    "\n",
    "# 初始化對話歷史\n",
    "history = \"\"\n",
    "\n",
    "while True:\n",
    "    # 輸入對話，並將輸入加入對話歷史\n",
    "    user_input  = input(\"我: \")\n",
    "    history += f\"我: {user_input}\\n{name}:\"\n",
    "    \n",
    "    # 模式切換\n",
    "    if user_input == \"q\":\n",
    "        break\n",
    "    \n",
    "    if user_input == \"練習模式\":\n",
    "        mode = \"練習模式\"\n",
    "        print(\"[練習模式已啟用]\")\n",
    "        continue\n",
    "    \n",
    "    if user_input == \"目前好感度\":\n",
    "        print(\"[顯示好感度]\")\n",
    "        continue\n",
    "    \n",
    "    # 練習模式功能\n",
    "    if mode == \"練習模式\":\n",
    "        \n",
    "        # 將歷史記錄與連同訊息一併輸入API\n",
    "        response = openai.ChatCompletion.create(\n",
    "        model=\"gpt-3.5-turbo\",\n",
    "        messages=[{\"role\": \"user\", \"content\": history}],  # 連同歷史記錄與客戶輸入\n",
    "        temperature = 0.8)\n",
    "        \n",
    "        # 取得AI的回應，並將回覆加入對話歷史\n",
    "        ai_msg = response.choices[0].message.content\n",
    "        history += f\"{ai_msg}\\n\"\n",
    "        \n",
    "        # 輸出AI的回應\n",
    "        print(f\"{name}: {ai_msg}\")"
   ]
  },
  {
   "cell_type": "code",
   "execution_count": null,
   "metadata": {},
   "outputs": [
    {
     "name": "stdout",
     "output_type": "stream",
     "text": [
      "[1, 2]\n",
      "[9, 8, 7, 6, 5, 4, 3, 2, 1]\n"
     ]
    }
   ],
   "source": [
    "# 可以用 slice 的方式取得串列中的元素，這些 slice 都不會改變原本的串列\n",
    "my_list = [1, 2, 3, 4, 5, 6, 7, 8, 9]\n",
    "print(my_list[0:2])\n",
    "print(my_list[::-1])"
   ]
  },
  {
   "cell_type": "code",
   "execution_count": null,
   "metadata": {},
   "outputs": [
    {
     "name": "stdout",
     "output_type": "stream",
     "text": [
      "['apple', 'cat', 'dog', 'egg']\n",
      "['apple', 'banana', 'cat', 'dog', 'egg']\n"
     ]
    }
   ],
   "source": [
    "# 用 .insert() 可以將元素加到串列的任何位置\n",
    "my_list = ['apple', 'cat', 'dog', 'egg']\n",
    "print(my_list)\n",
    "my_list.insert(1, 'banana')\n",
    "print(my_list)"
   ]
  },
  {
   "cell_type": "code",
   "execution_count": null,
   "metadata": {},
   "outputs": [
    {
     "name": "stdout",
     "output_type": "stream",
     "text": [
      "Jack\n",
      "['Steven', 'Ivy', 'Eva']\n"
     ]
    }
   ],
   "source": [
    "# 用 .pop() 來「取出」串列中的元素。\n",
    "members = [\"Steven\", \"Ivy\", \"Eva\", \"Jack\"]\n",
    "fired_member = members.pop()\n",
    "print(fired_member)\n",
    "print(members)"
   ]
  },
  {
   "cell_type": "code",
   "execution_count": null,
   "metadata": {},
   "outputs": [
    {
     "name": "stdout",
     "output_type": "stream",
     "text": [
      "Steven\n",
      "['Ivy', 'Eva', 'Jack']\n"
     ]
    }
   ],
   "source": [
    "# 如果想取出第一個元素，可以用 pop(0)。(FIFO 的概念)\n",
    "members = [\"Steven\", \"Ivy\", \"Eva\", \"Jack\"]\n",
    "fired_member = members.pop(0)\n",
    "print(fired_member)\n",
    "print(members)"
   ]
  },
  {
   "cell_type": "code",
   "execution_count": null,
   "metadata": {},
   "outputs": [
    {
     "name": "stdout",
     "output_type": "stream",
     "text": [
      "{4, 5}\n",
      "{4, 5}\n",
      "set()\n",
      "False\n",
      "{1, 2, 3, 4, 5, 6, 7, 8}\n",
      "{1, 2, 3, 4, 5, 6, 7, 8}\n",
      "{8, 6, 7}\n",
      "{1, 2, 3}\n",
      "{1, 2, 3, 6, 7, 8}\n",
      "{1, 2, 3, 6, 7, 8}\n"
     ]
    }
   ],
   "source": [
    "# 交集\n",
    "set_1 = {1, 2, 3, 4, 5}\n",
    "set_2 = {4, 5, 6, 7, 8}\n",
    "print(set_1 & set_2)\n",
    "print(set_1.intersection(set_2))\n",
    "\n",
    "# 如果沒有交集，則回傳空集合\n",
    "set_1 = {1, 2, 3, 4, 5}\n",
    "set_2 = {6, 7, 8}\n",
    "print(set_1 & set_2)\n",
    "print(bool(set_1 & set_2)) # 空集合會被當成 False\n",
    "\n",
    "# 聯集\n",
    "set_1 = {1, 2, 3, 4, 5}\n",
    "set_2 = {4, 5, 6, 7, 8}\n",
    "print(set_1 | set_2)\n",
    "print(set_1.union(set_2))\n",
    "\n",
    "# 差集\n",
    "set_1 = {1, 2, 3, 4, 5}\n",
    "set_2 = {4, 5, 6, 7, 8}\n",
    "print(set_2 - set_1)\n",
    "print(set_1.difference(set_2))\n",
    "\n",
    "# 互斥或\n",
    "set_1 = {1, 2, 3, 4, 5}\n",
    "set_2 = {4, 5, 6, 7, 8}\n",
    "print(set_1 ^ set_2)\n",
    "print(set_1.symmetric_difference(set_2))"
   ]
  },
  {
   "cell_type": "code",
   "execution_count": null,
   "metadata": {},
   "outputs": [
    {
     "name": "stdout",
     "output_type": "stream",
     "text": [
      "[1, 2, 3, 4, 5]\n",
      "[1, 5, 3, 2, 4]\n"
     ]
    }
   ],
   "source": [
    "# 用 sorted() 製造排序後的串列\n",
    "numbers = [1, 5, 3, 2, 4]\n",
    "print(sorted(numbers))\n",
    "print(numbers)"
   ]
  },
  {
   "cell_type": "code",
   "execution_count": null,
   "metadata": {},
   "outputs": [
    {
     "name": "stdout",
     "output_type": "stream",
     "text": [
      "False\n"
     ]
    }
   ],
   "source": [
    "# 用 in 來檢查元素是否在串列中\n",
    "sentence = [\"我\",\"真\",\"的\",\"很\",\"常\",\"忘\",\"記\",\"加\",\"句\",\"點\"]\n",
    "print(\"。\" in sentence)"
   ]
  },
  {
   "cell_type": "code",
   "execution_count": null,
   "metadata": {},
   "outputs": [
    {
     "name": "stdout",
     "output_type": "stream",
     "text": [
      "0\n",
      "1\n",
      "2\n",
      "3\n",
      "4\n"
     ]
    }
   ],
   "source": [
    "# for 迴圈\n",
    "for i in range(5):\n",
    "    print(i)"
   ]
  },
  {
   "cell_type": "code",
   "execution_count": null,
   "metadata": {},
   "outputs": [
    {
     "name": "stdout",
     "output_type": "stream",
     "text": [
      "J\n",
      "u\n",
      "s\n",
      "t\n",
      " \n",
      "d\n",
      "o\n",
      " \n",
      "i\n",
      "t\n",
      "!\n",
      "!\n"
     ]
    }
   ],
   "source": [
    "# 用 for 與 in 來迭代\n",
    "words = \"Just do it!\"\n",
    "for word in words:\n",
    "    print(word)\n",
    "else:\n",
    "    print(word)"
   ]
  },
  {
   "cell_type": "code",
   "execution_count": null,
   "metadata": {},
   "outputs": [
    {
     "name": "stdout",
     "output_type": "stream",
     "text": [
      "取得： H\n",
      "取得： e\n",
      "取得： l\n",
      "取得： l\n",
      "取得： o\n",
      "o\n"
     ]
    }
   ],
   "source": [
    "for c in \"Hello\":\n",
    "    print(\"取得：\",c)\n",
    "else:\n",
    "    print(c) "
   ]
  },
  {
   "cell_type": "code",
   "execution_count": null,
   "metadata": {},
   "outputs": [
    {
     "name": "stdout",
     "output_type": "stream",
     "text": [
      "1\n",
      "2\n",
      "3\n",
      "4\n",
      "5\n",
      "5\n"
     ]
    }
   ],
   "source": [
    "# 用 for 與 in 來迭代串列\n",
    "myList = [1, 2, 3, 4, 5]\n",
    "for item in myList:\n",
    "    print(item)\n",
    "else:\n",
    "    print(item)"
   ]
  },
  {
   "cell_type": "code",
   "execution_count": null,
   "metadata": {},
   "outputs": [
    {
     "name": "stdout",
     "output_type": "stream",
     "text": [
      "J\n",
      "u\n",
      "t\n",
      " \n",
      "d\n",
      "o\n",
      " \n",
      "i\n",
      "t\n",
      "!\n",
      "J\n",
      "u\n"
     ]
    }
   ],
   "source": [
    "# 我們一樣可以用 break 來中斷，或用 continue 來跳過迴圈。\n",
    "words = \"Just do it!\"\n",
    "for word in words:\n",
    "    if word == \"s\":\n",
    "        continue\n",
    "    print(word)\n",
    "    \n",
    "words = \"Just do it!\"\n",
    "for word in words:\n",
    "    if word == \"s\":\n",
    "        break\n",
    "    print(word)"
   ]
  },
  {
   "cell_type": "code",
   "execution_count": null,
   "metadata": {},
   "outputs": [
    {
     "name": "stdout",
     "output_type": "stream",
     "text": [
      "[[0, 2], [3, 4]]\n",
      "[[0, 2], [3, 4]]\n",
      "[[1, 2], [3, 4]]\n",
      "[[0, 2], [3, 4]]\n"
     ]
    }
   ],
   "source": [
    "# 如果串列中的元素是可變的，那麼串列間還是會互相影響\n",
    "a = [[1, 2], [3, 4]]\n",
    "b = a.copy()\n",
    "b[0][0] = 0\n",
    "print(a)\n",
    "print(b)\n",
    "\n",
    "# 使用 deepcopy( ) 來複製串列\n",
    "import copy\n",
    "a = [[1, 2], [3, 4]]\n",
    "b = copy.deepcopy(a)\n",
    "b[0][0] = 0\n",
    "print(a)\n",
    "print(b)"
   ]
  },
  {
   "cell_type": "code",
   "execution_count": null,
   "metadata": {},
   "outputs": [
    {
     "name": "stdout",
     "output_type": "stream",
     "text": [
      "Steven\n",
      "Ben\n",
      "Ivy\n",
      "Eva\n",
      "Jack\n",
      "Anna\n",
      "Anna\n"
     ]
    }
   ],
   "source": [
    "# 用 for 迴圈來走訪串列中的元素\n",
    "members = [\"Steven\", \"Ben\", \"Ivy\", \"Eva\", \"Jack\", \"Anna\"]\n",
    "for member in members:\n",
    "    print(member)\n",
    "else:\n",
    "    print(member)"
   ]
  },
  {
   "cell_type": "code",
   "execution_count": null,
   "metadata": {},
   "outputs": [
    {
     "name": "stdout",
     "output_type": "stream",
     "text": [
      "Steven | M | 40000\n",
      "Ben | M | 50000\n",
      "Ivy | F | 60000\n",
      "Eva | F | 70000\n",
      "Jack | M | 80000\n",
      "Anna | F | 90000\n"
     ]
    }
   ],
   "source": [
    "# 用 zip( ) 配對串列中的元素\n",
    "members = [\"Steven\", \"Ben\", \"Ivy\", \"Eva\", \"Jack\", \"Anna\"]\n",
    "gender = [\"M\", \"M\", \"F\", \"F\", \"M\", \"F\"]\n",
    "salary = [40000, 50000, 60000, 70000, 80000, 90000]\n",
    "\n",
    "for member, gender, salary in zip(members, gender, salary):\n",
    "    test = \" | \".join([member, gender, str(salary)])\n",
    "    print(test)"
   ]
  },
  {
   "cell_type": "code",
   "execution_count": null,
   "metadata": {},
   "outputs": [
    {
     "name": "stdout",
     "output_type": "stream",
     "text": [
      "[(1, 'A'), (2, 'B'), (3, 'C')]\n",
      "{1: 'A', 2: 'B', 3: 'C'}\n"
     ]
    }
   ],
   "source": [
    "# zip() 可以用於快速建立二維串列或是字典\n",
    "numbers = [1, 2, 3]\n",
    "letters = [\"A\", \"B\", \"C\"]\n",
    "print(list(zip(numbers, letters)))\n",
    "print(dict(zip(numbers, letters)))"
   ]
  },
  {
   "cell_type": "code",
   "execution_count": null,
   "metadata": {},
   "outputs": [
    {
     "name": "stdout",
     "output_type": "stream",
     "text": [
      "[1, 4, 9, 16, 25, 36, 49, 64, 81, 100]\n"
     ]
    }
   ],
   "source": [
    "# 利用串列生成式快速建立串列\n",
    "square_number = [i**2 for i in range(1, 11)]\n",
    "print(square_number)"
   ]
  },
  {
   "cell_type": "code",
   "execution_count": null,
   "metadata": {},
   "outputs": [
    {
     "name": "stdout",
     "output_type": "stream",
     "text": [
      "['1 * 1 = 1', '1 * 2 = 2', '1 * 3 = 3', '1 * 4 = 4', '1 * 5 = 5', '1 * 6 = 6', '1 * 7 = 7', '1 * 8 = 8', '1 * 9 = 9', '2 * 1 = 2', '2 * 2 = 4', '2 * 3 = 6', '2 * 4 = 8', '2 * 5 = 10', '2 * 6 = 12', '2 * 7 = 14', '2 * 8 = 16', '2 * 9 = 18', '3 * 1 = 3', '3 * 2 = 6', '3 * 3 = 9', '3 * 4 = 12', '3 * 5 = 15', '3 * 6 = 18', '3 * 7 = 21', '3 * 8 = 24', '3 * 9 = 27', '4 * 1 = 4', '4 * 2 = 8', '4 * 3 = 12', '4 * 4 = 16', '4 * 5 = 20', '4 * 6 = 24', '4 * 7 = 28', '4 * 8 = 32', '4 * 9 = 36', '5 * 1 = 5', '5 * 2 = 10', '5 * 3 = 15', '5 * 4 = 20', '5 * 5 = 25', '5 * 6 = 30', '5 * 7 = 35', '5 * 8 = 40', '5 * 9 = 45', '6 * 1 = 6', '6 * 2 = 12', '6 * 3 = 18', '6 * 4 = 24', '6 * 5 = 30', '6 * 6 = 36', '6 * 7 = 42', '6 * 8 = 48', '6 * 9 = 54', '7 * 1 = 7', '7 * 2 = 14', '7 * 3 = 21', '7 * 4 = 28', '7 * 5 = 35', '7 * 6 = 42', '7 * 7 = 49', '7 * 8 = 56', '7 * 9 = 63', '8 * 1 = 8', '8 * 2 = 16', '8 * 3 = 24', '8 * 4 = 32', '8 * 5 = 40', '8 * 6 = 48', '8 * 7 = 56', '8 * 8 = 64', '8 * 9 = 72', '9 * 1 = 9', '9 * 2 = 18', '9 * 3 = 27', '9 * 4 = 36', '9 * 5 = 45', '9 * 6 = 54', '9 * 7 = 63', '9 * 8 = 72', '9 * 9 = 81']\n"
     ]
    }
   ],
   "source": [
    "# 快速建立九九乘法表\n",
    "multi_table = [f\"{i} * {j} = {i*j}\" for i in range(1, 10) for j in range(1, 10)]\n",
    "print(multi_table)"
   ]
  },
  {
   "cell_type": "code",
   "execution_count": null,
   "metadata": {},
   "outputs": [
    {
     "name": "stdout",
     "output_type": "stream",
     "text": [
      "['1*1=1 ', '1*2=2 ', '1*3=3 ', '1*4=4 ', '1*5=5 ', '1*6=6 ', '1*7=7 ', '1*8=8 ', '1*9=9 ', '1*10=10 ', '2*1=2 ', '2*2=4 ', '2*3=6 ', '2*4=8 ', '2*5=10 ', '2*6=12 ', '2*7=14 ', '2*8=16 ', '2*9=18 ', '2*10=20 ', '3*1=3 ', '3*2=6 ', '3*3=9 ', '3*4=12 ', '3*5=15 ', '3*6=18 ', '3*7=21 ', '3*8=24 ', '3*9=27 ', '3*10=30 ', '4*1=4 ', '4*2=8 ', '4*3=12 ', '4*4=16 ', '4*5=20 ', '4*6=24 ', '4*7=28 ', '4*8=32 ', '4*9=36 ', '4*10=40 ', '5*1=5 ', '5*2=10 ', '5*3=15 ', '5*4=20 ', '5*5=25 ', '5*6=30 ', '5*7=35 ', '5*8=40 ', '5*9=45 ', '5*10=50 ', '6*1=6 ', '6*2=12 ', '6*3=18 ', '6*4=24 ', '6*5=30 ', '6*6=36 ', '6*7=42 ', '6*8=48 ', '6*9=54 ', '6*10=60 ', '7*1=7 ', '7*2=14 ', '7*3=21 ', '7*4=28 ', '7*5=35 ', '7*6=42 ', '7*7=49 ', '7*8=56 ', '7*9=63 ', '7*10=70 ', '8*1=8 ', '8*2=16 ', '8*3=24 ', '8*4=32 ', '8*5=40 ', '8*6=48 ', '8*7=56 ', '8*8=64 ', '8*9=72 ', '8*10=80 ', '9*1=9 ', '9*2=18 ', '9*3=27 ', '9*4=36 ', '9*5=45 ', '9*6=54 ', '9*7=63 ', '9*8=72 ', '9*9=81 ', '9*10=90 ', '10*1=10 ', '10*2=20 ', '10*3=30 ', '10*4=40 ', '10*5=50 ', '10*6=60 ', '10*7=70 ', '10*8=80 ', '10*9=90 ', '10*10=100 ']\n"
     ]
    }
   ],
   "source": [
    "multi=[f\"{i}*{j}={i*j} \" for i in range(1,11) for j in range(1,11)]\n",
    "print(multi)"
   ]
  },
  {
   "cell_type": "code",
   "execution_count": null,
   "metadata": {},
   "outputs": [
    {
     "name": "stdout",
     "output_type": "stream",
     "text": [
      "[1, 4, 9, 16, 25, 36, 49, 64, 81, 100]\n"
     ]
    }
   ],
   "source": [
    "# 一般建立方法\n",
    "square_number = []\n",
    "for i in range(1,11):\n",
    "    square_number.append(i**2)\n",
    "print(square_number)"
   ]
  },
  {
   "cell_type": "code",
   "execution_count": null,
   "metadata": {},
   "outputs": [
    {
     "name": "stdout",
     "output_type": "stream",
     "text": [
      "7\n"
     ]
    }
   ],
   "source": [
    "#二維串列\n",
    "list_2d = [[1, 2, 3], [4, 5, 6], [7, 8, 9]]\n",
    "print(list_2d[2][0])"
   ]
  },
  {
   "cell_type": "code",
   "execution_count": null,
   "metadata": {},
   "outputs": [
    {
     "name": "stdout",
     "output_type": "stream",
     "text": [
      "(3, 4)\n",
      "(3, 5, 10)\n",
      "(1, 4, -1, -8)\n"
     ]
    }
   ],
   "source": [
    "def svg(*ns):\n",
    "    print(ns)\n",
    "\n",
    "svg(3,4)\n",
    "svg(3,5,10)\n",
    "svg(1,4,-1,-8)"
   ]
  },
  {
   "cell_type": "code",
   "execution_count": null,
   "metadata": {},
   "outputs": [
    {
     "name": "stdout",
     "output_type": "stream",
     "text": [
      "3.0\n",
      "4.0\n",
      "5.0\n"
     ]
    }
   ],
   "source": [
    "def avg(*ns):\n",
    "    sum=0\n",
    "    for i in ns:\n",
    "        sum+=i\n",
    "    print(sum/len(ns))\n",
    "avg(3,3)\n",
    "avg(3,3,6)\n",
    "avg(2,4,6,8)"
   ]
  },
  {
   "cell_type": "code",
   "execution_count": null,
   "metadata": {},
   "outputs": [
    {
     "name": "stdout",
     "output_type": "stream",
     "text": [
      "{'CH1': 'Python基礎', 'CH2': '流程控制', 'CH3': '串列', 'CH4': '字典'}\n"
     ]
    }
   ],
   "source": [
    "# 利用 zip() 函式建立字典\n",
    "chapter = [\"CH1\", \"CH2\", \"CH3\", \"CH4\"]\n",
    "content = [\"Python基礎\", \"流程控制\", \"串列\", \"字典\"]\n",
    "book = dict(zip(chapter, content))\n",
    "print(book)"
   ]
  },
  {
   "cell_type": "code",
   "execution_count": null,
   "metadata": {},
   "outputs": [
    {
     "name": "stdout",
     "output_type": "stream",
     "text": [
      "{'CH1': 'Python基礎', 'CH2': '流程控制', 'CH3': '字典'}\n"
     ]
    }
   ],
   "source": [
    "# 如果有重複的鍵，後面的值會覆蓋前面的值。\n",
    "book = {\"CH1\": \"Python基礎\", \"CH2\": \"流程控制\", \"CH3\": \"串列\", \"CH3\": \"字典\"}\n",
    "print(book)"
   ]
  },
  {
   "cell_type": "code",
   "execution_count": null,
   "metadata": {},
   "outputs": [
    {
     "name": "stdout",
     "output_type": "stream",
     "text": [
      "dict_items([('CH1', 'Python基礎'), ('CH2', '流程控制'), ('CH3', '串列'), ('CH4', '字典')])\n",
      "[('CH1', 'Python基礎'), ('CH2', '流程控制'), ('CH3', '串列'), ('CH4', '字典')]\n"
     ]
    }
   ],
   "source": [
    "# 用 .items() 取得字典中所有的鍵值對。\n",
    "book = {\"CH1\": \"Python基礎\", \"CH2\": \"流程控制\", \"CH3\": \"串列\", \"CH4\": \"字典\"}\n",
    "print(book.items())\n",
    "print(list(book.items()))"
   ]
  },
  {
   "cell_type": "code",
   "execution_count": null,
   "metadata": {},
   "outputs": [
    {
     "name": "stdout",
     "output_type": "stream",
     "text": [
      "3\n"
     ]
    }
   ],
   "source": [
    "# 用 len() 可以取得字典中有多少個鍵值對\n",
    "book = {\"CH1\": \"Python基礎\", \"CH2\": \"流程控制\", \"CH3\": \"串列\", \"CH3\": \"字典\"}\n",
    "print(len(book))"
   ]
  },
  {
   "cell_type": "code",
   "execution_count": null,
   "metadata": {},
   "outputs": [
    {
     "name": "stdout",
     "output_type": "stream",
     "text": [
      "{'CH1': 'Python基礎', 'CH2': '流程控制', 'CH3': '專案練習-減重App', 'CH4': '專案練習-聊天機器人App'}\n",
      "{'CH1': 'Python基礎', 'CH2': '流程控制'}\n",
      "{'CH3': '專案練習-減重App', 'CH4': '專案練習-聊天機器人App'}\n"
     ]
    }
   ],
   "source": [
    "# 用 {**字典1, **字典2} 來合併兩個字典。(原本的字典不會被改變)\n",
    "book1 = {\"CH1\": \"Python基礎\", \"CH2\": \"流程控制\"}\n",
    "book2 = {\"CH3\": \"專案練習-減重App\", \"CH4\": \"專案練習-聊天機器人App\"}\n",
    "new_book = {**book1, **book2}\n",
    "print(new_book)\n",
    "print(book1)\n",
    "print(book2)"
   ]
  },
  {
   "cell_type": "code",
   "execution_count": null,
   "metadata": {},
   "outputs": [
    {
     "name": "stdout",
     "output_type": "stream",
     "text": [
      "{'CH1': 'Python基礎', 'CH2': '流程控制', 'CH3': '專案練習-減重App', 'CH4': '專案練習-聊天機器人App'}\n",
      "{'CH3': '專案練習-減重App', 'CH4': '專案練習-聊天機器人App'}\n"
     ]
    }
   ],
   "source": [
    "# 用 .update() 來合併兩個字典。(前面的字典會被改變)\n",
    "book1 = {\"CH1\": \"Python基礎\", \"CH2\": \"流程控制\"}\n",
    "book2 = {\"CH3\": \"專案練習-減重App\", \"CH4\": \"專案練習-聊天機器人App\"}\n",
    "book1.update(book2)\n",
    "print(book1)\n",
    "print(book2)"
   ]
  },
  {
   "cell_type": "code",
   "execution_count": null,
   "metadata": {},
   "outputs": [
    {
     "name": "stdout",
     "output_type": "stream",
     "text": [
      "{'CH1': '專案練習-減重App', 'CH2': '專案練習-聊天機器人App'}\n",
      "{'CH1': '專案練習-減重App', 'CH2': '專案練習-聊天機器人App'}\n"
     ]
    }
   ],
   "source": [
    "# 當兩個字典有重複的鍵時，後面的值會覆蓋前面的值\n",
    "book1 = {\"CH1\": \"Python基礎\", \"CH2\": \"流程控制\"}\n",
    "book2 = {\"CH1\": \"專案練習-減重App\", \"CH2\": \"專案練習-聊天機器人App\"}\n",
    "print({**book1, **book2})\n",
    "\n",
    "book1 = {\"CH1\": \"Python基礎\", \"CH2\": \"流程控制\"}\n",
    "book2 = {\"CH1\": \"專案練習-減重App\", \"CH2\": \"專案練習-聊天機器人App\"}\n",
    "book1.update(book2)\n",
    "print(book1)"
   ]
  },
  {
   "cell_type": "code",
   "execution_count": null,
   "metadata": {},
   "outputs": [
    {
     "name": "stdout",
     "output_type": "stream",
     "text": [
      "字典\n",
      "{'CH1': 'Python基礎', 'CH2': '流程控制', 'CH3': '串列'}\n"
     ]
    }
   ],
   "source": [
    "# 用 .pop() 來刪除字典中的鍵值對，並回傳被刪除的值。\n",
    "book = {\"CH1\": \"Python基礎\", \"CH2\": \"流程控制\", \"CH3\": \"串列\", \"CH4\": \"字典\"}\n",
    "print(book.pop(\"CH4\"))\n",
    "print(book)"
   ]
  },
  {
   "cell_type": "code",
   "execution_count": null,
   "metadata": {},
   "outputs": [
    {
     "name": "stdout",
     "output_type": "stream",
     "text": [
      "True\n"
     ]
    }
   ],
   "source": [
    "# 用 in 來檢查字典中是否有某個鍵\n",
    "user = {\"msycomtw\": \"123456141\", \"steve1211\": \"654321\", \"pp0p1123\": \"987654\"}\n",
    "print(\"msycomtw\" in user)"
   ]
  },
  {
   "cell_type": "code",
   "execution_count": null,
   "metadata": {},
   "outputs": [
    {
     "name": "stdout",
     "output_type": "stream",
     "text": [
      "{'msycomtw': '123456', 'steve1211': '654321', 'pp0p1123': '987654'}\n",
      "{'msycomtw': '123456', 'steve1211': '654321', 'pp0p1123': '987654'}\n"
     ]
    }
   ],
   "source": [
    "# 字典是可變的，請小心更動到原本的字典。\n",
    "user = {\"msycomtw\": \"123456141\", \"steve1211\": \"654321\", \"pp0p1123\": \"987654\"}\n",
    "user_revise = user\n",
    "user_revise[\"msycomtw\"] = \"123456\"\n",
    "print(user)\n",
    "print(user_revise)"
   ]
  },
  {
   "cell_type": "code",
   "execution_count": null,
   "metadata": {},
   "outputs": [
    {
     "name": "stdout",
     "output_type": "stream",
     "text": [
      "{'msycomtw': '123456141', 'steve1211': '654321', 'pp0p1123': '987654'}\n",
      "{'msycomtw': '123456', 'steve1211': '654321', 'pp0p1123': '987654'}\n"
     ]
    }
   ],
   "source": [
    "# 用 .copy() 來複製一份字典\n",
    "\n",
    "user = {\"msycomtw\": \"123456141\", \"steve1211\": \"654321\", \"pp0p1123\": \"987654\"}\n",
    "user_revise = copy.deepcopy(user)\n",
    "user_revise[\"msycomtw\"] = \"123456\"\n",
    "print(user)\n",
    "print(user_revise)"
   ]
  },
  {
   "cell_type": "code",
   "execution_count": null,
   "metadata": {},
   "outputs": [
    {
     "name": "stdout",
     "output_type": "stream",
     "text": [
      "{'msycomtw': '123456141', 'steve1211': '654321', 'pp0p1123': '987654'}\n",
      "{'msycomtw': '123456', 'steve1211': '654321', 'pp0p1123': '987654'}\n"
     ]
    }
   ],
   "source": [
    "# 用 .copy() 來複製一份字典\n",
    "user = {\"msycomtw\": \"123456141\", \"steve1211\": \"654321\", \"pp0p1123\": \"987654\"}\n",
    "user_revise = user.copy()\n",
    "user_revise[\"msycomtw\"] = \"123456\"\n",
    "print(user)\n",
    "print(user_revise)"
   ]
  },
  {
   "cell_type": "code",
   "execution_count": null,
   "metadata": {},
   "outputs": [
    {
     "name": "stdout",
     "output_type": "stream",
     "text": [
      "{'P': 1, 'n': 4, 'e': 1, 'u': 2, 'm': 2, 'o': 9, 'l': 3, 't': 1, 'r': 2, 'a': 2, 'i': 6, 'c': 6, 's': 4, 'p': 1, 'v': 1}\n"
     ]
    }
   ],
   "source": [
    "# 字典生成式\n",
    "words = \"Pneumonoultramicroscopicsilicovolcanoconiosis\"\n",
    "letter_count = {letter: words.count(letter) for letter in words}\n",
    "print(letter_count)"
   ]
  },
  {
   "cell_type": "code",
   "execution_count": null,
   "metadata": {},
   "outputs": [
    {
     "name": "stdout",
     "output_type": "stream",
     "text": [
      "{'msycomtw': [1, 2, 3], 'steve1211': {'age': 25, 'city': 'New York'}, 'pp0p1123': [7, 8, 9]}\n",
      "{'msycomtw': [10, 2, 3], 'steve1211': {'age': 30, 'city': 'New York'}, 'pp0p1123': [7, 8, 9]}\n"
     ]
    }
   ],
   "source": [
    "import copy\n",
    "\n",
    "user = {\"msycomtw\": [1, 2, 3], \"steve1211\": {\"age\": 25, \"city\": \"New York\"}, \"pp0p1123\": [7, 8, 9]}\n",
    "\n",
    "user_revise = copy.deepcopy(user)\n",
    "user_revise[\"msycomtw\"][0] = 10\n",
    "user_revise[\"steve1211\"][\"age\"] = 30\n",
    "\n",
    "print(user)\n",
    "print(user_revise)\n"
   ]
  },
  {
   "cell_type": "code",
   "execution_count": null,
   "metadata": {},
   "outputs": [
    {
     "name": "stdout",
     "output_type": "stream",
     "text": [
      "{'msycomtw': [10, 2, 3], 'steve1211': {'age': 30, 'city': 'New York'}, 'pp0p1123': [7, 8, 9]}\n",
      "{'msycomtw': [10, 2, 3], 'steve1211': {'age': 30, 'city': 'New York'}, 'pp0p1123': [7, 8, 9]}\n"
     ]
    }
   ],
   "source": [
    "import copy\n",
    "user = {\"msycomtw\": [1, 2, 3], \"steve1211\": {\"age\": 25, \"city\": \"New York\"}, \"pp0p1123\": [7, 8, 9]}\n",
    "\n",
    "user_revise = user.copy()\n",
    "user_revise[\"msycomtw\"][0] = 10\n",
    "user_revise[\"steve1211\"][\"age\"] = 30\n",
    "\n",
    "print(user)\n",
    "print(user_revise)"
   ]
  },
  {
   "cell_type": "code",
   "execution_count": null,
   "metadata": {},
   "outputs": [
    {
     "name": "stdout",
     "output_type": "stream",
     "text": [
      "原始字典:\n",
      "{'msycomtw': [1, 2, 3], 'steve1211': {'age': 25, 'city': 'New York'}, 'pp0p1123': [7, 8, 9]}\n",
      "\n",
      "使用 deepcopy() 後:\n",
      "{'msycomtw': [100, 2, 3], 'steve1211': {'age': 300, 'city': 'New York'}, 'pp0p1123': [7, 8, 9, 100]}\n"
     ]
    }
   ],
   "source": [
    "import copy\n",
    "\n",
    "user = {\"msycomtw\": [1, 2, 3], \"steve1211\": {\"age\": 25, \"city\": \"New York\"}, \"pp0p1123\": [7, 8, 9]}\n",
    "\n",
    "# 使用 .copy()\n",
    "# user_copy = user.copy()\n",
    "\n",
    "# 使用 copy.deepcopy()\n",
    "user_deepcopy = copy.deepcopy(user)\n",
    "\n",
    "# 修改複製後的值\n",
    "# user_copy[\"msycomtw\"][0] = 10\n",
    "# user_copy[\"steve1211\"][\"age\"] = 30\n",
    "# user_copy[\"pp0p1123\"].append(10)\n",
    "\n",
    "# 修改深度複製後的值\n",
    "user_deepcopy[\"msycomtw\"][0] = 100\n",
    "user_deepcopy[\"steve1211\"][\"age\"] = 300\n",
    "user_deepcopy[\"pp0p1123\"].append(100)\n",
    "\n",
    "# 原始字典\n",
    "print(\"原始字典:\")\n",
    "print(user)\n",
    "\n",
    "# 使用 .copy() 後的結果\n",
    "# print(\"\\n使用 .copy() 後:\")\n",
    "# print(user_copy)\n",
    "\n",
    "#使用 deepcopy() 後的結果\n",
    "print(\"\\n使用 deepcopy() 後:\")\n",
    "print(user_deepcopy)\n"
   ]
  },
  {
   "cell_type": "code",
   "execution_count": null,
   "metadata": {},
   "outputs": [
    {
     "name": "stdout",
     "output_type": "stream",
     "text": [
      "{'msycomtw': [10, 2, 3], 'steve1211': {'age': 30, 'city': 'New York'}, 'pp0p1123': [7, 8, 9, 10]}\n",
      "{'msycomtw': [10, 2, 3], 'steve1211': {'age': 30, 'city': 'New York'}, 'pp0p1123': [7, 8, 9, 10]}\n"
     ]
    }
   ],
   "source": [
    "# 用 .copy() 來複製一份字典\n",
    "\n",
    "user = {\"msycomtw\": [1, 2, 3], \"steve1211\": {\"age\": 25, \"city\": \"New York\"}, \"pp0p1123\": [7, 8, 9]}\n",
    "\n",
    "user_revise = user.copy()\n",
    "user_revise[\"msycomtw\"][0] = 10\n",
    "user_revise[\"steve1211\"][\"age\"] = 30\n",
    "user_revise[\"pp0p1123\"].append(10)\n",
    "\n",
    "print(user)#{'msycomtw': [10, 2, 3], 'steve1211': {'age': 30, 'city': 'New York'}, 'pp0p1123': [7, 8, 9, 10]}\n",
    "print(user_revise)#{'msycomtw': [10, 2, 3], 'steve1211': {'age': 30, 'city': 'New York'}, 'pp0p1123': [7, 8, 9, 10]}"
   ]
  },
  {
   "cell_type": "code",
   "execution_count": null,
   "metadata": {},
   "outputs": [
    {
     "name": "stdout",
     "output_type": "stream",
     "text": [
      "{'msycomtw': [1, 2, 3], 'steve1211': {'age': 25, 'city': 'New York'}, 'pp0p1123': [7, 8, 9]}\n",
      "{'msycomtw': [10, 2, 3], 'steve1211': {'age': 30, 'city': 'New York'}, 'pp0p1123': [7, 8, 9, 10]}\n"
     ]
    }
   ],
   "source": [
    "# 用 .deepcopy() 來複製一份字典\n",
    "import copy\n",
    "\n",
    "user = {\"msycomtw\": [1, 2, 3], \"steve1211\": {\"age\": 25, \"city\": \"New York\"}, \"pp0p1123\": [7, 8, 9]}\n",
    "\n",
    "user_revise = copy.deepcopy(user)\n",
    "user_revise[\"msycomtw\"][0] = 10\n",
    "user_revise[\"steve1211\"][\"age\"] = 30\n",
    "user_revise[\"pp0p1123\"].append(10)\n",
    "\n",
    "print(user)#{'msycomtw': [1, 2, 3], 'steve1211': {'age': 25, 'city': 'New York'}, 'pp0p1123': [7, 8, 9]}\n",
    "print(user_revise)#{'msycomtw': [10, 2, 3], 'steve1211': {'age': 30, 'city': 'New York'}, 'pp0p1123': [7, 8, 9, 10]}"
   ]
  },
  {
   "cell_type": "code",
   "execution_count": null,
   "metadata": {},
   "outputs": [
    {
     "name": "stdout",
     "output_type": "stream",
     "text": [
      "{'a', 'b', 'd'}\n"
     ]
    }
   ],
   "source": [
    "# set 可以用來將可迭代物件的重複值去除\n",
    "words = \"aabdbabdbababdbabdabdba\"\n",
    "words_set = set(words)\n",
    "print(words_set)"
   ]
  },
  {
   "cell_type": "code",
   "execution_count": null,
   "metadata": {},
   "outputs": [
    {
     "name": "stdout",
     "output_type": "stream",
     "text": [
      "最大整數是: 8\n"
     ]
    }
   ],
   "source": [
    "def find_max_integer(arr):\n",
    "    # 檢查陣列是否為空\n",
    "    if not arr:\n",
    "        return \"陣列為空\"\n",
    "\n",
    "    # 初始假設最大整數為陣列的第一個元素\n",
    "    max_integer = arr[0]\n",
    "\n",
    "    # 遍歷陣列找到最大整數\n",
    "    for num in arr:\n",
    "        if num > max_integer:\n",
    "            max_integer = num\n",
    "\n",
    "    return max_integer\n",
    "\n",
    "# 範例使用\n",
    "input_array = [3, 8, 1, 6, 2, 5]\n",
    "result = find_max_integer(input_array)\n",
    "print(\"最大整數是:\", result)\n"
   ]
  },
  {
   "cell_type": "code",
   "execution_count": 25,
   "metadata": {},
   "outputs": [
    {
     "name": "stdout",
     "output_type": "stream",
     "text": [
      "最大整數是: -1\n"
     ]
    }
   ],
   "source": [
    "def find_max_integer(arr):\n",
    "    # 檢查陣列是否為空\n",
    "    if not arr:\n",
    "        return \"陣列為空\"\n",
    "\n",
    "    # 初始假設最大整數為陣列的第一個元素\n",
    "    max_integer =arr[0]\n",
    "\n",
    "    # 遍歷陣列找到最大整數\n",
    "    for num in arr:\n",
    "        if num > max_integer:\n",
    "            max_integer = num\n",
    "\n",
    "    return max_integer\n",
    "\n",
    "# 使用者輸入數字並存入列表\n",
    "input_string = input(\"輸入包含至少一個整數的列表，數字之間以空格分隔: \").split()\n",
    "# input_list = [int(x) for x in input_string.split()]\n",
    "input_list=list(map(int,input_string))\n",
    "\n",
    "# 使用 find_max_integer 函數找到最大整數並輸出結果\n",
    "result = find_max_integer(input_list)\n",
    "print(\"最大整數是:\", result)\n"
   ]
  },
  {
   "cell_type": "code",
   "execution_count": 21,
   "metadata": {},
   "outputs": [
    {
     "name": "stdout",
     "output_type": "stream",
     "text": [
      "[1, 2, 3]\n"
     ]
    }
   ],
   "source": [
    "# 利用 map() 將輸入的字串轉換成整數\n",
    "number_str = input('請輸入數字，以空白鍵分隔：').split()\n",
    "number_int = list(map(int, number_str))\n",
    "print(number_int)"
   ]
  },
  {
   "cell_type": "code",
   "execution_count": 30,
   "metadata": {},
   "outputs": [
    {
     "name": "stdout",
     "output_type": "stream",
     "text": [
      "QQㄋㄟㄋㄟ好喝到咩噗茶\n",
      "百香QQ綠茶\n",
      "百香QQ綠茶\n"
     ]
    }
   ],
   "source": [
    "# 用 in 來檢查集合中是否有某個元素\n",
    "drinks = {\n",
    "    \"QQㄋㄟㄋㄟ好喝到咩噗茶\": {\"珍珠\",\"紅茶\",\"鮮奶\"},\n",
    "    \"紅茶拿鐵\": {\"紅茶\",\"鮮奶\"},\n",
    "    \"百香QQ綠茶\": {\"綠茶\",\"百香果肉\",\"珍珠\",\"椰果\"},\n",
    "    \"青檸冷萃\": {\"檸檬汁\",\"綠茶\",\"檸檬片\"}\n",
    "}\n",
    "\n",
    "for drink, content in drinks.items():\n",
    "    if \"珍珠\" in content:\n",
    "        print(drink)\n",
    "        \n",
    "for drink, content in drinks.items():\n",
    "    if \"珍珠\" in content and \"鮮奶\" not in content:\n",
    "        print(drink)"
   ]
  },
  {
   "cell_type": "code",
   "execution_count": 31,
   "metadata": {},
   "outputs": [
    {
     "name": "stdout",
     "output_type": "stream",
     "text": [
      "dict_keys(['CH1', 'CH2', 'CH3', 'CH4'])\n",
      "['CH1', 'CH2', 'CH3', 'CH4']\n"
     ]
    }
   ],
   "source": [
    "# 用 .keys() 取得字典中所有的鍵。\n",
    "book = {\"CH1\": \"Python基礎\", \"CH2\": \"流程控制\", \"CH3\": \"串列\", \"CH4\": \"字典\"}\n",
    "print(book.keys())\n",
    "print(list(book.keys()))"
   ]
  },
  {
   "cell_type": "code",
   "execution_count": 39,
   "metadata": {},
   "outputs": [
    {
     "name": "stdout",
     "output_type": "stream",
     "text": [
      "5\n",
      "20\n",
      "25\n",
      "10\n",
      "40\n",
      "100\n"
     ]
    }
   ],
   "source": [
    "# 類別-正方形(Square)\n",
    "class Square():\n",
    "    def __init__(self, side):\n",
    "        self.__side = side\n",
    "    \n",
    "    @property  \n",
    "    def side(self):\n",
    "        return self.__side\n",
    "    \n",
    "    @side.setter\n",
    "    def side(self, side):\n",
    "        self.__side = side\n",
    "    \n",
    "    @property\n",
    "    def perimeter(self):\n",
    "        return self.__side * 4\n",
    "    \n",
    "    @property\n",
    "    def area(self):\n",
    "        return self.__side ** 2\n",
    "    \n",
    "my_square=Square(5)\n",
    "print(my_square.side)\n",
    "print(my_square.perimeter)\n",
    "print(my_square.area)\n",
    "\n",
    "# 修改屬性\n",
    "my_square.side = 10\n",
    "print(my_square.side)\n",
    "print(my_square.perimeter)\n",
    "print(my_square.area)"
   ]
  },
  {
   "cell_type": "code",
   "execution_count": 4,
   "metadata": {},
   "outputs": [
    {
     "name": "stdout",
     "output_type": "stream",
     "text": [
      "大於5\n"
     ]
    }
   ],
   "source": [
    "number=input(\"請輸入數字：\")\n",
    "number=int(number)\n",
    "result=\"大於5\" if number>5 else \"小於等於5\"\n",
    "print(result)"
   ]
  },
  {
   "cell_type": "code",
   "execution_count": 8,
   "metadata": {},
   "outputs": [
    {
     "name": "stdout",
     "output_type": "stream",
     "text": [
      "[1, 4, 9, 16, 25, 36, 49, 64, 81]\n"
     ]
    }
   ],
   "source": [
    "a=[i*i for i in range(1,10)]\n",
    "print(a)"
   ]
  },
  {
   "cell_type": "code",
   "execution_count": 2,
   "metadata": {},
   "outputs": [
    {
     "name": "stdout",
     "output_type": "stream",
     "text": [
      "1\n"
     ]
    }
   ],
   "source": [
    "a=[[100,200,300,400,500],[100,200,500,2,1]]\n",
    "b=[min(i) for i in a]\n",
    "print(min (b))"
   ]
  },
  {
   "cell_type": "code",
   "execution_count": 5,
   "metadata": {},
   "outputs": [
    {
     "name": "stdout",
     "output_type": "stream",
     "text": [
      "[100, 2, 100, 4, 100, 6, 100, 8, 100]\n"
     ]
    }
   ],
   "source": [
    "a=[i if i%2==0 else 100 for i in range(1,10)]\n",
    "print(a)"
   ]
  },
  {
   "cell_type": "code",
   "execution_count": 7,
   "metadata": {},
   "outputs": [
    {
     "name": "stdout",
     "output_type": "stream",
     "text": [
      "{0, 1, 2, 3, 'a', 'b'}\n"
     ]
    }
   ],
   "source": [
    "a={0,1,2,3,1,2,3,'a','b',False}\n",
    "print(a)"
   ]
  },
  {
   "cell_type": "code",
   "execution_count": 13,
   "metadata": {},
   "outputs": [
    {
     "name": "stdout",
     "output_type": "stream",
     "text": [
      "5\n",
      "20\n",
      "25\n",
      "10\n",
      "40\n",
      "100\n"
     ]
    }
   ],
   "source": [
    "# 類別-正方形(Square)\n",
    "class Square():\n",
    "    def __init__(self, side):\n",
    "        self.__side = side\n",
    "    \n",
    "    @property  \n",
    "    def side(self):\n",
    "        return self.__side\n",
    "    \n",
    "    @side.setter\n",
    "    def side(self, side):\n",
    "        self.__side = side\n",
    "    \n",
    "    @property\n",
    "    def perimeter(self):\n",
    "        return self.__side * 4\n",
    "    \n",
    "    @property\n",
    "    def area(self):\n",
    "        return self.__side ** 2\n",
    "    \n",
    "my_square = Square(5)\n",
    "print(my_square.side)\n",
    "print(my_square.perimeter)\n",
    "print(my_square.area)\n",
    "\n",
    "# 修改屬性\n",
    "my_square.side = 10\n",
    "print(my_square.side)\n",
    "print(my_square.perimeter)\n",
    "print(my_square.area)"
   ]
  },
  {
   "cell_type": "code",
   "execution_count": 1,
   "metadata": {},
   "outputs": [
    {
     "name": "stdout",
     "output_type": "stream",
     "text": [
      "1\n",
      "1\n",
      "1\n"
     ]
    }
   ],
   "source": [
    "def f():\n",
    "    yield (1)\n",
    "    yield (2)\n",
    "    yield (3)\n",
    "print(next(f()))\n",
    "print(next(f()))\n",
    "print(next(f()))    "
   ]
  },
  {
   "cell_type": "code",
   "execution_count": 2,
   "metadata": {},
   "outputs": [
    {
     "name": "stdout",
     "output_type": "stream",
     "text": [
      "Loading!!!!!!"
     ]
    }
   ],
   "source": [
    "import time\n",
    "print ('Loading',end='')\n",
    "for i in range(6):\n",
    "    print('!',end='',flush=True)\n",
    "    time.sleep(0.5)"
   ]
  },
  {
   "cell_type": "code",
   "execution_count": 3,
   "metadata": {},
   "outputs": [
    {
     "name": "stdout",
     "output_type": "stream",
     "text": [
      "用電250.0度共810.0元\n",
      "用電60.0度共192.0元\n"
     ]
    }
   ],
   "source": [
    "while True:\n",
    "    try:\n",
    "        num=float(input(\"請輸入用電電數:\"))\n",
    "        output=0\n",
    "        if num<200:\n",
    "            output=num*3.2\n",
    "        elif num>=200 and num<300:\n",
    "            output=200*3.2+(num-200)*3.4\n",
    "        else:\n",
    "            output=200*3.2+(300-200)*3.4+(num-300)*3.6\n",
    "        print(f'用電{num}度共{output}元')\n",
    "    except :\n",
    "        break"
   ]
  },
  {
   "cell_type": "code",
   "execution_count": 8,
   "metadata": {},
   "outputs": [
    {
     "name": "stdout",
     "output_type": "stream",
     "text": [
      "{32, 36, 39, 42, 22, 26}\n"
     ]
    }
   ],
   "source": [
    "import random\n",
    "a=set()\n",
    "while len(a)<6:\n",
    "    b=random.randint(1,49)\n",
    "    a.add(b)\n",
    "print(a)"
   ]
  },
  {
   "cell_type": "code",
   "execution_count": 4,
   "metadata": {},
   "outputs": [
    {
     "name": "stdout",
     "output_type": "stream",
     "text": [
      "120\n"
     ]
    }
   ],
   "source": [
    "def factorial(n):\n",
    "    if n == 0 or n == 1:\n",
    "        return 1\n",
    "    else:\n",
    "        return n * factorial(n-1)\n",
    "\n",
    "# 測試\n",
    "result = factorial(5)\n",
    "print(result)  # 輸出 120\n"
   ]
  },
  {
   "cell_type": "code",
   "execution_count": 4,
   "metadata": {},
   "outputs": [
    {
     "name": "stdout",
     "output_type": "stream",
     "text": [
      "1\n",
      "2\n",
      "3\n",
      "4\n",
      "5\n"
     ]
    },
    {
     "ename": "KeyboardInterrupt",
     "evalue": "",
     "output_type": "error",
     "traceback": [
      "\u001b[1;31m---------------------------------------------------------------------------\u001b[0m",
      "\u001b[1;31mKeyboardInterrupt\u001b[0m                         Traceback (most recent call last)",
      "\u001b[1;32mc:\\Users\\Tim\\Desktop\\test.ipynb 儲存格 237\u001b[0m line \u001b[0;36m7\n\u001b[0;32m      <a href='vscode-notebook-cell:/c%3A/Users/Tim/Desktop/test.ipynb#Y455sZmlsZQ%3D%3D?line=3'>4</a>\u001b[0m         \u001b[39mprint\u001b[39m(n)\n\u001b[0;32m      <a href='vscode-notebook-cell:/c%3A/Users/Tim/Desktop/test.ipynb#Y455sZmlsZQ%3D%3D?line=5'>6</a>\u001b[0m \u001b[39m# 測試\u001b[39;00m\n\u001b[1;32m----> <a href='vscode-notebook-cell:/c%3A/Users/Tim/Desktop/test.ipynb#Y455sZmlsZQ%3D%3D?line=6'>7</a>\u001b[0m print_numbers(\u001b[39m5\u001b[39;49m)\n\u001b[0;32m      <a href='vscode-notebook-cell:/c%3A/Users/Tim/Desktop/test.ipynb#Y455sZmlsZQ%3D%3D?line=7'>8</a>\u001b[0m \u001b[39m# 輸出：\u001b[39;00m\n\u001b[0;32m      <a href='vscode-notebook-cell:/c%3A/Users/Tim/Desktop/test.ipynb#Y455sZmlsZQ%3D%3D?line=8'>9</a>\u001b[0m \u001b[39m# 1\u001b[39;00m\n\u001b[0;32m     <a href='vscode-notebook-cell:/c%3A/Users/Tim/Desktop/test.ipynb#Y455sZmlsZQ%3D%3D?line=9'>10</a>\u001b[0m \u001b[39m# 2\u001b[39;00m\n\u001b[0;32m     <a href='vscode-notebook-cell:/c%3A/Users/Tim/Desktop/test.ipynb#Y455sZmlsZQ%3D%3D?line=10'>11</a>\u001b[0m \u001b[39m# 3\u001b[39;00m\n\u001b[0;32m     <a href='vscode-notebook-cell:/c%3A/Users/Tim/Desktop/test.ipynb#Y455sZmlsZQ%3D%3D?line=11'>12</a>\u001b[0m \u001b[39m# 4\u001b[39;00m\n\u001b[0;32m     <a href='vscode-notebook-cell:/c%3A/Users/Tim/Desktop/test.ipynb#Y455sZmlsZQ%3D%3D?line=12'>13</a>\u001b[0m \u001b[39m# 5\u001b[39;00m\n",
      "\u001b[1;32mc:\\Users\\Tim\\Desktop\\test.ipynb 儲存格 237\u001b[0m line \u001b[0;36m4\n\u001b[0;32m      <a href='vscode-notebook-cell:/c%3A/Users/Tim/Desktop/test.ipynb#Y455sZmlsZQ%3D%3D?line=1'>2</a>\u001b[0m \u001b[39mif\u001b[39;00m n \u001b[39m>\u001b[39m \u001b[39m0\u001b[39m:\n\u001b[0;32m      <a href='vscode-notebook-cell:/c%3A/Users/Tim/Desktop/test.ipynb#Y455sZmlsZQ%3D%3D?line=2'>3</a>\u001b[0m     print_numbers(n\u001b[39m-\u001b[39m\u001b[39m1\u001b[39m)\n\u001b[1;32m----> <a href='vscode-notebook-cell:/c%3A/Users/Tim/Desktop/test.ipynb#Y455sZmlsZQ%3D%3D?line=3'>4</a>\u001b[0m     \u001b[39mprint\u001b[39m(n)\n",
      "File \u001b[1;32mc:\\Users\\Tim\\AppData\\Local\\Programs\\Python\\Python312\\Lib\\site-packages\\debugpy\\_vendored\\pydevd\\_pydevd_bundle\\pydevd_frame.py:1226\u001b[0m, in \u001b[0;36mPyDBFrame.trace_dispatch\u001b[1;34m(self, frame, event, arg)\u001b[0m\n\u001b[0;32m   1223\u001b[0m \u001b[39mif\u001b[39;00m back \u001b[39mis\u001b[39;00m \u001b[39mnot\u001b[39;00m \u001b[39mNone\u001b[39;00m:\n\u001b[0;32m   1224\u001b[0m     \u001b[39m# if we're in a return, we want it to appear to the user in the previous frame!\u001b[39;00m\n\u001b[0;32m   1225\u001b[0m     \u001b[39mself\u001b[39m\u001b[39m.\u001b[39mset_suspend(thread, step_cmd, original_step_cmd\u001b[39m=\u001b[39minfo\u001b[39m.\u001b[39mpydev_original_step_cmd)\n\u001b[1;32m-> 1226\u001b[0m     \u001b[39mself\u001b[39;49m\u001b[39m.\u001b[39;49mdo_wait_suspend(thread, back, event, arg)\n\u001b[0;32m   1227\u001b[0m \u001b[39melse\u001b[39;00m:\n\u001b[0;32m   1228\u001b[0m     \u001b[39m# in jython we may not have a back frame\u001b[39;00m\n\u001b[0;32m   1229\u001b[0m     info\u001b[39m.\u001b[39mpydev_step_stop \u001b[39m=\u001b[39m \u001b[39mNone\u001b[39;00m\n",
      "File \u001b[1;32mc:\\Users\\Tim\\AppData\\Local\\Programs\\Python\\Python312\\Lib\\site-packages\\debugpy\\_vendored\\pydevd\\_pydevd_bundle\\pydevd_frame.py:165\u001b[0m, in \u001b[0;36mPyDBFrame.do_wait_suspend\u001b[1;34m(self, *args, **kwargs)\u001b[0m\n\u001b[0;32m    164\u001b[0m \u001b[39mdef\u001b[39;00m \u001b[39mdo_wait_suspend\u001b[39m(\u001b[39mself\u001b[39m, \u001b[39m*\u001b[39margs, \u001b[39m*\u001b[39m\u001b[39m*\u001b[39mkwargs):\n\u001b[1;32m--> 165\u001b[0m     \u001b[39mself\u001b[39;49m\u001b[39m.\u001b[39;49m_args[\u001b[39m0\u001b[39;49m]\u001b[39m.\u001b[39;49mdo_wait_suspend(\u001b[39m*\u001b[39;49margs, \u001b[39m*\u001b[39;49m\u001b[39m*\u001b[39;49mkwargs)\n",
      "File \u001b[1;32mc:\\Users\\Tim\\AppData\\Local\\Programs\\Python\\Python312\\Lib\\site-packages\\debugpy\\_vendored\\pydevd\\pydevd.py:2070\u001b[0m, in \u001b[0;36mPyDB.do_wait_suspend\u001b[1;34m(self, thread, frame, event, arg, exception_type)\u001b[0m\n\u001b[0;32m   2067\u001b[0m             from_this_thread\u001b[39m.\u001b[39mappend(frame_custom_thread_id)\n\u001b[0;32m   2069\u001b[0m     \u001b[39mwith\u001b[39;00m \u001b[39mself\u001b[39m\u001b[39m.\u001b[39m_threads_suspended_single_notification\u001b[39m.\u001b[39mnotify_thread_suspended(thread_id, thread, stop_reason):\n\u001b[1;32m-> 2070\u001b[0m         keep_suspended \u001b[39m=\u001b[39m \u001b[39mself\u001b[39;49m\u001b[39m.\u001b[39;49m_do_wait_suspend(thread, frame, event, arg, suspend_type, from_this_thread, frames_tracker)\n\u001b[0;32m   2072\u001b[0m frames_list \u001b[39m=\u001b[39m \u001b[39mNone\u001b[39;00m\n\u001b[0;32m   2074\u001b[0m \u001b[39mif\u001b[39;00m keep_suspended:\n\u001b[0;32m   2075\u001b[0m     \u001b[39m# This means that we should pause again after a set next statement.\u001b[39;00m\n",
      "File \u001b[1;32mc:\\Users\\Tim\\AppData\\Local\\Programs\\Python\\Python312\\Lib\\site-packages\\debugpy\\_vendored\\pydevd\\pydevd.py:2106\u001b[0m, in \u001b[0;36mPyDB._do_wait_suspend\u001b[1;34m(self, thread, frame, event, arg, suspend_type, from_this_thread, frames_tracker)\u001b[0m\n\u001b[0;32m   2103\u001b[0m         \u001b[39mself\u001b[39m\u001b[39m.\u001b[39m_call_input_hook()\n\u001b[0;32m   2105\u001b[0m     \u001b[39mself\u001b[39m\u001b[39m.\u001b[39mprocess_internal_commands()\n\u001b[1;32m-> 2106\u001b[0m     time\u001b[39m.\u001b[39;49msleep(\u001b[39m0.01\u001b[39;49m)\n\u001b[0;32m   2108\u001b[0m \u001b[39mself\u001b[39m\u001b[39m.\u001b[39mcancel_async_evaluation(get_current_thread_id(thread), \u001b[39mstr\u001b[39m(\u001b[39mid\u001b[39m(frame)))\n\u001b[0;32m   2110\u001b[0m \u001b[39m# process any stepping instructions\u001b[39;00m\n",
      "\u001b[1;31mKeyboardInterrupt\u001b[0m: "
     ]
    }
   ],
   "source": [
    "def print_numbers(n):\n",
    "    if n > 0:\n",
    "        print_numbers(n-1)\n",
    "        print(n)\n",
    "\n",
    "# 測試\n",
    "print_numbers(5)\n",
    "# 輸出：\n",
    "# 1\n",
    "# 2\n",
    "# 3\n",
    "# 4\n",
    "# 5\n"
   ]
  },
  {
   "cell_type": "code",
   "execution_count": 5,
   "metadata": {},
   "outputs": [
    {
     "name": "stdout",
     "output_type": "stream",
     "text": [
      "Queue Size: 3\n",
      "Dequeue: 1\n",
      "Dequeue: 2\n",
      "Queue Size: 1\n"
     ]
    }
   ],
   "source": [
    "#佇列遵循先進先出（FIFO）的原則\n",
    "from collections import deque\n",
    "\n",
    "class Queue:\n",
    "    def __init__(self):\n",
    "        self.queue = deque()\n",
    "\n",
    "    def enqueue(self, item):\n",
    "        self.queue.append(item)\n",
    "\n",
    "    def dequeue(self):\n",
    "        if len(self.queue) > 0:\n",
    "            return self.queue.popleft()\n",
    "        else:\n",
    "            return None\n",
    "\n",
    "    def size(self):\n",
    "        return len(self.queue)\n",
    "\n",
    "# 使用範例\n",
    "queue = Queue()\n",
    "queue.enqueue(1)\n",
    "queue.enqueue(2)\n",
    "queue.enqueue(3)\n",
    "\n",
    "print(\"Queue Size:\", queue.size())  # Output: 3\n",
    "\n",
    "print(\"Dequeue:\", queue.dequeue())  # Output: 1\n",
    "print(\"Dequeue:\", queue.dequeue())  # Output: 2\n",
    "\n",
    "print(\"Queue Size:\", queue.size())  # Output: 1"
   ]
  },
  {
   "cell_type": "code",
   "execution_count": 3,
   "metadata": {},
   "outputs": [
    {
     "name": "stdout",
     "output_type": "stream",
     "text": [
      "冒泡排序後的列表: [11, 12, 22, 25, 34, 64, 90]\n"
     ]
    }
   ],
   "source": [
    "def bubble_sort(arr):\n",
    "    for i in range(len(arr) - 1):\n",
    "        for j in range(0, len(arr) - i - 1):\n",
    "            if arr[j] > arr[j + 1]:\n",
    "                arr[j], arr[j + 1] = arr[j + 1], arr[j]\n",
    "\n",
    "# 範例\n",
    "arr = [64, 34, 25, 12, 22, 11, 90]\n",
    "bubble_sort(arr)\n",
    "print(\"冒泡排序後的列表:\", arr)\n"
   ]
  },
  {
   "cell_type": "code",
   "execution_count": 11,
   "metadata": {},
   "outputs": [
    {
     "name": "stdout",
     "output_type": "stream",
     "text": [
      "冒泡排序後的列表: [90, 64, 34, 25, 22, 12, 11]\n"
     ]
    }
   ],
   "source": [
    "arr = [64, 34, 25, 12, 22, 11, 90]\n",
    "arr.sort(reverse=True)\n",
    "print(\"冒泡排序後的列表:\", arr)"
   ]
  },
  {
   "cell_type": "code",
   "execution_count": 3,
   "metadata": {},
   "outputs": [
    {
     "name": "stdout",
     "output_type": "stream",
     "text": [
      "插入排序後的列表: [11, 12, 22, 25, 34, 64, 90]\n"
     ]
    }
   ],
   "source": [
    "def insertion_sort(arr):\n",
    "    for i in range(1, len(arr)):\n",
    "        key = arr[i]\n",
    "        j = i - 1\n",
    "        while j >= 0 and key < arr[j]:\n",
    "            arr[j + 1] = arr[j]\n",
    "            j -= 1\n",
    "        arr[j + 1] = key\n",
    "\n",
    "# 範例\n",
    "arr = [64, 34, 25, 12, 22, 11, 90]\n",
    "insertion_sort(arr)\n",
    "print(\"插入排序後的列表:\", arr)\n"
   ]
  },
  {
   "cell_type": "code",
   "execution_count": 9,
   "metadata": {},
   "outputs": [
    {
     "name": "stdout",
     "output_type": "stream",
     "text": [
      "選擇排序後的列表: [11, 12, 22, 25, 34, 64, 90]\n"
     ]
    }
   ],
   "source": [
    "def selection_sort(arr):\n",
    "    for i in range(len(arr)):\n",
    "        min_idx = i\n",
    "        for j in range(i + 1, len(arr)):\n",
    "            if arr[j] < arr[min_idx]:\n",
    "                min_idx = j\n",
    "        arr[i], arr[min_idx] = arr[min_idx], arr[i]\n",
    "\n",
    "# 範例\n",
    "arr = [64, 34, 25, 12, 22, 11, 90]\n",
    "selection_sort(arr)\n",
    "print(\"選擇排序後的列表:\", arr)\n"
   ]
  },
  {
   "cell_type": "code",
   "execution_count": 10,
   "metadata": {},
   "outputs": [
    {
     "name": "stdout",
     "output_type": "stream",
     "text": [
      "快速排序後的列表: [11, 12, 22, 25, 34, 64, 90]\n"
     ]
    }
   ],
   "source": [
    "def quick_sort(arr):\n",
    "    if len(arr) <= 1:\n",
    "        return arr\n",
    "    else:\n",
    "        pivot = arr[0]\n",
    "        less = [x for x in arr[1:] if x <= pivot]\n",
    "        greater = [x for x in arr[1:] if x > pivot]\n",
    "        return quick_sort(less) + [pivot] + quick_sort(greater)\n",
    "\n",
    "# 範例\n",
    "arr = [64, 34, 25, 12, 22, 11, 90]\n",
    "arr = quick_sort(arr)\n",
    "print(\"快速排序後的列表:\", arr)\n"
   ]
  },
  {
   "cell_type": "code",
   "execution_count": 12,
   "metadata": {},
   "outputs": [
    {
     "name": "stdout",
     "output_type": "stream",
     "text": [
      "線性搜尋：目標元素 25 在列表中的索引是 2\n"
     ]
    }
   ],
   "source": [
    "def linear_search(arr, target):\n",
    "    for i in range(len(arr)):\n",
    "        if arr[i] == target:\n",
    "            return i  # 返回目標元素的索引\n",
    "    return -1  # 如果目標元素不在列表中，返回-1\n",
    "\n",
    "# 範例\n",
    "arr = [64, 34, 25, 12, 22, 11, 90]\n",
    "target = 25\n",
    "result = linear_search(arr, target)\n",
    "if result != -1:\n",
    "    print(f\"線性搜尋：目標元素 {target} 在列表中的索引是 {result}\")\n",
    "else:\n",
    "    print(f\"線性搜尋：目標元素 {target} 不在列表中\")\n"
   ]
  },
  {
   "cell_type": "code",
   "execution_count": 13,
   "metadata": {},
   "outputs": [
    {
     "name": "stdout",
     "output_type": "stream",
     "text": [
      "二分搜尋：目標元素 25 在列表中的索引是 3\n"
     ]
    }
   ],
   "source": [
    "def binary_search(arr, target):\n",
    "    low, high = 0, len(arr) - 1\n",
    "\n",
    "    while low <= high:\n",
    "        mid = (low + high) // 2\n",
    "        if arr[mid] == target:\n",
    "            return mid  # 返回目標元素的索引\n",
    "        elif arr[mid] < target:\n",
    "            low = mid + 1\n",
    "        else:\n",
    "            high = mid - 1\n",
    "\n",
    "    return -1  # 如果目標元素不在列表中，返回-1\n",
    "\n",
    "# 注意：二分搜尋要求列表已排序\n",
    "arr = [11, 12, 22, 25, 34, 64, 90]\n",
    "target = 25\n",
    "result = binary_search(arr, target)\n",
    "if result != -1:\n",
    "    print(f\"二分搜尋：目標元素 {target} 在列表中的索引是 {result}\")\n",
    "else:\n",
    "    print(f\"二分搜尋：目標元素 {target} 不在列表中\")\n"
   ]
  },
  {
   "cell_type": "code",
   "execution_count": 14,
   "metadata": {},
   "outputs": [
    {
     "name": "stdout",
     "output_type": "stream",
     "text": [
      "線性搜尋：目標元素 25 在列表中的索引是 2\n"
     ]
    }
   ],
   "source": [
    "arr = [64, 34, 25, 12, 22, 11, 90]\n",
    "target = 25\n",
    "\n",
    "try:\n",
    "    index = arr.index(target)\n",
    "    print(f\"線性搜尋：目標元素 {target} 在列表中的索引是 {index}\")\n",
    "except ValueError:\n",
    "    print(f\"線性搜尋：目標元素 {target} 不在列表中\")\n"
   ]
  },
  {
   "cell_type": "code",
   "execution_count": 15,
   "metadata": {},
   "outputs": [
    {
     "name": "stdout",
     "output_type": "stream",
     "text": [
      "二分搜尋：目標元素 25 在列表中的索引是 3\n"
     ]
    }
   ],
   "source": [
    "from bisect import bisect_left\n",
    "\n",
    "arr = [11, 12, 22, 25, 34, 64, 90]\n",
    "target = 25\n",
    "\n",
    "index = bisect_left(arr, target)\n",
    "\n",
    "if index != len(arr) and arr[index] == target:\n",
    "    print(f\"二分搜尋：目標元素 {target} 在列表中的索引是 {index}\")\n",
    "else:\n",
    "    print(f\"二分搜尋：目標元素 {target} 不在列表中\")\n"
   ]
  },
  {
   "cell_type": "code",
   "execution_count": 9,
   "metadata": {},
   "outputs": [],
   "source": [
    "def find_max_integer(arr):\n",
    "    # 檢查陣列是否為空\n",
    "    if not arr:\n",
    "        return \"陣列為空\"\n",
    "\n",
    "    # 初始假設最大整數為陣列的第一個元素\n",
    "    max_integer = arr[0]\n",
    "\n",
    "    # 遍歷陣列找到最大整數\n",
    "    for num in arr:\n",
    "        if num > max_integer:\n",
    "            max_integer = num\n",
    "\n",
    "    return max_integer\n",
    "\n",
    "# 使用者輸入數字並存入列表\n",
    "input_string = input(\"輸入包含至少一個整數的列表，數字之間以空格分隔: \")\n",
    "input_list = [int(x) for x in input_string.split()]\n",
    "\n",
    "# 使用 find_max_integer 函數找到最大整數並輸出結果\n",
    "result = find_max_integer(input_list)\n",
    "print(\"最大整數是:\", result)\n"
   ]
  },
  {
   "cell_type": "code",
   "execution_count": 4,
   "metadata": {},
   "outputs": [
    {
     "name": "stdout",
     "output_type": "stream",
     "text": [
      "最大整數是: 5\n"
     ]
    }
   ],
   "source": [
    "def findMax(nums):\n",
    "    if not nums:\n",
    "        return \"列表為空\"\n",
    "    \n",
    "    max_integer=nums[0]\n",
    "    \n",
    "    for i in nums:\n",
    "        if i>max_integer:\n",
    "            max_integer=i\n",
    "            \n",
    "    return max_integer\n",
    "\n",
    "input_string= input(\"輸入包含至少一個整數的列表，數字之間以空格分隔: \")\n",
    "input_list=[int(x) for x in input_string.split()]\n",
    "\n",
    "result=findMax(input_list)\n",
    "print(\"最大整數是:\", result)"
   ]
  },
  {
   "cell_type": "code",
   "execution_count": 11,
   "metadata": {},
   "outputs": [
    {
     "name": "stdout",
     "output_type": "stream",
     "text": [
      "金額合乎規範\n"
     ]
    }
   ],
   "source": [
    "def check_withdrawal_amount(amount):\n",
    "    # 檢查是否是 100 的倍數，大於等於 100，小於等於 10000\n",
    "    if amount % 100 == 0 and 100 <= amount <= 10000:\n",
    "        return True\n",
    "    else:\n",
    "        return False\n",
    "\n",
    "# 測試函式\n",
    "user_input = int(input(\"請輸入想要領取的金額：\"))\n",
    "\n",
    "if check_withdrawal_amount(user_input):\n",
    "    print(\"金額合乎規範\")\n",
    "else:\n",
    "    print(\"金額不合乎規範\")\n"
   ]
  },
  {
   "cell_type": "code",
   "execution_count": 7,
   "metadata": {},
   "outputs": [
    {
     "name": "stdout",
     "output_type": "stream",
     "text": [
      "True\n"
     ]
    }
   ],
   "source": [
    "def check_withdrawal_amount(amount):\n",
    "    # 檢查是否是 100 的倍數，大於等於 100，小於等於 10000\n",
    "    if amount % 100 == 0 and 100 <= amount <= 10000:\n",
    "        print(True) \n",
    "    else:\n",
    "        print(False) \n",
    "\n",
    "# 測試函式\n",
    "user_input = int(input(\"請輸入想要領取的金額：\"))\n",
    "check_withdrawal_amount(user_input)\n",
    "\n",
    "\n"
   ]
  },
  {
   "cell_type": "code",
   "execution_count": 1,
   "metadata": {},
   "outputs": [
    {
     "name": "stdout",
     "output_type": "stream",
     "text": [
      "15\n",
      "15\n",
      "48\n",
      "48\n"
     ]
    }
   ],
   "source": [
    "lyrics = \"\"\"上一篇文章被刪除後\n",
    "所有叛逆的字元\n",
    "決定不再讓空白 沈默\n",
    "我們比空氣更自由\n",
    "比時間還富有\n",
    "沒有文字 無需言語 就能溝通\"\"\"\n",
    "\n",
    "word = \"字\"\n",
    "print(lyrics.find(word))\n",
    "print(lyrics.index(word))\n",
    "\n",
    "print(lyrics.rfind(word)) # 找最後一次出現的 offset\n",
    "print(lyrics.rindex(word)) # 找最後一次出現的 offset"
   ]
  },
  {
   "cell_type": "code",
   "execution_count": 4,
   "metadata": {},
   "outputs": [
    {
     "name": "stdout",
     "output_type": "stream",
     "text": [
      "找到 9 了！\n"
     ]
    }
   ],
   "source": [
    "# 迴圈的 else 區塊\n",
    "# 這個區塊會在迴圈結束後執行，除非迴圈中有 break 被執行。\n",
    "numbers = \"123456787654346237239\"\n",
    "check_offset = 0\n",
    "while check_offset < len(numbers):\n",
    "    if numbers[check_offset] == \"9\":\n",
    "        print(\"找到 9 了！\")\n",
    "        break\n",
    "    check_offset += 1\n",
    "else:\n",
    "    print(\"這個字串裡面沒有 9 唷！\")"
   ]
  },
  {
   "cell_type": "code",
   "execution_count": 11,
   "metadata": {},
   "outputs": [
    {
     "name": "stdout",
     "output_type": "stream",
     "text": [
      "[False, False, True, True, True]\n",
      "(3, 4, 5)\n"
     ]
    }
   ],
   "source": [
    "def a (x):\n",
    "    return x>2\n",
    "\n",
    "b=map(a,[1,2,3,4,5])\n",
    "c=filter(lambda x: x>2, [1,2,3,4,5])\n",
    "\n",
    "print(list(b))\n",
    "print(tuple(c))"
   ]
  },
  {
   "cell_type": "code",
   "execution_count": 12,
   "metadata": {},
   "outputs": [
    {
     "name": "stdout",
     "output_type": "stream",
     "text": [
      "[1, 2]\n",
      "[9, 8, 7, 6, 5, 4, 3, 2, 1]\n"
     ]
    }
   ],
   "source": [
    "# 可以用 slice 的方式取得串列中的元素，這些 slice 都不會改變原本的串列\n",
    "my_list = [1, 2, 3, 4, 5, 6, 7, 8, 9]\n",
    "print(my_list[0:2])\n",
    "print(my_list[::-1])"
   ]
  },
  {
   "cell_type": "code",
   "execution_count": 15,
   "metadata": {},
   "outputs": [
    {
     "name": "stdout",
     "output_type": "stream",
     "text": [
      "原始字典:\n",
      "{'msycomtw': [10, 2, 3], 'steve1211': {'age': 30, 'city': 'New York'}, 'pp0p1123': [7, 8, 9, 10]}\n",
      "\n",
      "使用 deepcopy() 後:\n",
      "{'msycomtw': [100, 2, 3], 'steve1211': {'age': 300, 'city': 'New York'}, 'pp0p1123': [7, 8, 9, 100]}\n"
     ]
    }
   ],
   "source": [
    "import copy\n",
    "\n",
    "user = {\"msycomtw\": [1, 2, 3], \"steve1211\": {\"age\": 25, \"city\": \"New York\"}, \"pp0p1123\": [7, 8, 9]}\n",
    "\n",
    "# 使用 .copy()\n",
    "user_copy = user.copy()\n",
    "\n",
    "# 使用 copy.deepcopy()\n",
    "user_deepcopy = copy.deepcopy(user)\n",
    "\n",
    "# 修改複製後的值\n",
    "user_copy[\"msycomtw\"][0] = 10\n",
    "user_copy[\"steve1211\"][\"age\"] = 30\n",
    "user_copy[\"pp0p1123\"].append(10)\n",
    "\n",
    "# 修改深度複製後的值\n",
    "user_deepcopy[\"msycomtw\"][0] = 100\n",
    "user_deepcopy[\"steve1211\"][\"age\"] = 300\n",
    "user_deepcopy[\"pp0p1123\"].append(100)\n",
    "\n",
    "# 原始字典\n",
    "print(\"原始字典:\")\n",
    "print(user)\n",
    "\n",
    "# 使用 .copy() 後的結果\n",
    "# print(\"\\n使用 .copy() 後:\")\n",
    "# print(user_copy)\n",
    "\n",
    "# 使用 deepcopy() 後的結果\n",
    "print(\"\\n使用 deepcopy() 後:\")\n",
    "print(user_deepcopy)\n"
   ]
  },
  {
   "cell_type": "code",
   "execution_count": 18,
   "metadata": {},
   "outputs": [
    {
     "name": "stdout",
     "output_type": "stream",
     "text": [
      "Steven M 40000\n",
      "Ben M 50000\n",
      "Ivy F 60000\n",
      "Eva F 70000\n",
      "Jack M 80000\n",
      "Anna F 90000\n"
     ]
    }
   ],
   "source": [
    "# 用 zip( ) 配對串列中的元素\n",
    "members = [\"Steven\", \"Ben\", \"Ivy\", \"Eva\", \"Jack\", \"Anna\"]\n",
    "gender = [\"M\", \"M\", \"F\", \"F\", \"M\", \"F\"]\n",
    "salary = [40000, 50000, 60000, 70000, 80000, 90000]\n",
    "\n",
    "for m, g, s in zip(members, gender, salary):\n",
    "    test = \" \".join([m, g, str(s)])\n",
    "    print(test)"
   ]
  },
  {
   "cell_type": "code",
   "execution_count": 19,
   "metadata": {},
   "outputs": [
    {
     "name": "stdout",
     "output_type": "stream",
     "text": [
      "[(1, 'A'), (2, 'B'), (3, 'C')]\n",
      "{1: 'A', 2: 'B', 3: 'C'}\n"
     ]
    }
   ],
   "source": [
    "# zip() 可以用於快速建立二維串列或是字典\n",
    "numbers = [1, 2, 3]\n",
    "letters = [\"A\", \"B\", \"C\"]\n",
    "print(list(zip(numbers, letters)))\n",
    "print(dict(zip(numbers, letters)))"
   ]
  },
  {
   "cell_type": "code",
   "execution_count": 20,
   "metadata": {},
   "outputs": [
    {
     "name": "stdout",
     "output_type": "stream",
     "text": [
      "[1, 4, 9, 16, 25, 36, 49, 64, 81, 100]\n"
     ]
    }
   ],
   "source": [
    "# 一般建立方法\n",
    "square_number = []\n",
    "for i in range(1,11):\n",
    "    square_number.append(i**2)\n",
    "print(square_number)"
   ]
  },
  {
   "cell_type": "code",
   "execution_count": 22,
   "metadata": {},
   "outputs": [
    {
     "name": "stdout",
     "output_type": "stream",
     "text": [
      "[1, 4, 9, 16, 25, 36, 49, 64, 81, 100]\n"
     ]
    }
   ],
   "source": [
    "square_number=[i**2 for i in range(1,11)]\n",
    "print(square_number)"
   ]
  },
  {
   "cell_type": "code",
   "execution_count": 23,
   "metadata": {},
   "outputs": [
    {
     "name": "stdout",
     "output_type": "stream",
     "text": [
      "{'string': '123', 'int': 123, 'list': [123], 'tuple': (123,)}\n"
     ]
    }
   ],
   "source": [
    "book = {\"string\": \"123\", \"int\": 123, \"list\": [123], \"tuple\": (123,)}\n",
    "print(book)"
   ]
  },
  {
   "cell_type": "code",
   "execution_count": 24,
   "metadata": {},
   "outputs": [
    {
     "name": "stdout",
     "output_type": "stream",
     "text": [
      "{'CH1': 'Python基礎', 'CH2': '流程控制', 'CH3': '串列', 'CH4': '字典'}\n",
      "{'CH1': 'Python基礎', 'CH2': '流程控制', 'CH3': '串列', 'CH4': '字典'}\n"
     ]
    }
   ],
   "source": [
    "# 利用雙值序列建立字典\n",
    "# 傳入的雙值序列必須是可迭代的，且每個元素都只能有兩個值。\n",
    "book1 = dict([(\"CH1\", \"Python基礎\"), (\"CH2\", \"流程控制\"), (\"CH3\", \"串列\"), (\"CH4\", \"字典\")])\n",
    "book2 = dict(([\"CH1\", \"Python基礎\"], [\"CH2\", \"流程控制\"], [\"CH3\", \"串列\"], [\"CH4\", \"字典\"]))\n",
    "print(book1)\n",
    "print(book2)"
   ]
  },
  {
   "cell_type": "code",
   "execution_count": 30,
   "metadata": {},
   "outputs": [
    {
     "name": "stdout",
     "output_type": "stream",
     "text": [
      "{'CH1': 'Python基礎', 'CH2': '流程控制', 'CH3': '串列', 'CH4': '字典'}\n"
     ]
    }
   ],
   "source": [
    "# 利用 zip() 函式建立字典\n",
    "chapter = [\"CH1\", \"CH2\", \"CH3\", \"CH4\"]\n",
    "content = [\"Python基礎\", \"流程控制\", \"串列\", \"字典\"]\n",
    "book = dict(zip(chapter, content))\n",
    "print(book)"
   ]
  },
  {
   "cell_type": "code",
   "execution_count": 42,
   "metadata": {},
   "outputs": [
    {
     "name": "stdout",
     "output_type": "stream",
     "text": [
      "{'name': 'Tim', 'age': 18, 'ok': True}\n",
      "18\n",
      "True\n"
     ]
    }
   ],
   "source": [
    "a={'name':'Tim','age':18}\n",
    "b=a.get('age',100)\n",
    "c=a.setdefault('ok',True)\n",
    "print(a)\n",
    "print(b)\n",
    "print(c)"
   ]
  },
  {
   "cell_type": "code",
   "execution_count": 43,
   "metadata": {},
   "outputs": [
    {
     "name": "stdout",
     "output_type": "stream",
     "text": [
      "dict_keys(['CH1', 'CH2', 'CH3', 'CH4'])\n",
      "['CH1', 'CH2', 'CH3', 'CH4']\n"
     ]
    }
   ],
   "source": [
    "# 用 .keys() 取得字典中所有的鍵。\n",
    "book = {\"CH1\": \"Python基礎\", \"CH2\": \"流程控制\", \"CH3\": \"串列\", \"CH4\": \"字典\"}\n",
    "print(book.keys())\n",
    "print(list(book.keys()))"
   ]
  },
  {
   "cell_type": "code",
   "execution_count": 44,
   "metadata": {},
   "outputs": [
    {
     "name": "stdout",
     "output_type": "stream",
     "text": [
      "dict_items([('CH1', 'Python基礎'), ('CH2', '流程控制'), ('CH3', '串列'), ('CH4', '字典')])\n",
      "[('CH1', 'Python基礎'), ('CH2', '流程控制'), ('CH3', '串列'), ('CH4', '字典')]\n"
     ]
    }
   ],
   "source": [
    "# 用 .items() 取得字典中所有的鍵值對。\n",
    "book = {\"CH1\": \"Python基礎\", \"CH2\": \"流程控制\", \"CH3\": \"串列\", \"CH4\": \"字典\"}\n",
    "print(book.items())\n",
    "print(list(book.items()))"
   ]
  },
  {
   "cell_type": "code",
   "execution_count": 45,
   "metadata": {},
   "outputs": [
    {
     "name": "stdout",
     "output_type": "stream",
     "text": [
      "{'CH1': '專案練習-減重App', 'CH2': '專案練習-聊天機器人App'}\n",
      "{'CH1': '專案練習-減重App', 'CH2': '專案練習-聊天機器人App'}\n"
     ]
    }
   ],
   "source": [
    "# 當兩個字典有重複的鍵時，後面的值會覆蓋前面的值\n",
    "book1 = {\"CH1\": \"Python基礎\", \"CH2\": \"流程控制\"}\n",
    "book2 = {\"CH1\": \"專案練習-減重App\", \"CH2\": \"專案練習-聊天機器人App\"}\n",
    "print({**book1, **book2})\n",
    "\n",
    "book1 = {\"CH1\": \"Python基礎\", \"CH2\": \"流程控制\"}\n",
    "book2 = {\"CH1\": \"專案練習-減重App\", \"CH2\": \"專案練習-聊天機器人App\"}\n",
    "book1.update(book2)\n",
    "print(book1)"
   ]
  },
  {
   "cell_type": "code",
   "execution_count": 46,
   "metadata": {},
   "outputs": [
    {
     "name": "stdout",
     "output_type": "stream",
     "text": [
      "{'msycomtw': '123456141', 'steve1211': '654321', 'pp0p1123': '987654'}\n",
      "{'msycomtw': '123456', 'steve1211': '654321', 'pp0p1123': '987654'}\n"
     ]
    }
   ],
   "source": [
    "# 用 .copy() 來複製一份字典\n",
    "user = {\"msycomtw\": \"123456141\", \"steve1211\": \"654321\", \"pp0p1123\": \"987654\"}\n",
    "user_revise = user.copy()\n",
    "user_revise[\"msycomtw\"] = \"123456\"\n",
    "print(user)\n",
    "print(user_revise)"
   ]
  },
  {
   "cell_type": "code",
   "execution_count": 48,
   "metadata": {},
   "outputs": [
    {
     "name": "stdout",
     "output_type": "stream",
     "text": [
      "{4, 5}\n",
      "{4, 5}\n",
      "set()\n",
      "False\n",
      "{1, 2, 3, 4, 5, 6, 7, 8}\n",
      "{1, 2, 3, 4, 5, 6, 7, 8}\n",
      "{1, 2, 3}\n",
      "{8, 6, 7}\n",
      "{1, 2, 3, 6, 7, 8}\n",
      "{1, 2, 3, 6, 7, 8}\n"
     ]
    }
   ],
   "source": [
    "# 交集\n",
    "set_1 = {1, 2, 3, 4, 5}\n",
    "set_2 = {4, 5, 6, 7, 8}\n",
    "print(set_1 & set_2)\n",
    "print(set_1.intersection(set_2))\n",
    "\n",
    "# 如果沒有交集，則回傳空集合\n",
    "set_1 = {1, 2, 3, 4, 5}\n",
    "set_2 = {6, 7, 8}\n",
    "print(set_1 & set_2)\n",
    "print(bool(set_1 & set_2)) # 空集合會被當成 False\n",
    "\n",
    "# 聯集\n",
    "set_1 = {1, 2, 3, 4, 5}\n",
    "set_2 = {4, 5, 6, 7, 8}\n",
    "print(set_1 | set_2)\n",
    "print(set_1.union(set_2))\n",
    "\n",
    "# 差集\n",
    "set_1 = {1, 2, 3, 4, 5}\n",
    "set_2 = {4, 5, 6, 7, 8}\n",
    "print(set_1 - set_2)\n",
    "print(set_2.difference(set_1))\n",
    "\n",
    "# 互斥或\n",
    "set_1 = {1, 2, 3, 4, 5}\n",
    "set_2 = {4, 5, 6, 7, 8}\n",
    "print(set_1 ^ set_2)\n",
    "print(set_1.symmetric_difference(set_2))"
   ]
  },
  {
   "cell_type": "code",
   "execution_count": 49,
   "metadata": {},
   "outputs": [
    {
     "name": "stdout",
     "output_type": "stream",
     "text": [
      "True\n",
      "True\n",
      "True\n",
      "True\n",
      "True\n",
      "True\n"
     ]
    }
   ],
   "source": [
    "# 集合的比較\n",
    "set_1 = {1, 2, 3}\n",
    "set_2 = {1, 2, 3, 4, 5}\n",
    "print(set_1 <= set_2) # 子集合\n",
    "print(set_1.issubset(set_2)) # 子集合\n",
    "print(set_1 <= set_1) # 所有的集合都是自己的子集合\n",
    "print(set_1 < set_2) # 真子集合\n",
    "print(set_2 >= set_1) # 超集合\n",
    "print(set_2 > set_1) # 真超集合"
   ]
  },
  {
   "cell_type": "code",
   "execution_count": 50,
   "metadata": {},
   "outputs": [
    {
     "name": "stdout",
     "output_type": "stream",
     "text": [
      "3\n",
      "4\n",
      "5\n"
     ]
    }
   ],
   "source": [
    "for val in filter(lambda x:x>2,range(1,6)):\n",
    "    print(val)"
   ]
  },
  {
   "cell_type": "code",
   "execution_count": 59,
   "metadata": {},
   "outputs": [
    {
     "name": "stdout",
     "output_type": "stream",
     "text": [
      "[2, 3, 4, 5, 6]\n",
      "(2, 3, 4, 5, 6)\n"
     ]
    }
   ],
   "source": [
    "a=map(lambda x:x+1,[1,2,3,4,5])\n",
    "b=map(lambda x:x+1,range(1,6))\n",
    "print(list(a))\n",
    "print(tuple(b))"
   ]
  },
  {
   "cell_type": "code",
   "execution_count": 67,
   "metadata": {},
   "outputs": [
    {
     "name": "stdout",
     "output_type": "stream",
     "text": [
      "The style is \"color: yellow, font: Arial, size: 20px\"\n",
      "{'color': 'red', 'font': 'Arial', 'size': '20px'}\n"
     ]
    }
   ],
   "source": [
    "def set_style(**kwargs):\n",
    "    color = kwargs['color']\n",
    "    font = kwargs['font']\n",
    "    size = kwargs['size']\n",
    "    return f'The style is \\\"color: {color}, font: {font}, size: {size}\\\"'\n",
    "\n",
    "\n",
    "# 於函式呼叫使用「解包運算子**」\n",
    "style = {'color':'yellow', 'font':'Arial', 'size':'20px','abc':'123'}\n",
    "print(set_style(**style))\n",
    "\n",
    "# 於定義式使用「解包運算子**」\n",
    "style = {'color':'red', 'font':'Arial', 'size':'20px'}\n",
    "print({**style})"
   ]
  },
  {
   "cell_type": "code",
   "execution_count": 79,
   "metadata": {},
   "outputs": [
    {
     "name": "stdout",
     "output_type": "stream",
     "text": [
      "1 2 3\n",
      "None\n"
     ]
    }
   ],
   "source": [
    "# 純關鍵字引數\n",
    "def test(a, b, *, de):\n",
    "    print(a, b, de)\n",
    "    \n",
    "print(test(1, 2,de=3)) # c只能用關鍵字引數的方式指定\n"
   ]
  },
  {
   "cell_type": "code",
   "execution_count": 82,
   "metadata": {},
   "outputs": [
    {
     "name": "stdout",
     "output_type": "stream",
     "text": [
      "\n",
      "    Squares a number and returns the result.\n",
      "    The input must be an integer.\n",
      "    \n"
     ]
    }
   ],
   "source": [
    "# 用 help() 或是__doc__ 來取得某函式的詳細文檔字符串\n",
    "def square(x: int) -> int:\n",
    "    '''\n",
    "    Squares a number and returns the result.\n",
    "    The input must be an integer.\n",
    "    '''\n",
    "    return x ** 2\n",
    "\n",
    "# print(help(square(2)))\n",
    "print(square.__doc__)"
   ]
  },
  {
   "cell_type": "code",
   "execution_count": 83,
   "metadata": {},
   "outputs": [
    {
     "name": "stdout",
     "output_type": "stream",
     "text": [
      "hello!!!\n"
     ]
    }
   ],
   "source": [
    "def a(msg):\n",
    "    i = '!!!'         # ------------------------ 閉包開始\n",
    "    def b():          # A 函式內定義了 B 函式\n",
    "        print(msg + i)  # B 函式使用了 A 函式的變數\n",
    "    return b          # 將 B 函式當作回傳值 ------- 閉包結束\n",
    "s = a('hello')\n",
    "s()         "
   ]
  },
  {
   "cell_type": "code",
   "execution_count": 85,
   "metadata": {},
   "outputs": [
    {
     "name": "stdout",
     "output_type": "stream",
     "text": [
      "15\n",
      "7\n"
     ]
    }
   ],
   "source": [
    "# 閉包\n",
    "def add_n(summand):\n",
    "    def to_add(addend):\n",
    "        return addend + summand\n",
    "    return to_add\n",
    "\n",
    "add_10 = add_n(10)\n",
    "add_2 = add_n(2)\n",
    "print(add_10(5))\n",
    "print(add_2(5))"
   ]
  },
  {
   "cell_type": "code",
   "execution_count": 86,
   "metadata": {},
   "outputs": [
    {
     "name": "stdout",
     "output_type": "stream",
     "text": [
      "[10]\n",
      "10.0\n",
      "[10, 11]\n",
      "10.5\n",
      "[10, 11, 12]\n",
      "11.0\n"
     ]
    }
   ],
   "source": [
    "def count():                # 建立一個 count 函式\n",
    "    a = []                    # 函式內有區域變數 a 這個串列\n",
    "    def avg(val):             # 建立內置函式 avg ( 閉包 )\n",
    "        a.append(val)           # 將參數數值加入變數 a\n",
    "        print(a)                # 印出 a\n",
    "        return sum(a)/len(a)    # 回傳 a 串列所有數值的平均\n",
    "    return avg                # 回傳 avg\n",
    "\n",
    "test = count()\n",
    "print(test(10))      # 將 10 存入 a, 回傳 a 串列所有數值的平均\n",
    "print(test(11))      # 將 11 存入 a, 回傳 a 串列所有數值的平均\n",
    "print(test(12))      # 將 12 存入 a, 回傳 a 串列所有數值的平均"
   ]
  },
  {
   "cell_type": "code",
   "execution_count": 87,
   "metadata": {},
   "outputs": [
    {
     "data": {
      "text/plain": [
       "34"
      ]
     },
     "execution_count": 87,
     "metadata": {},
     "output_type": "execute_result"
    }
   ],
   "source": [
    "def count():\n",
    "    a = 1\n",
    "    def cal(val):\n",
    "        nonlocal a    # 宣告 a 為自由變數\n",
    "        a = a + val\n",
    "        return a\n",
    "    return cal\n",
    "\n",
    "test = count()\n",
    "test(10)\n",
    "test(11)\n",
    "test(12)    # 34 ( 1 + 10 + 11 + 12 )"
   ]
  },
  {
   "cell_type": "code",
   "execution_count": 100,
   "metadata": {},
   "outputs": [
    {
     "name": "stdout",
     "output_type": "stream",
     "text": [
      "[1, 4, 9, 16, 25, 36, 49, 64, 81]\n"
     ]
    }
   ],
   "source": [
    "a = [1,2,3,4,5,6,7,8,9]\n",
    "b = map(lambda x: x*x,a)\n",
    "print(list(b))    # [1, 4, 9, 16, 25, 36, 49, 64, 81"
   ]
  },
  {
   "cell_type": "code",
   "execution_count": 93,
   "metadata": {},
   "outputs": [
    {
     "name": "stdout",
     "output_type": "stream",
     "text": [
      "[[5, 1], [1, 2], [9, 2], [4, 3], [3, 7]]\n"
     ]
    }
   ],
   "source": [
    "# 匿名函式搭配 sorted()\n",
    "data = [[1,2],[4,3],[5,1],[9,2],[3,7]]\n",
    "result = sorted(data,key= lambda x: x[1])\n",
    "print(list(result))"
   ]
  },
  {
   "cell_type": "code",
   "execution_count": 3,
   "metadata": {},
   "outputs": [
    {
     "data": {
      "text/plain": [
       "[1, -2, -4, 5, 7, -8, -10, 11, 13, -14, -16, 17, 19]"
      ]
     },
     "execution_count": 3,
     "metadata": {},
     "output_type": "execute_result"
    }
   ],
   "source": [
    "val=-10\n",
    "[val if val%2 else -val\n",
    " for val in range(20)if val%3]"
   ]
  },
  {
   "cell_type": "code",
   "execution_count": 9,
   "metadata": {},
   "outputs": [
    {
     "name": "stdout",
     "output_type": "stream",
     "text": [
      "[0, 1, 4, 9, 16, 25, 36, 49, 64, 81, 100, 121, 144, 169, 196, 225, 256, 289, 324, 361]\n"
     ]
    }
   ],
   "source": [
    "c=(n**2 for n in range(20))\n",
    "print(list(c))"
   ]
  },
  {
   "cell_type": "code",
   "execution_count": 10,
   "metadata": {},
   "outputs": [
    {
     "name": "stdout",
     "output_type": "stream",
     "text": [
      "[-19, -17, -15, -13, -11, -9, -7, -5, -3, -1, 1, 3, 5, 7, 9, 11, 13, 15, 17, 19]\n"
     ]
    }
   ],
   "source": [
    "# 產生器\n",
    "def my_lenear_equation(a, b):\n",
    "    for i in range(-10, 10):\n",
    "        yield a * i + b\n",
    "        \n",
    "result = [y for y in my_lenear_equation(2, 1)]\n",
    "print(result)"
   ]
  },
  {
   "cell_type": "code",
   "execution_count": 2,
   "metadata": {},
   "outputs": [
    {
     "name": "stdout",
     "output_type": "stream",
     "text": [
      "0\n",
      "1\n",
      "4\n",
      "9\n",
      "16\n",
      "25\n",
      "36\n",
      "49\n",
      "64\n",
      "81\n",
      "0\n",
      "1\n",
      "4\n",
      "9\n",
      "16\n",
      "25\n",
      "36\n",
      "49\n",
      "64\n",
      "81\n",
      "\n",
      "0 1 4 9 16 25 36 49 64 81 "
     ]
    }
   ],
   "source": [
    "a = [i**2 for i in range(10)]\n",
    "for i in a:\n",
    "    print(i)    # 0 1 4 9 16 25 36 49 64 81\n",
    "for i in a:\n",
    "    print(i)    # 0 1 4 9 16 25 36 49 64 81\n",
    "print()\n",
    "b = (i**2 for i in range(10))\n",
    "for i in b:\n",
    "    print(i, end=' ')    # 0 1 4 9 16 25 36 49 64 81\n",
    "for i in b:\n",
    "    print(i, end=' ')    # 取不到值"
   ]
  },
  {
   "cell_type": "code",
   "execution_count": 6,
   "metadata": {},
   "outputs": [
    {
     "name": "stdout",
     "output_type": "stream",
     "text": [
      "[0, 1, 2, 3, 4, 5, 6, 7, 8, 9]\n",
      "<generator object <genexpr> at 0x0000027BD85ACC40>\n"
     ]
    }
   ],
   "source": [
    "a = [i for i in range(10)]  # 串列生成式\n",
    "b = (i for i in range(10))  # 產生器表示式\n",
    "print(a)   # [0, 1, 2, 3, 4, 5, 6, 7, 8, 9]\n",
    "print(b)   # <generator object <genexpr> at 0x7fbb6facba50>"
   ]
  },
  {
   "cell_type": "code",
   "execution_count": 7,
   "metadata": {},
   "outputs": [
    {
     "name": "stdout",
     "output_type": "stream",
     "text": [
      "起床\n",
      "洗臉、刷牙\n",
      "做第1份工作項目\n",
      "做第2份工作項目\n",
      "做第3份工作項目\n",
      "睡覺\n"
     ]
    }
   ],
   "source": [
    "# 裝飾器(Decorator)\n",
    "def regular(func):\n",
    "    def wrapper(n):\n",
    "        print(\"起床\")\n",
    "        print(\"洗臉、刷牙\")\n",
    "        func(n)\n",
    "        print(\"睡覺\")\n",
    "    return wrapper\n",
    "\n",
    "\n",
    "@regular\n",
    "def do_something(n):\n",
    "    for i in range(n):\n",
    "        print(f\"做第{i+1}份工作項目\")\n",
    "        \n",
    "# 原本裝飾器的用法\n",
    "# do_something = regular(do_something)\n",
    "\n",
    "do_something(3)"
   ]
  },
  {
   "cell_type": "code",
   "execution_count": 8,
   "metadata": {},
   "outputs": [
    {
     "name": "stdout",
     "output_type": "stream",
     "text": [
      "起床\n",
      "刷牙\n",
      "洗臉\n",
      "耍廢\n",
      "第1份工作\n",
      "第2份工作\n",
      "第3份工作\n",
      "耍廢\n",
      "睡覺\n"
     ]
    }
   ],
   "source": [
    "# 多個裝飾器(Decorator)\n",
    "def regular(func):\n",
    "    def wrapper(n):\n",
    "        print(\"起床\")\n",
    "        print(\"刷牙\")\n",
    "        print(\"洗臉\")\n",
    "        func(n)\n",
    "        print(\"睡覺\")\n",
    "    return wrapper\n",
    "\n",
    "def lazy(func):\n",
    "    def wrapper(n):\n",
    "        print(\"耍廢\")\n",
    "        func(n)\n",
    "        print(\"耍廢\")\n",
    "    return wrapper\n",
    "\n",
    "# 裝飾器是由下往上執行\n",
    "@regular\n",
    "@lazy\n",
    "def do_something(n):\n",
    "    for i in range(n):\n",
    "        print(f\"第{i+1}份工作\")\n",
    "\n",
    "do_something(3)"
   ]
  },
  {
   "cell_type": "code",
   "execution_count": 9,
   "metadata": {},
   "outputs": [
    {
     "name": "stdout",
     "output_type": "stream",
     "text": [
      "[1]\n",
      "[1]\n",
      "[1]\n",
      "[]\n",
      "[1]\n",
      "[1]\n",
      "[]\n",
      "[]\n"
     ]
    }
   ],
   "source": [
    "a = []\n",
    "b = a\n",
    "c = []\n",
    "d = c\n",
    "\n",
    "def f1():\n",
    "    # global c        # 如果加上這行，f2 裡的 c 就會被影響\n",
    "    a.append(1)\n",
    "    c = [1]\n",
    "    print(a)  # [1]\n",
    "    print(b)  # [1]   # 被影響\n",
    "    print(c)  # [1]\n",
    "    print(d)  # []    # 不受影響\n",
    "\n",
    "def f2():\n",
    "    print(a)  # [1]   # 被影響\n",
    "    print(b)  # [1]   # 被影響\n",
    "    print(c)  # []    # 不受影響，但如果 f1 加上 global c，此處就會被影響\n",
    "    print(d)  # []    # 不受影響\n",
    "\n",
    "f1()\n",
    "f2()"
   ]
  },
  {
   "cell_type": "code",
   "execution_count": 10,
   "metadata": {},
   "outputs": [
    {
     "name": "stdout",
     "output_type": "stream",
     "text": [
      "員工正在煮第 1 筆訂單的咖啡..\n",
      "員工煮完第 1 筆訂單的咖啡了!\n",
      "員工正在烤第 2 筆訂單的吐司..\n",
      "員工烤完第 2 筆訂單的吐司了!\n",
      "員工正在烤第 3 筆訂單的吐司..\n"
     ]
    },
    {
     "ename": "KeyboardInterrupt",
     "evalue": "",
     "output_type": "error",
     "traceback": [
      "\u001b[1;31m---------------------------------------------------------------------------\u001b[0m",
      "\u001b[1;31mKeyboardInterrupt\u001b[0m                         Traceback (most recent call last)",
      "\u001b[1;32mc:\\Users\\Tim\\Desktop\\test.ipynb 儲存格 290\u001b[0m line \u001b[0;36m1\n\u001b[0;32m     <a href='vscode-notebook-cell:/c%3A/Users/Tim/Desktop/test.ipynb#Y562sZmlsZQ%3D%3D?line=15'>16</a>\u001b[0m tasks \u001b[39m=\u001b[39m [coffee \u001b[39mif\u001b[39;00m i \u001b[39m==\u001b[39m \u001b[39m\"\u001b[39m\u001b[39mc\u001b[39m\u001b[39m\"\u001b[39m \u001b[39melse\u001b[39;00m toast \u001b[39mfor\u001b[39;00m i \u001b[39min\u001b[39;00m order]\n\u001b[0;32m     <a href='vscode-notebook-cell:/c%3A/Users/Tim/Desktop/test.ipynb#Y562sZmlsZQ%3D%3D?line=16'>17</a>\u001b[0m \u001b[39mfor\u001b[39;00m i, task \u001b[39min\u001b[39;00m \u001b[39menumerate\u001b[39m(tasks):\n\u001b[1;32m---> <a href='vscode-notebook-cell:/c%3A/Users/Tim/Desktop/test.ipynb#Y562sZmlsZQ%3D%3D?line=17'>18</a>\u001b[0m     task(i\u001b[39m+\u001b[39;49m\u001b[39m1\u001b[39;49m)\n\u001b[0;32m     <a href='vscode-notebook-cell:/c%3A/Users/Tim/Desktop/test.ipynb#Y562sZmlsZQ%3D%3D?line=19'>20</a>\u001b[0m \u001b[39mprint\u001b[39m(\u001b[39mf\u001b[39m\u001b[39m\"\u001b[39m\u001b[39mtime: \u001b[39m\u001b[39m{\u001b[39;00mtime\u001b[39m.\u001b[39mtime()\u001b[39m \u001b[39m\u001b[39m-\u001b[39m\u001b[39m \u001b[39mstart\u001b[39m}\u001b[39;00m\u001b[39m (s)\u001b[39m\u001b[39m\"\u001b[39m)\n",
      "\u001b[1;32mc:\\Users\\Tim\\Desktop\\test.ipynb 儲存格 290\u001b[0m line \u001b[0;36m9\n\u001b[0;32m      <a href='vscode-notebook-cell:/c%3A/Users/Tim/Desktop/test.ipynb#Y562sZmlsZQ%3D%3D?line=6'>7</a>\u001b[0m \u001b[39mdef\u001b[39;00m \u001b[39mtoast\u001b[39m(i):\n\u001b[0;32m      <a href='vscode-notebook-cell:/c%3A/Users/Tim/Desktop/test.ipynb#Y562sZmlsZQ%3D%3D?line=7'>8</a>\u001b[0m     \u001b[39mprint\u001b[39m(\u001b[39mf\u001b[39m\u001b[39m\"\u001b[39m\u001b[39m員工正在烤第 \u001b[39m\u001b[39m{\u001b[39;00mi\u001b[39m}\u001b[39;00m\u001b[39m 筆訂單的吐司..\u001b[39m\u001b[39m\"\u001b[39m)\n\u001b[1;32m----> <a href='vscode-notebook-cell:/c%3A/Users/Tim/Desktop/test.ipynb#Y562sZmlsZQ%3D%3D?line=8'>9</a>\u001b[0m     time\u001b[39m.\u001b[39;49msleep(\u001b[39m6\u001b[39;49m)\n\u001b[0;32m     <a href='vscode-notebook-cell:/c%3A/Users/Tim/Desktop/test.ipynb#Y562sZmlsZQ%3D%3D?line=9'>10</a>\u001b[0m     \u001b[39mprint\u001b[39m(\u001b[39mf\u001b[39m\u001b[39m\"\u001b[39m\u001b[39m員工烤完第 \u001b[39m\u001b[39m{\u001b[39;00mi\u001b[39m}\u001b[39;00m\u001b[39m 筆訂單的吐司了!\u001b[39m\u001b[39m\"\u001b[39m)\n",
      "\u001b[1;31mKeyboardInterrupt\u001b[0m: "
     ]
    }
   ],
   "source": [
    "import time\n",
    "def coffee(i):\n",
    "    print(f\"員工正在煮第 {i} 筆訂單的咖啡..\")\n",
    "    time.sleep(3)\n",
    "    print(f\"員工煮完第 {i} 筆訂單的咖啡了!\")\n",
    "    \n",
    "def toast(i):\n",
    "    print(f\"員工正在烤第 {i} 筆訂單的吐司..\")\n",
    "    time.sleep(6)\n",
    "    print(f\"員工烤完第 {i} 筆訂單的吐司了!\")\n",
    "\n",
    "if __name__ == \"__main__\":\n",
    "    start = time.time()\n",
    "    \n",
    "    order = [\"c\",\"t\",\"t\",\"c\",\"c\"]\n",
    "    tasks = [coffee if i == \"c\" else toast for i in order]\n",
    "    for i, task in enumerate(tasks):\n",
    "        task(i+1)\n",
    "    \n",
    "    print(f\"time: {time.time() - start} (s)\")"
   ]
  },
  {
   "cell_type": "code",
   "execution_count": 11,
   "metadata": {},
   "outputs": [
    {
     "ename": "RuntimeError",
     "evalue": "asyncio.run() cannot be called from a running event loop",
     "output_type": "error",
     "traceback": [
      "\u001b[1;31m---------------------------------------------------------------------------\u001b[0m",
      "\u001b[1;31mRuntimeError\u001b[0m                              Traceback (most recent call last)",
      "\u001b[1;32mc:\\Users\\Tim\\Desktop\\test.ipynb 儲存格 291\u001b[0m line \u001b[0;36m2\n\u001b[0;32m     <a href='vscode-notebook-cell:/c%3A/Users/Tim/Desktop/test.ipynb#Y563sZmlsZQ%3D%3D?line=16'>17</a>\u001b[0m order \u001b[39m=\u001b[39m [\u001b[39m\"\u001b[39m\u001b[39mc\u001b[39m\u001b[39m\"\u001b[39m,\u001b[39m\"\u001b[39m\u001b[39mt\u001b[39m\u001b[39m\"\u001b[39m,\u001b[39m\"\u001b[39m\u001b[39mt\u001b[39m\u001b[39m\"\u001b[39m,\u001b[39m\"\u001b[39m\u001b[39mc\u001b[39m\u001b[39m\"\u001b[39m,\u001b[39m\"\u001b[39m\u001b[39mc\u001b[39m\u001b[39m\"\u001b[39m]\n\u001b[0;32m     <a href='vscode-notebook-cell:/c%3A/Users/Tim/Desktop/test.ipynb#Y563sZmlsZQ%3D%3D?line=17'>18</a>\u001b[0m tasks \u001b[39m=\u001b[39m [coffee(i\u001b[39m+\u001b[39m\u001b[39m1\u001b[39m) \u001b[39mif\u001b[39;00m order[i] \u001b[39m==\u001b[39m \u001b[39m\"\u001b[39m\u001b[39mc\u001b[39m\u001b[39m\"\u001b[39m \u001b[39melse\u001b[39;00m toast(i\u001b[39m+\u001b[39m\u001b[39m1\u001b[39m) \u001b[39mfor\u001b[39;00m i \u001b[39min\u001b[39;00m \u001b[39mrange\u001b[39m(\u001b[39mlen\u001b[39m(order))]\n\u001b[1;32m---> <a href='vscode-notebook-cell:/c%3A/Users/Tim/Desktop/test.ipynb#Y563sZmlsZQ%3D%3D?line=19'>20</a>\u001b[0m asyncio\u001b[39m.\u001b[39;49mrun(asyncio\u001b[39m.\u001b[39;49mwait(tasks))\n\u001b[0;32m     <a href='vscode-notebook-cell:/c%3A/Users/Tim/Desktop/test.ipynb#Y563sZmlsZQ%3D%3D?line=21'>22</a>\u001b[0m \u001b[39mprint\u001b[39m(\u001b[39mf\u001b[39m\u001b[39m\"\u001b[39m\u001b[39mtime: \u001b[39m\u001b[39m{\u001b[39;00mtime\u001b[39m.\u001b[39mtime()\u001b[39m \u001b[39m\u001b[39m-\u001b[39m\u001b[39m \u001b[39mstart\u001b[39m}\u001b[39;00m\u001b[39m (s)\u001b[39m\u001b[39m\"\u001b[39m)\n",
      "File \u001b[1;32mc:\\Users\\Tim\\AppData\\Local\\Programs\\Python\\Python312\\Lib\\asyncio\\runners.py:190\u001b[0m, in \u001b[0;36mrun\u001b[1;34m(main, debug, loop_factory)\u001b[0m\n\u001b[0;32m    161\u001b[0m \u001b[39m\u001b[39m\u001b[39m\"\"\"Execute the coroutine and return the result.\u001b[39;00m\n\u001b[0;32m    162\u001b[0m \n\u001b[0;32m    163\u001b[0m \u001b[39mThis function runs the passed coroutine, taking care of\u001b[39;00m\n\u001b[1;32m   (...)\u001b[0m\n\u001b[0;32m    186\u001b[0m \u001b[39m    asyncio.run(main())\u001b[39;00m\n\u001b[0;32m    187\u001b[0m \u001b[39m\"\"\"\u001b[39;00m\n\u001b[0;32m    188\u001b[0m \u001b[39mif\u001b[39;00m events\u001b[39m.\u001b[39m_get_running_loop() \u001b[39mis\u001b[39;00m \u001b[39mnot\u001b[39;00m \u001b[39mNone\u001b[39;00m:\n\u001b[0;32m    189\u001b[0m     \u001b[39m# fail fast with short traceback\u001b[39;00m\n\u001b[1;32m--> 190\u001b[0m     \u001b[39mraise\u001b[39;00m \u001b[39mRuntimeError\u001b[39;00m(\n\u001b[0;32m    191\u001b[0m         \u001b[39m\"\u001b[39m\u001b[39masyncio.run() cannot be called from a running event loop\u001b[39m\u001b[39m\"\u001b[39m)\n\u001b[0;32m    193\u001b[0m \u001b[39mwith\u001b[39;00m Runner(debug\u001b[39m=\u001b[39mdebug, loop_factory\u001b[39m=\u001b[39mloop_factory) \u001b[39mas\u001b[39;00m runner:\n\u001b[0;32m    194\u001b[0m     \u001b[39mreturn\u001b[39;00m runner\u001b[39m.\u001b[39mrun(main)\n",
      "\u001b[1;31mRuntimeError\u001b[0m: asyncio.run() cannot be called from a running event loop"
     ]
    }
   ],
   "source": [
    "import time\n",
    "import asyncio\n",
    "\n",
    "async def coffee(i):\n",
    "    print(f\"員工正在煮第 {i} 筆訂單的咖啡..\")\n",
    "    await asyncio.sleep(3)\n",
    "    print(f\"員工煮完第 {i} 筆訂單的咖啡了!\")\n",
    "    \n",
    "async def toast(i):\n",
    "    print(f\"員工正在烤第 {i} 筆訂單的吐司..\")\n",
    "    await asyncio.sleep(6)\n",
    "    print(f\"員工正在烤完第 {i} 筆訂單的吐司了!\")\n",
    "\n",
    "if __name__ == \"__main__\":\n",
    "    start = time.time()\n",
    "    \n",
    "    order = [\"c\",\"t\",\"t\",\"c\",\"c\"]\n",
    "    tasks = [coffee(i+1) if order[i] == \"c\" else toast(i+1) for i in range(len(order))]\n",
    "    \n",
    "    asyncio.run(asyncio.wait(tasks))\n",
    "    \n",
    "    print(f\"time: {time.time() - start} (s)\")"
   ]
  },
  {
   "cell_type": "code",
   "execution_count": 12,
   "metadata": {},
   "outputs": [
    {
     "name": "stdout",
     "output_type": "stream",
     "text": [
      "5\n",
      "20\n",
      "25\n"
     ]
    }
   ],
   "source": [
    "# 類別-正方形(Square)\n",
    "class Square:\n",
    "    def __init__(self, side):\n",
    "        self.side = side\n",
    "        self.perimeter = side * 4\n",
    "        self.area = side ** 2\n",
    "        \n",
    "my_square = Square(5)\n",
    "print(my_square.side)\n",
    "print(my_square.perimeter)\n",
    "print(my_square.area)"
   ]
  },
  {
   "cell_type": "code",
   "execution_count": 13,
   "metadata": {},
   "outputs": [
    {
     "name": "stdout",
     "output_type": "stream",
     "text": [
      "5\n",
      "20\n",
      "25\n",
      "10\n",
      "40\n",
      "100\n"
     ]
    }
   ],
   "source": [
    "# 類別-正方形(Square)\n",
    "class Square():\n",
    "    def __init__(self, side):\n",
    "        # 為了更加保障安全，我們在內部屬性前面加上兩個底線__，標示它為「隱藏屬性」\n",
    "        self.__side = side\n",
    "        \n",
    "    def get_side(self):\n",
    "        return self.__side\n",
    "    \n",
    "    def set_side(self, side):\n",
    "        self.__side = side\n",
    "    \n",
    "    def get_perimeter(self):\n",
    "        return self.__side * 4\n",
    "    \n",
    "    def get_area(self):\n",
    "        return self.__side ** 2\n",
    "    \n",
    "    # 使用property()函式，將方法轉換為屬性\n",
    "    side = property(get_side, set_side)\n",
    "    perimeter =  property(get_perimeter)\n",
    "    area = property(get_area)\n",
    "    \n",
    "my_square = Square(5)\n",
    "print(my_square.side)\n",
    "print(my_square.perimeter)\n",
    "print(my_square.area)\n",
    "\n",
    "# 修改屬性\n",
    "my_square.side = 10\n",
    "print(my_square.side)\n",
    "print(my_square.perimeter)\n",
    "print(my_square.area)"
   ]
  },
  {
   "cell_type": "code",
   "execution_count": 16,
   "metadata": {},
   "outputs": [
    {
     "name": "stdout",
     "output_type": "stream",
     "text": [
      "5\n",
      "20\n",
      "25\n",
      "10\n",
      "40\n",
      "100\n"
     ]
    }
   ],
   "source": [
    "# 類別-正方形(Square)\n",
    "class Square():\n",
    "    def __init__(self, side):\n",
    "        self.__side = side\n",
    "    \n",
    "    @property  \n",
    "    def side(self):\n",
    "        return self.__side\n",
    "    \n",
    "    @side.setter\n",
    "    def side(self, side):\n",
    "        self.__side = side\n",
    "    \n",
    "    @property\n",
    "    def perimeter(self):\n",
    "        return self.__side * 4\n",
    "    \n",
    "    @property\n",
    "    def area(self):\n",
    "        return self.__side ** 2\n",
    "    \n",
    "my_square = Square(5)\n",
    "print(my_square.side)\n",
    "print(my_square.perimeter)\n",
    "print(my_square.area)\n",
    "\n",
    "# 修改屬性\n",
    "my_square.side = 10\n",
    "print(my_square.side)\n",
    "print(my_square.perimeter)\n",
    "print(my_square.area)"
   ]
  },
  {
   "cell_type": "code",
   "execution_count": 21,
   "metadata": {},
   "outputs": [
    {
     "name": "stdout",
     "output_type": "stream",
     "text": [
      "25\n",
      "20\n"
     ]
    }
   ],
   "source": [
    "class Rectangle():\n",
    "    def __init__(self, width, height):\n",
    "        self.width = width\n",
    "        self.height = height\n",
    "        \n",
    "    @property\n",
    "    def perimeter(self):\n",
    "        return (self.width + self.height) * 2\n",
    "    \n",
    "    @property\n",
    "    def area(self):\n",
    "        return self.width * self.height\n",
    "    \n",
    "class Square(Rectangle):\n",
    "    def __init__(self, side):\n",
    "        # 在子類別中呼叫父類別的初始化方法\n",
    "        super().__init__(side, side)\n",
    "\n",
    "my_square = Square(5)\n",
    "print(my_square.area)\n",
    "print(my_square.perimeter)\n"
   ]
  },
  {
   "cell_type": "code",
   "execution_count": 8,
   "metadata": {},
   "outputs": [
    {
     "name": "stdout",
     "output_type": "stream",
     "text": [
      "起床\n",
      "洗臉、刷牙\n",
      "做第1份工作項目\n",
      "做第2份工作項目\n",
      "做第3份工作項目\n",
      "睡覺\n"
     ]
    }
   ],
   "source": [
    "# 裝飾器(Decorator)\n",
    "def regular(func):\n",
    "    def wrapper(n):\n",
    "        print(\"起床\")\n",
    "        print(\"洗臉、刷牙\")\n",
    "        func(n)\n",
    "        print(\"睡覺\")\n",
    "    return wrapper\n",
    "\n",
    "\n",
    "@regular\n",
    "def do_something(x):\n",
    "    for i in range(x):\n",
    "        print(f\"做第{i+1}份工作項目\")\n",
    "        \n",
    "# 原本裝飾器的用法\n",
    "# do_something = regular(do_something)\n",
    "\n",
    "do_something(3)"
   ]
  },
  {
   "cell_type": "code",
   "execution_count": 29,
   "metadata": {},
   "outputs": [
    {
     "name": "stdout",
     "output_type": "stream",
     "text": [
      "makeup...\n",
      "go!!!!\n"
     ]
    }
   ],
   "source": [
    "def a(func):\n",
    "    def c():\n",
    "        print('makeup...')\n",
    "        func()\n",
    "    return c\n",
    "# 裝飾器寫在 b 的前面，表示裝飾 b\n",
    "@a\n",
    "def b():\n",
    "    print('go!!!!')\n",
    "\n",
    "b()"
   ]
  },
  {
   "cell_type": "code",
   "execution_count": 1,
   "metadata": {},
   "outputs": [
    {
     "name": "stdout",
     "output_type": "stream",
     "text": [
      "1\n",
      "3\n"
     ]
    }
   ],
   "source": [
    "s=1\n",
    "\n",
    "def func(a):\n",
    "    s=2\n",
    "    a=4\n",
    "    \n",
    "func(5)\n",
    "print(s)\n",
    "s=3\n",
    "func(s)\n",
    "print(s)    "
   ]
  },
  {
   "cell_type": "code",
   "execution_count": 2,
   "metadata": {},
   "outputs": [
    {
     "name": "stdout",
     "output_type": "stream",
     "text": [
      "[7, 4, 8, 5, 9, 6, 3, 0, 0]\n"
     ]
    }
   ],
   "source": [
    "arr=[0,0,0,0,0,0,0,0,0]\n",
    "for i in range(10):\n",
    "    arr[(i+i)%7]=i\n",
    "    \n",
    "print(arr)"
   ]
  },
  {
   "cell_type": "code",
   "execution_count": 3,
   "metadata": {},
   "outputs": [
    {
     "name": "stdout",
     "output_type": "stream",
     "text": [
      "[1 2 3 4 5]\n"
     ]
    }
   ],
   "source": [
    "import numpy as np\n",
    "arr=np.array([1,2,3,4,5])\n",
    "print(arr)"
   ]
  },
  {
   "cell_type": "code",
   "execution_count": 4,
   "metadata": {},
   "outputs": [
    {
     "name": "stdout",
     "output_type": "stream",
     "text": [
      "125\n"
     ]
    }
   ],
   "source": [
    "def a(v1):\n",
    "    def b(v2):\n",
    "        return v1**v2\n",
    "    return b\n",
    "\n",
    "a1=a(5)\n",
    "print(a1(3))"
   ]
  },
  {
   "cell_type": "code",
   "execution_count": 1,
   "metadata": {},
   "outputs": [
    {
     "name": "stdout",
     "output_type": "stream",
     "text": [
      "[1 2 3 4]\n",
      "[[1 2]\n",
      " [3 4]]\n",
      "[[[1 2]\n",
      "  [3 4]]\n",
      "\n",
      " [[5 6]\n",
      "  [7 8]]]\n"
     ]
    }
   ],
   "source": [
    "import numpy as np\n",
    "\n",
    "a = np.array([1,2,3,4])                      # 建立一維陣列\n",
    "b = np.array([[1,2],[3,4]])                  # 建立二維陣列\n",
    "c = np.array([[[1,2],[3,4]],[[5,6],[7,8]]])  # 建立三維陣列\n",
    "print(a)\n",
    "print(b)\n",
    "print(c)"
   ]
  },
  {
   "cell_type": "code",
   "execution_count": 7,
   "metadata": {},
   "outputs": [
    {
     "name": "stdout",
     "output_type": "stream",
     "text": [
      "[[[1 2 3 4]]]\n"
     ]
    }
   ],
   "source": [
    "import numpy as np\n",
    "\n",
    "a = np.array([1,2,3,4], ndmin=3)\n",
    "print(a)    # [[[1 2 3 4]]]  注意有三層括號，是三維陣列"
   ]
  },
  {
   "cell_type": "code",
   "execution_count": 25,
   "metadata": {},
   "outputs": [
    {
     "name": "stdout",
     "output_type": "stream",
     "text": [
      "[[[0. 0. 0.]\n",
      "  [0. 0. 0.]\n",
      "  [0. 0. 0.]]\n",
      "\n",
      " [[0. 0. 0.]\n",
      "  [0. 0. 0.]\n",
      "  [0. 0. 0.]]\n",
      "\n",
      " [[0. 0. 0.]\n",
      "  [0. 0. 0.]\n",
      "  [0. 0. 0.]]\n",
      "\n",
      " [[0. 0. 0.]\n",
      "  [0. 0. 0.]\n",
      "  [0. 0. 0.]]]\n"
     ]
    }
   ],
   "source": [
    "import numpy as np\n",
    "\n",
    "a = np.zeros(3)        # 建立一維 zero 陣列\n",
    "b = np.zeros([3,3])    # 建立二維 zero 陣列\n",
    "c = np.zeros([4,3,3])  # 建立三維 zero 陣列\n",
    "# print(a)\n",
    "# print(b)\n",
    "print(c)"
   ]
  },
  {
   "cell_type": "code",
   "execution_count": 29,
   "metadata": {},
   "outputs": [
    {
     "name": "stdout",
     "output_type": "stream",
     "text": [
      "[[0. 0. 1. 0. 0. 0.]\n",
      " [0. 0. 0. 1. 0. 0.]\n",
      " [0. 0. 0. 0. 1. 0.]\n",
      " [0. 0. 0. 0. 0. 1.]]\n"
     ]
    }
   ],
   "source": [
    "import numpy as np\n",
    "\n",
    "# print(np.eye(3))     # 建立 3x3 陣列，對角線起始點為 0\n",
    "# print(np.eye(3,5))   # 建立 3x5 陣列，對角線起始點為 0\n",
    "print(np.eye(4,6,2)) # 建立 3x3 陣列，對角線起始點為 2"
   ]
  },
  {
   "cell_type": "code",
   "execution_count": 34,
   "metadata": {},
   "outputs": [
    {
     "name": "stdout",
     "output_type": "stream",
     "text": [
      "[[[1. 1. 1.]\n",
      "  [1. 1. 1.]\n",
      "  [1. 1. 1.]\n",
      "  [1. 1. 1.]]\n",
      "\n",
      " [[1. 1. 1.]\n",
      "  [1. 1. 1.]\n",
      "  [1. 1. 1.]\n",
      "  [1. 1. 1.]]\n",
      "\n",
      " [[1. 1. 1.]\n",
      "  [1. 1. 1.]\n",
      "  [1. 1. 1.]\n",
      "  [1. 1. 1.]]]\n"
     ]
    }
   ],
   "source": [
    "import numpy as np\n",
    "\n",
    "a = np.ones(2)        # 建立一維 one 陣列\n",
    "b = np.ones([2,2])    # 建立二維 one 陣列\n",
    "c = np.ones([3,4,3])  # 建立三維 one 陣列\n",
    "# print(a)\n",
    "# print(b)\n",
    "print(c)"
   ]
  },
  {
   "cell_type": "code",
   "execution_count": 37,
   "metadata": {},
   "outputs": [
    {
     "name": "stdout",
     "output_type": "stream",
     "text": [
      "[1 2 3 1 2 3 1 2 3 1 2 3 1 2 3]\n",
      "[[1 2 3 1 2 3]\n",
      " [1 2 3 1 2 3]\n",
      " [1 2 3 1 2 3]\n",
      " [1 2 3 1 2 3]\n",
      " [1 2 3 1 2 3]]\n"
     ]
    }
   ],
   "source": [
    "a = np.array([1,2,3])\n",
    "b = np.tile(a, 5)       # [1,2,3] 重複 5 次變成一維陣列\n",
    "c = np.tile(a, (5, 2))  # [1,2,3] 重複放入 5x2 的陣列中\n",
    "print(b)\n",
    "print(c)"
   ]
  },
  {
   "cell_type": "code",
   "execution_count": 6,
   "metadata": {},
   "outputs": [
    {
     "name": "stdout",
     "output_type": "stream",
     "text": [
      "[1 2] [3 4] [5 6] [7 8] \n",
      "1 2 3 4 5 6 7 8 "
     ]
    }
   ],
   "source": [
    "import numpy as np\n",
    "\n",
    "b = np.array([[[1,2],[3,4]],[[5,6],[7,8]]])\n",
    "for i in b:\n",
    "    for j in i:\n",
    "    #     for k in j:\n",
    "            print(j, end=' ')    # 1 2 3 4 5 6 7 8 使用三次 for 迴圈，一層層取出資料\n",
    "print()\n",
    "for i in np.nditer(b):\n",
    "    print(i, end= ' ')           # 1 2 3 4 5 6 7 8 只使用一次 for 迴圈"
   ]
  },
  {
   "cell_type": "code",
   "execution_count": 47,
   "metadata": {},
   "outputs": [
    {
     "name": "stdout",
     "output_type": "stream",
     "text": [
      "(0, 0, 0) 1\n",
      "(0, 0, 1) 2\n",
      "(0, 0, 2) 3\n",
      "(0, 1, 0) 4\n",
      "(0, 1, 1) 5\n",
      "(0, 1, 2) 6\n",
      "(1, 0, 0) 7\n",
      "(1, 0, 1) 8\n",
      "(1, 0, 2) 9\n",
      "(1, 1, 0) 10\n",
      "(1, 1, 1) 11\n",
      "(1, 1, 2) 12\n"
     ]
    }
   ],
   "source": [
    "import numpy as np\n",
    "\n",
    "a = np.array([[[1,2,3],[4,5,6]],[[7,8,9],[10,11,12]]])\n",
    "for i,j in np.ndenumerate(a):\n",
    "    print(i,j)"
   ]
  },
  {
   "cell_type": "code",
   "execution_count": 67,
   "metadata": {},
   "outputs": [
    {
     "name": "stdout",
     "output_type": "stream",
     "text": [
      "[[1 2 3 4]\n",
      " [5 6 7 8]]\n"
     ]
    }
   ],
   "source": [
    "import numpy as np\n",
    "\n",
    "a = np.array([[1,2],[3,4],[5,6],[7,8]])\n",
    "b = a.reshape(-1)        # 轉換成一維陣列\n",
    "# print(b)                 # [1 2 3 4 5 6 7 8]\n",
    "c = a.reshape((-1,4))    # 等同 a.reshape((2,4))\n",
    "print(c)\n",
    "\n",
    "d = a.reshape((2,2,-1))  # 等同 a.reshape((2,2,2))\n",
    "# print(d)\n"
   ]
  },
  {
   "cell_type": "code",
   "execution_count": 4,
   "metadata": {},
   "outputs": [
    {
     "name": "stdout",
     "output_type": "stream",
     "text": [
      "[[6 5]\n",
      " [4 3]\n",
      " [2 1]]\n",
      "[11  7  3]\n"
     ]
    }
   ],
   "source": [
    "import numpy as np\n",
    "\n",
    "np1=np.array([6,5,4,3,2,1])\n",
    "\n",
    "np2=np1.reshape(3,2)\n",
    "\n",
    "print(np2)\n",
    "\n",
    "print(np2.sum(axis=1))"
   ]
  },
  {
   "cell_type": "code",
   "execution_count": 2,
   "metadata": {},
   "outputs": [
    {
     "name": "stdout",
     "output_type": "stream",
     "text": [
      "16\n"
     ]
    }
   ],
   "source": [
    "x=5\n",
    "if x>0 and x%2==1:\n",
    "    x=7\n",
    "    \n",
    "if x>6:\n",
    "    x=12\n",
    "    if x%3==4:\n",
    "        x=1\n",
    "    else:\n",
    "        x=0\n",
    "elif x>11:\n",
    "    x=13\n",
    "else:\n",
    "    x=14\n",
    "    \n",
    "if x:\n",
    "    x=15\n",
    "else:\n",
    "    x=16\n",
    "    \n",
    "print(x)"
   ]
  },
  {
   "cell_type": "code",
   "execution_count": 4,
   "metadata": {},
   "outputs": [
    {
     "name": "stdout",
     "output_type": "stream",
     "text": [
      "1\n",
      "3\n",
      "1\n"
     ]
    }
   ],
   "source": [
    "a = 1\n",
    "b = c = a\n",
    "b=3\n",
    "print(a) # 得到結果 1\n",
    "print(b) # 得到結果 1\n",
    "print(c) # 得到結果"
   ]
  },
  {
   "cell_type": "code",
   "execution_count": 3,
   "metadata": {},
   "outputs": [
    {
     "name": "stdout",
     "output_type": "stream",
     "text": [
      "[1]\n",
      "[1]\n",
      "[1]\n",
      "[]\n",
      "[1]\n",
      "[1]\n",
      "[1]\n",
      "[]\n"
     ]
    }
   ],
   "source": [
    "a = []\n",
    "b = a\n",
    "c = []\n",
    "d = c\n",
    "\n",
    "def f1():\n",
    "    global c        # 如果加上這行，f2 裡的 c 就會被影響\n",
    "    a.append(1)\n",
    "    c = [1]\n",
    "    print(a)  # [1]\n",
    "    print(b)  # [1]   # 被影響\n",
    "    print(c)  # [1]\n",
    "    print(d)  # []    # 不受影響\n",
    "\n",
    "def f2():\n",
    "    print(a)  # [1]   # 被影響\n",
    "    print(b)  # [1]   # 被影響\n",
    "    print(c)  # []    # 不受影響，但如果 f1 加上 global c，此處就會被影響\n",
    "    print(d)  # []    # 不受影響\n",
    "\n",
    "f1()\n",
    "f2()"
   ]
  },
  {
   "cell_type": "code",
   "execution_count": 11,
   "metadata": {},
   "outputs": [
    {
     "name": "stdout",
     "output_type": "stream",
     "text": [
      "5\n",
      "65\n",
      "257\n"
     ]
    }
   ],
   "source": [
    "print(int('101', 2))  # 5   二進制\n",
    "print(int('101', 8))  # 65  八進制\n",
    "print(int('101', 16)) # 257 十六進制"
   ]
  },
  {
   "cell_type": "code",
   "execution_count": 12,
   "metadata": {},
   "outputs": [
    {
     "name": "stdout",
     "output_type": "stream",
     "text": [
      "hello!!\n",
      "hello!!\n",
      "  hello!!\n",
      "  hello\n"
     ]
    }
   ],
   "source": [
    "a = '  hello!!'\n",
    "b = a.strip()\n",
    "e = a.strip('!')\n",
    "c = a.lstrip()\n",
    "d = a.rstrip()\n",
    "print(b) # hello!!\n",
    "print(c) # hello!!\n",
    "print(d) #   hello!!\n",
    "print(e) #   hello"
   ]
  },
  {
   "cell_type": "code",
   "execution_count": 10,
   "metadata": {},
   "outputs": [
    {
     "name": "stdout",
     "output_type": "stream",
     "text": [
      "['a1', 'a2', 'a3', ['b1', 'b2', 'b3']]\n"
     ]
    }
   ],
   "source": [
    "a = ['a1','a2','a3']\n",
    "b = ['b1','b2','b3']\n",
    "a.append(b)\n",
    "print(a)"
   ]
  },
  {
   "cell_type": "code",
   "execution_count": 11,
   "metadata": {},
   "outputs": [
    {
     "name": "stdout",
     "output_type": "stream",
     "text": [
      "[0, 1, 2, 3, 4]\n",
      "5\n"
     ]
    }
   ],
   "source": [
    "a = [0,1,2,3,4,5]\n",
    "b = a.pop()\n",
    "print(a)   # [0, 1, 3, 4, 5]\n",
    "print(b)   # 2"
   ]
  },
  {
   "cell_type": "code",
   "execution_count": 16,
   "metadata": {},
   "outputs": [
    {
     "name": "stdout",
     "output_type": "stream",
     "text": [
      "[0, 3, 2, 1, 4, 9, 6, 8, 7, 5]\n",
      "[0, 1, 2, 3, 4, 5, 6, 7, 8, 9]\n",
      "[9, 8, 7, 6, 5, 4, 3, 2, 1, 0]\n"
     ]
    }
   ],
   "source": [
    "a = [0,3,2,1,4,9,6,8,7,5]\n",
    "b = sorted(a)\n",
    "c = sorted(a, reverse=True)\n",
    "print(a)   # [0, 3, 2, 1, 4, 9, 6, 8, 7, 5]\n",
    "print(b)   # [0, 1, 2, 3, 4, 5, 6, 7, 8, 9]\n",
    "print(c)   # [9, 8, 7, 6, 5, 4, 3, 2, 1, 0]"
   ]
  },
  {
   "cell_type": "code",
   "execution_count": 17,
   "metadata": {},
   "outputs": [
    {
     "name": "stdout",
     "output_type": "stream",
     "text": [
      "[[1, 2, 3], [9, 8, 7], [2, 4, 6], [3, 1, 9]]\n",
      "[[1, 2, 3], [2, 4, 6], [3, 1, 9], [9, 8, 7]]\n",
      "[[3, 1, 9], [1, 2, 3], [2, 4, 6], [9, 8, 7]]\n"
     ]
    }
   ],
   "source": [
    "a = [[1,2,3],[9,8,7],[2,4,6],[3,1,9]]\n",
    "b = sorted(a)\n",
    "c = sorted(a, key = lambda x: x[1])\n",
    "print(a)   # [[1, 2, 3], [9, 8, 7], [2, 4, 6], [3, 1, 9]]\n",
    "print(b)   # [[1, 2, 3], [2, 4, 6], [3, 1, 9], [9, 8, 7]] 使用第一個項目 1,2,3,9 排序\n",
    "print(c)   # [[3, 1, 9], [1, 2, 3], [2, 4, 6], [9, 8, 7]] 使用第二個項目 1,2,4,8 排序"
   ]
  },
  {
   "cell_type": "code",
   "execution_count": 18,
   "metadata": {},
   "outputs": [
    {
     "name": "stdout",
     "output_type": "stream",
     "text": [
      "set()\n",
      "{1, 2, 3, 4, 5}\n",
      "{'z', 'x', 'y'}\n",
      "{'h', 'e', 'o', 'l'}\n"
     ]
    }
   ],
   "source": [
    "a = set()\n",
    "b = set([1,2,3,4,5,1,2,3,4,5])\n",
    "c = set({'x':1,'y':2,'z':3})\n",
    "d = set('hello')\n",
    "print(a)   # set()\n",
    "print(b)   # {1, 2, 3, 4, 5}  只留下不重複的部分\n",
    "print(c)   # {'x', 'y', 'z'}  如果是字典，只保留鍵\n",
    "print(d)   # {'l', 'o', 'h', 'e'}  只留下不重複的部分"
   ]
  },
  {
   "cell_type": "code",
   "execution_count": 21,
   "metadata": {},
   "outputs": [
    {
     "name": "stdout",
     "output_type": "stream",
     "text": [
      "{3, 4, 5}\n",
      "{3, 4, 5}\n",
      "{1, 2, 3, 4, 5, 6, 7}\n",
      "{1, 2, 3, 4, 5, 6, 7}\n",
      "{6, 7}\n",
      "{6, 7}\n",
      "{1, 2, 6, 7}\n",
      "{1, 2, 6, 7}\n"
     ]
    }
   ],
   "source": [
    "a = {1,2,3,4,5}\n",
    "b = {3,4,5,6,7}\n",
    "\n",
    "# 交集\n",
    "print(a.intersection(b))   # {3, 4, 5}\n",
    "print(a&b)                 # {3, 4, 5}\n",
    "# 聯集\n",
    "print(a.union(b))          # {1, 2, 3, 4, 5, 6, 7}\n",
    "print(a|b)                 # {1, 2, 3, 4, 5, 6, 7}\n",
    "# 差集\n",
    "print(b.difference(a))     # {1, 2}\n",
    "print(b-a)                 # {1, 2}\n",
    "# 對稱差集\n",
    "print(a.symmetric_difference(b))  # {1, 2, 6, 7}\n",
    "print(a^b)                        # {1, 2, 6, 7}"
   ]
  },
  {
   "cell_type": "code",
   "execution_count": 24,
   "metadata": {},
   "outputs": [
    {
     "name": "stdout",
     "output_type": "stream",
     "text": [
      "0\n",
      "1\n",
      "3\n",
      "6\n",
      "10\n",
      "15\n",
      "21\n",
      "28\n",
      "36\n",
      "45\n",
      "55\n"
     ]
    }
   ],
   "source": [
    "sum=0\n",
    "for n in range(11):\n",
    "    sum+=n\n",
    "    print(sum)\n",
    "# else:\n",
    "#     print(sum)"
   ]
  },
  {
   "cell_type": "code",
   "execution_count": 25,
   "metadata": {},
   "outputs": [
    {
     "name": "stdout",
     "output_type": "stream",
     "text": [
      "3\n",
      "0\n",
      "1\n",
      "1\n",
      "2\n",
      "1\n",
      "2\n"
     ]
    }
   ],
   "source": [
    "a = 1 and 2 and 3\n",
    "print(a)            # 3，全部都 True，所以回傳最右邊的值\n",
    "\n",
    "b = 1 and 0 and 2\n",
    "print(b)            # 0，遇到 0 ( False )，回傳第一個 False 的值就是 0\n",
    "\n",
    "c = 1 or 2 or 3\n",
    "print(c)            # 1，全部都 True，所以回傳第一個值\n",
    "\n",
    "d = 1 or 0 or 3\n",
    "print(d)            # 1，遇到 0 ( False )，回傳第一個 True 的值就是 1\n",
    "\n",
    "e = 1 and 2 or 3\n",
    "print(e)            # 2，效果等同 1 and ( 2 or 3 )\n",
    "\n",
    "f = 1 or 2 and 3\n",
    "print(f)            # 1，效果等同 1 or ( 2 and 3 )，2 和 3 先取出 3 之後變成 1 or 3\n",
    "\n",
    "g = 1 and 2 or 3 and 4 or 5\n",
    "print(g)       "
   ]
  },
  {
   "cell_type": "code",
   "execution_count": 33,
   "metadata": {},
   "outputs": [
    {
     "name": "stdout",
     "output_type": "stream",
     "text": [
      "dict_items([('CH1', 'Python基礎'), ('CH2', '流程控制'), ('CH3', '串列'), ('CH4', '字典')])\n",
      "[('CH1', 'Python基礎'), ('CH2', '流程控制'), ('CH3', '串列'), ('CH4', '字典')]\n"
     ]
    }
   ],
   "source": [
    "# 用 .items() 取得字典中所有的鍵值對。\n",
    "book = {\"CH1\": \"Python基礎\", \"CH2\": \"流程控制\", \"CH3\": \"串列\", \"CH4\": \"字典\"}\n",
    "print(book.items())\n",
    "print(list(book.items()))"
   ]
  },
  {
   "cell_type": "code",
   "execution_count": 34,
   "metadata": {},
   "outputs": [
    {
     "name": "stdout",
     "output_type": "stream",
     "text": [
      "{1: 1, 2: 4, 3: 9, 4: 16, 5: 25, 6: 36, 7: 49, 8: 64, 9: 81}\n"
     ]
    }
   ],
   "source": [
    "a = {i:i*i for i in range(1,10)}\n",
    "print(a)       # {1: 1, 2: 4, 3: 9, 4: 16, 5: 25, 6: 36, 7: 49, 8: 64, 9: 81}"
   ]
  },
  {
   "cell_type": "code",
   "execution_count": 56,
   "metadata": {},
   "outputs": [
    {
     "name": "stdout",
     "output_type": "stream",
     "text": [
      "a\n",
      "1\n",
      "b\n",
      "2\n",
      "c\n",
      "3\n",
      "a\n",
      "b\n",
      "c\n",
      "1\n",
      "2\n",
      "3\n"
     ]
    }
   ],
   "source": [
    "c={'a':1,'b':2,'c':3}\n",
    "for i in c:\n",
    "    print(i) \n",
    "    print(c[i])\n",
    "for j in c.keys():\n",
    "    print(j)\n",
    "for k in c.values():\n",
    "    print(k)"
   ]
  },
  {
   "cell_type": "code",
   "execution_count": 60,
   "metadata": {},
   "outputs": [
    {
     "name": "stdout",
     "output_type": "stream",
     "text": [
      "(0, 'a')\n",
      "0\n",
      "(1, 'b')\n",
      "1\n",
      "(2, 'c')\n",
      "2\n",
      "<enumerate object at 0x00000145306225C0>\n",
      "[]\n",
      "[(0, 'a'), (1, 'b'), (2, 'c')]\n",
      "[(0, 'a'), (1, 'c'), (2, 'b')]\n",
      "[(2, 'a'), (3, 'b'), (4, 'c')]\n"
     ]
    }
   ],
   "source": [
    "a = enumerate(['a','b','c'])\n",
    "b = enumerate(('a','b','c'))\n",
    "c = enumerate({'a','b','c'})\n",
    "d = enumerate({'a':1,'b':2,'c':3}, start=2)\n",
    "for index,y in enumerate(a):\n",
    "    print(y)\n",
    "    print(index)\n",
    "    \n",
    "print(a)          # <enumerate object at 0x7f8de8677050>\n",
    "print(list(a))    # [(0, 'a'), (1, 'b'), (2, 'c')]\n",
    "print(list(b))    # [(0, 'a'), (1, 'b'), (2, 'c')]\n",
    "print(list(c))    # [(0, 'a'), (1, 'b'), (2, 'c')]\n",
    "print(list(d))    # [(2, 'a'), (3, 'b'), (4, 'c')] 設定 start=2，第一項的索引值變成 2"
   ]
  },
  {
   "cell_type": "code",
   "execution_count": 46,
   "metadata": {},
   "outputs": [
    {
     "name": "stdout",
     "output_type": "stream",
     "text": [
      "[1, 4, 9, 16, 25, 36, 49, 64, 81]\n"
     ]
    }
   ],
   "source": [
    "a=[i*i for i in range(1,10)]\n",
    "print(a)"
   ]
  },
  {
   "cell_type": "code",
   "execution_count": 48,
   "metadata": {},
   "outputs": [
    {
     "name": "stdout",
     "output_type": "stream",
     "text": [
      "[100, 2, 100, 4, 100, 6, 100, 8, 100]\n",
      "[2, 4, 6, 8]\n"
     ]
    }
   ],
   "source": [
    "a=[i if i%2==0 else 100 for i in range(1,10)]\n",
    "print(a)\n",
    "\n",
    "b=[i for i in range(1,10) if i%2==0]\n",
    "print(b)     "
   ]
  },
  {
   "cell_type": "code",
   "execution_count": 49,
   "metadata": {},
   "outputs": [
    {
     "name": "stdout",
     "output_type": "stream",
     "text": [
      "{1: 1, 2: 4, 3: 9, 4: 16, 5: 25, 6: 36, 7: 49, 8: 64, 9: 81, 10: 100}\n"
     ]
    }
   ],
   "source": [
    "a={i:i*i for i in range(1,11)}\n",
    "print(a)"
   ]
  },
  {
   "cell_type": "code",
   "execution_count": 63,
   "metadata": {},
   "outputs": [
    {
     "name": "stdout",
     "output_type": "stream",
     "text": [
      "['1', '2', '3', '4', '5']\n",
      "[1, 2, 3, 4, 5]\n"
     ]
    }
   ],
   "source": [
    "a = ['1', '2', '3' ,'4', '5']\n",
    "print(a)                # ['1', '2', '3' ,'4', '5']\n",
    "\n",
    "b = list(map(int, a))   # 取出 a 的每個項目，套用 int(項目)，組成新物件\n",
    "print(b)                # [1, 2, 3, 4, 5]"
   ]
  },
  {
   "cell_type": "code",
   "execution_count": 67,
   "metadata": {},
   "outputs": [
    {
     "name": "stdout",
     "output_type": "stream",
     "text": [
      "[2, 3, 4, 5, 6]\n",
      "(2, 3, 4, 5, 6)\n"
     ]
    }
   ],
   "source": [
    "def a(x):\n",
    "    return x+1\n",
    "b = map(a, [1,2,3,4,5])\n",
    "c = map(lambda x: x+1, [1,2,3,4,5])\n",
    "\n",
    "print(list(b))    # [2, 3, 4, 5, 6]\n",
    "print(tuple(c))   # (2, 3, 4, 5, 6)"
   ]
  },
  {
   "cell_type": "code",
   "execution_count": 71,
   "metadata": {},
   "outputs": [
    {
     "name": "stdout",
     "output_type": "stream",
     "text": [
      "[3, 4, 5]\n",
      "(3, 4, 5)\n"
     ]
    }
   ],
   "source": [
    "def a(x):\n",
    "  return x>2\n",
    "b = filter(a, [1,2,3,4,5])\n",
    "c = filter(lambda x: x>2, [1,2,3,4,5])\n",
    "\n",
    "print(list(b))    # [3, 4, 5]\n",
    "print(tuple(c))   # (3, 4, 5)"
   ]
  },
  {
   "cell_type": "code",
   "execution_count": 92,
   "metadata": {},
   "outputs": [
    {
     "name": "stdout",
     "output_type": "stream",
     "text": [
      "[[2, 1], [5, 2], [9, 3], [3, 5], [1, 8]]\n"
     ]
    }
   ],
   "source": [
    "a = [[1,8],[2,1],[5,2],[3,5],[9,3]]\n",
    "b = sorted(a,key=lambda x: x[1])\n",
    "print(b)"
   ]
  },
  {
   "cell_type": "code",
   "execution_count": 93,
   "metadata": {},
   "outputs": [
    {
     "name": "stdout",
     "output_type": "stream",
     "text": [
      "{'CH1': '專案練習-減重App', 'CH2': '專案練習-聊天機器人App'}\n",
      "{'CH1': '專案練習-減重App', 'CH2': '專案練習-聊天機器人App'}\n"
     ]
    }
   ],
   "source": [
    "# 當兩個字典有重複的鍵時，後面的值會覆蓋前面的值\n",
    "book1 = {\"CH1\": \"Python基礎\", \"CH2\": \"流程控制\"}\n",
    "book2 = {\"CH1\": \"專案練習-減重App\", \"CH2\": \"專案練習-聊天機器人App\"}\n",
    "print({**book1, **book2})\n",
    "\n",
    "book1 = {\"CH1\": \"Python基礎\", \"CH2\": \"流程控制\"}\n",
    "book2 = {\"CH1\": \"專案練習-減重App\", \"CH2\": \"專案練習-聊天機器人App\"}\n",
    "book1.update(book2)\n",
    "print(book1)"
   ]
  },
  {
   "cell_type": "code",
   "execution_count": 98,
   "metadata": {},
   "outputs": [
    {
     "name": "stdout",
     "output_type": "stream",
     "text": [
      "[(1, 'A'), (2, 'B'), (3, 'C')]\n",
      "{1: 'A', 2: 'B', 3: 'C'}\n"
     ]
    }
   ],
   "source": [
    "# zip() 可以用於快速建立二維串列或是字典\n",
    "numbers = [1, 2, 3]\n",
    "letters = [\"A\", \"B\", \"C\"]\n",
    "print (list(zip(numbers, letters)))\n",
    "print(dict(zip(numbers, letters)))"
   ]
  },
  {
   "cell_type": "code",
   "execution_count": 95,
   "metadata": {},
   "outputs": [
    {
     "name": "stdout",
     "output_type": "stream",
     "text": [
      "[(1, 5, 8), (2, 6, 9)]\n"
     ]
    }
   ],
   "source": [
    "a = [1,2,3,4]\n",
    "b = [5,6,7]\n",
    "c = [8,9]\n",
    "d = zip(a, b, c)\n",
    "print(list(d))    # [(1, 5, 8), (2, 6, 9)]"
   ]
  },
  {
   "cell_type": "code",
   "execution_count": 100,
   "metadata": {},
   "outputs": [
    {
     "name": "stdout",
     "output_type": "stream",
     "text": [
      "[('Steven', 'M', 40000), ('Ben', 'M', 50000), ('Ivy', 'F', 60000), ('Eva', 'F', 70000), ('Jack', 'M', 80000), ('Anna', 'F', 90000)]\n",
      "Steven | M | 40000\n",
      "Ben | M | 50000\n",
      "Ivy | F | 60000\n",
      "Eva | F | 70000\n",
      "Jack | M | 80000\n",
      "Anna | F | 90000\n"
     ]
    }
   ],
   "source": [
    "# 用 zip( ) 配對串列中的元素\n",
    "members = [\"Steven\", \"Ben\", \"Ivy\", \"Eva\", \"Jack\", \"Anna\"]\n",
    "gender = [\"M\", \"M\", \"F\", \"F\", \"M\", \"F\"]\n",
    "salary = [40000, 50000, 60000, 70000, 80000, 90000]\n",
    "print(list(zip(members, gender, salary)))\n",
    "for member, gender, salary in zip(members, gender, salary):\n",
    "    test = \" | \".join([member, gender, str(salary)])\n",
    "    print(test)"
   ]
  },
  {
   "cell_type": "code",
   "execution_count": 101,
   "metadata": {},
   "outputs": [
    {
     "name": "stdout",
     "output_type": "stream",
     "text": [
      "[0, 1, 2, 3, 4, 5, 6, 7, 8, 9]\n",
      "<generator object <genexpr> at 0x00000145305DB400>\n"
     ]
    }
   ],
   "source": [
    "a = [i for i in range(10)]  # 串列生成式\n",
    "b = (i for i in range(10))  # 產生器表示式\n",
    "print(a)   # [0, 1, 2, 3, 4, 5, 6, 7, 8, 9]\n",
    "print(b)"
   ]
  },
  {
   "cell_type": "code",
   "execution_count": 107,
   "metadata": {},
   "outputs": [
    {
     "name": "stdout",
     "output_type": "stream",
     "text": [
      "0 1 4 9 16 25 36 49 64 81 0 1 4 9 16 25 36 49 64 81 \n",
      "0 1 4 9 16 25 36 49 64 81 "
     ]
    }
   ],
   "source": [
    "a = [i**2 for i in range(10)]\n",
    "for i in a:\n",
    "    print(i, end=' ')    # 0 1 4 9 16 25 36 49 64 81\n",
    "for i in a:\n",
    "    print(i, end=' ')    # 0 1 4 9 16 25 36 49 64 81\n",
    "print()\n",
    "b = (i**2 for i in range(10))\n",
    "for i in b:\n",
    "    print(i, end=' ')    # 0 1 4 9 16 25 36 49 64 81\n",
    "for i in b:\n",
    "    print(i, end=' ')  "
   ]
  },
  {
   "cell_type": "code",
   "execution_count": 117,
   "metadata": {},
   "outputs": [
    {
     "name": "stdout",
     "output_type": "stream",
     "text": [
      "0\n",
      "1\n",
      "4\n",
      "9\n",
      "16\n",
      "25\n",
      "36\n",
      "49\n",
      "64\n",
      "81\n"
     ]
    }
   ],
   "source": [
    "a = (i**2 for i in range(10))  # 串列生成式\n",
    "\n",
    "print(next(a))  # 0\n",
    "print(next(a))  # 1\n",
    "print(next(a))  # 4\n",
    "print(next(a))  # 9\n",
    "print(next(a))  # 16\n",
    "print(next(a))  # 25\n",
    "print(next(a))  # 36\n",
    "print(next(a))  # 49\n",
    "print(next(a))  # 64\n",
    "print(next(a))  # 81\n",
    "\n"
   ]
  },
  {
   "cell_type": "code",
   "execution_count": 136,
   "metadata": {},
   "outputs": [
    {
     "name": "stdout",
     "output_type": "stream",
     "text": [
      "2\n",
      "4\n",
      "16\n",
      "256\n",
      "65536\n"
     ]
    }
   ],
   "source": [
    "def f(max):\n",
    "    n = 0\n",
    "    a = 2\n",
    "    while n<max:\n",
    "        yield(a)     # 換成 yield\n",
    "        a = a ** 2\n",
    "        n = n + 1 \n",
    "\n",
    "g=f(5)\n",
    "print(next(g))   \n",
    "print(next(g))   \n",
    "print(next(g)) \n",
    "print(next(g))  \n",
    "print(next(g))    \n",
    "\n",
    "\n"
   ]
  },
  {
   "cell_type": "code",
   "execution_count": 149,
   "metadata": {},
   "outputs": [
    {
     "name": "stdout",
     "output_type": "stream",
     "text": [
      "[0, 1, 2, 3, 4]\n",
      "[5, 6, 7, 8, 9]\n"
     ]
    }
   ],
   "source": [
    "def f(max):\n",
    "    n = 0\n",
    "    while n<max:\n",
    "        yield(n)\n",
    "        n = n + 1\n",
    "g = f(10)\n",
    "# a = []\n",
    "# b = []\n",
    "# for i in range(5):\n",
    "#     a.append(next(g))\n",
    "# for i in range(5):\n",
    "#     b.append(next(g))\n",
    "\n",
    "a=[next(g) for i in range(5)]\n",
    "b=[next(g) for i in range(5)]\n",
    "\n",
    "print(a)     # [0, 1, 2, 3, 4]\n",
    "print(b)     # [5, 6, 7, 8, 9]"
   ]
  },
  {
   "cell_type": "code",
   "execution_count": 150,
   "metadata": {},
   "outputs": [
    {
     "name": "stdout",
     "output_type": "stream",
     "text": [
      "15\n",
      "7\n"
     ]
    }
   ],
   "source": [
    "# 閉包\n",
    "def add_n(summand):\n",
    "    def to_add(addend):\n",
    "        return addend + summand\n",
    "    return to_add\n",
    "\n",
    "add_10 = add_n(10)\n",
    "add_2 = add_n(2)\n",
    "print(add_10(5))\n",
    "print(add_2(5))"
   ]
  },
  {
   "cell_type": "code",
   "execution_count": 151,
   "metadata": {},
   "outputs": [
    {
     "name": "stdout",
     "output_type": "stream",
     "text": [
      "hello!!!\n"
     ]
    }
   ],
   "source": [
    "def a(msg):\n",
    "    i = '!!!'         # ------------------------ 閉包開始\n",
    "    def b():          # A 函式內定義了 B 函式\n",
    "        print(msg + i)  # B 函式使用了 A 函式的變數\n",
    "    return b          # 將 B 函式當作回傳值 ------- 閉包結束\n",
    "s = a('hello')\n",
    "s()                 # hello"
   ]
  },
  {
   "cell_type": "code",
   "execution_count": 161,
   "metadata": {},
   "outputs": [
    {
     "name": "stdout",
     "output_type": "stream",
     "text": [
      "[10]\n"
     ]
    },
    {
     "ename": "TypeError",
     "evalue": "'int' object is not callable",
     "output_type": "error",
     "traceback": [
      "\u001b[1;31m---------------------------------------------------------------------------\u001b[0m",
      "\u001b[1;31mTypeError\u001b[0m                                 Traceback (most recent call last)",
      "\u001b[1;32mc:\\Users\\Tim\\Desktop\\test.ipynb 儲存格 347\u001b[0m line \u001b[0;36m1\n\u001b[0;32m      <a href='vscode-notebook-cell:/c%3A/Users/Tim/Desktop/test.ipynb#Z1005sZmlsZQ%3D%3D?line=6'>7</a>\u001b[0m     \u001b[39mreturn\u001b[39;00m avg                \u001b[39m# 回傳 avg\u001b[39;00m\n\u001b[0;32m      <a href='vscode-notebook-cell:/c%3A/Users/Tim/Desktop/test.ipynb#Z1005sZmlsZQ%3D%3D?line=8'>9</a>\u001b[0m test \u001b[39m=\u001b[39m count()\n\u001b[1;32m---> <a href='vscode-notebook-cell:/c%3A/Users/Tim/Desktop/test.ipynb#Z1005sZmlsZQ%3D%3D?line=9'>10</a>\u001b[0m \u001b[39mprint\u001b[39m(test(\u001b[39m10\u001b[39;49m))      \u001b[39m# 將 10 存入 a, 回傳 a 串列所有數值的平均\u001b[39;00m\n\u001b[0;32m     <a href='vscode-notebook-cell:/c%3A/Users/Tim/Desktop/test.ipynb#Z1005sZmlsZQ%3D%3D?line=10'>11</a>\u001b[0m \u001b[39mprint\u001b[39m(test(\u001b[39m11\u001b[39m))      \u001b[39m# 將 11 存入 a, 回傳 a 串列所有數值的平均\u001b[39;00m\n\u001b[0;32m     <a href='vscode-notebook-cell:/c%3A/Users/Tim/Desktop/test.ipynb#Z1005sZmlsZQ%3D%3D?line=11'>12</a>\u001b[0m \u001b[39mprint\u001b[39m(test(\u001b[39m12\u001b[39m))      \u001b[39m# 將 12 存入 a, 回傳 a 串列所有數值的平均\u001b[39;00m\n",
      "\u001b[1;32mc:\\Users\\Tim\\Desktop\\test.ipynb 儲存格 347\u001b[0m line \u001b[0;36m6\n\u001b[0;32m      <a href='vscode-notebook-cell:/c%3A/Users/Tim/Desktop/test.ipynb#Z1005sZmlsZQ%3D%3D?line=3'>4</a>\u001b[0m a\u001b[39m.\u001b[39mappend(val)           \u001b[39m# 將參數數值加入變數 a\u001b[39;00m\n\u001b[0;32m      <a href='vscode-notebook-cell:/c%3A/Users/Tim/Desktop/test.ipynb#Z1005sZmlsZQ%3D%3D?line=4'>5</a>\u001b[0m \u001b[39mprint\u001b[39m(a)                \u001b[39m# 印出 a\u001b[39;00m\n\u001b[1;32m----> <a href='vscode-notebook-cell:/c%3A/Users/Tim/Desktop/test.ipynb#Z1005sZmlsZQ%3D%3D?line=5'>6</a>\u001b[0m \u001b[39mreturn\u001b[39;00m \u001b[39msum\u001b[39;49m(a)\u001b[39m/\u001b[39m\u001b[39mlen\u001b[39m(a)\n",
      "\u001b[1;31mTypeError\u001b[0m: 'int' object is not callable"
     ]
    }
   ],
   "source": [
    "def count():                # 建立一個 count 函式\n",
    "    a = []                    # 函式內有區域變數 a 這個串列\n",
    "    def avg(val):             # 建立內置函式 avg ( 閉包 )\n",
    "        a.append(val)           # 將參數數值加入變數 a\n",
    "        print(a)                # 印出 a\n",
    "        return sum(a)/len(a)    # 回傳 a 串列所有數值的平均\n",
    "    return avg                # 回傳 avg\n",
    "\n",
    "test = count()\n",
    "print(test(10))      # 將 10 存入 a, 回傳 a 串列所有數值的平均\n",
    "print(test(11))      # 將 11 存入 a, 回傳 a 串列所有數值的平均\n",
    "print(test(12))      # 將 12 存入 a, 回傳 a 串列所有數值的平均"
   ]
  },
  {
   "cell_type": "code",
   "execution_count": 162,
   "metadata": {},
   "outputs": [
    {
     "name": "stdout",
     "output_type": "stream",
     "text": [
      "[0, 1, 2, 3, 4]\n"
     ]
    }
   ],
   "source": [
    "# 匿名函式搭配 for 迴圈\n",
    "y = lambda n: [i for i in range(n)]\n",
    "print(y(5))"
   ]
  },
  {
   "cell_type": "code",
   "execution_count": 4,
   "metadata": {},
   "outputs": [
    {
     "data": {
      "text/plain": [
       "dict"
      ]
     },
     "execution_count": 4,
     "metadata": {},
     "output_type": "execute_result"
    }
   ],
   "source": [
    "a={}\n",
    "type(a)"
   ]
  },
  {
   "cell_type": "code",
   "execution_count": 5,
   "metadata": {},
   "outputs": [
    {
     "name": "stdout",
     "output_type": "stream",
     "text": [
      "1\n",
      "3\n"
     ]
    }
   ],
   "source": [
    "s=1\n",
    "\n",
    "def func(a):\n",
    "    s=2\n",
    "    a=4\n",
    "func(s)\n",
    "print(s)\n",
    "s=3\n",
    "func(s)\n",
    "print(s)"
   ]
  },
  {
   "cell_type": "code",
   "execution_count": 1,
   "metadata": {},
   "outputs": [
    {
     "name": "stdout",
     "output_type": "stream",
     "text": [
      "0\n"
     ]
    }
   ],
   "source": [
    "a=0%7\n",
    "print(a)"
   ]
  },
  {
   "cell_type": "code",
   "execution_count": 1,
   "metadata": {},
   "outputs": [
    {
     "name": "stdout",
     "output_type": "stream",
     "text": [
      "[1, 2, 3, [4, 5, 6]]\n"
     ]
    }
   ],
   "source": [
    "my_list1 = [1, 2, 3]\n",
    "my_list2 = [4, 5, 6]\n",
    "my_list1.append(my_list2)\n",
    "print(my_list1)"
   ]
  },
  {
   "cell_type": "code",
   "execution_count": 2,
   "metadata": {},
   "outputs": [
    {
     "name": "stdout",
     "output_type": "stream",
     "text": [
      "[[0, 2], [3, 4]]\n",
      "[[0, 2], [3, 4]]\n",
      "[[1, 2], [3, 4]]\n",
      "[[0, 2], [3, 4]]\n"
     ]
    }
   ],
   "source": [
    "a = [[1, 2], [3, 4]]\n",
    "b = a.copy()\n",
    "b[0][0] = 0\n",
    "print(a)\n",
    "print(b)\n",
    "\n",
    "# 使用 deepcopy( ) 來複製串列\n",
    "import copy\n",
    "a = [[1, 2], [3, 4]]\n",
    "b = copy.deepcopy(a)\n",
    "b[0][0] = 0\n",
    "print(a)\n",
    "print(b)"
   ]
  },
  {
   "cell_type": "code",
   "execution_count": 3,
   "metadata": {},
   "outputs": [
    {
     "name": "stdout",
     "output_type": "stream",
     "text": [
      "原始字典:\n",
      "{'msycomtw': [10, 2, 3], 'steve1211': {'age': 30, 'city': 'New York'}, 'pp0p1123': [7, 8, 9, 10]}\n",
      "\n",
      "使用 deepcopy() 後:\n",
      "{'msycomtw': [100, 2, 3], 'steve1211': {'age': 300, 'city': 'New York'}, 'pp0p1123': [7, 8, 9, 100]}\n"
     ]
    }
   ],
   "source": [
    "import copy\n",
    "\n",
    "user = {\"msycomtw\": [1, 2, 3], \"steve1211\": {\"age\": 25, \"city\": \"New York\"}, \"pp0p1123\": [7, 8, 9]}\n",
    "\n",
    "# 使用 .copy()\n",
    "user_copy = user.copy()\n",
    "\n",
    "# 使用 copy.deepcopy()\n",
    "user_deepcopy = copy.deepcopy(user)\n",
    "\n",
    "# 修改複製後的值\n",
    "user_copy[\"msycomtw\"][0] = 10\n",
    "user_copy[\"steve1211\"][\"age\"] = 30\n",
    "user_copy[\"pp0p1123\"].append(10)\n",
    "\n",
    "# 修改深度複製後的值\n",
    "user_deepcopy[\"msycomtw\"][0] = 100\n",
    "user_deepcopy[\"steve1211\"][\"age\"] = 300\n",
    "user_deepcopy[\"pp0p1123\"].append(100)\n",
    "\n",
    "# 原始字典\n",
    "print(\"原始字典:\")\n",
    "print(user)\n",
    "\n",
    "# 使用 .copy() 後的結果\n",
    "# print(\"\\n使用 .copy() 後:\")\n",
    "# print(user_copy)\n",
    "\n",
    "# 使用 deepcopy() 後的結果\n",
    "print(\"\\n使用 deepcopy() 後:\")\n",
    "print(user_deepcopy)"
   ]
  },
  {
   "cell_type": "code",
   "execution_count": 5,
   "metadata": {},
   "outputs": [
    {
     "name": "stdout",
     "output_type": "stream",
     "text": [
      "<zip object at 0x000001DB816D1B00>\n"
     ]
    }
   ],
   "source": [
    "members = [\"Steven\", \"Ben\", \"Ivy\", \"Eva\", \"Jack\", \"Anna\"]\n",
    "gender = [\"M\", \"M\", \"F\", \"F\", \"M\", \"F\"]\n",
    "salary = [40000, 50000, 60000, 70000, 80000, 90000]\n",
    "print(zip(members, gender, salary))"
   ]
  },
  {
   "cell_type": "code",
   "execution_count": 7,
   "metadata": {},
   "outputs": [
    {
     "name": "stdout",
     "output_type": "stream",
     "text": [
      "{'CH1': 'Python基礎', 'CH2': '流程控制', 'CH3': '串列', 'CH4': '字典'}\n"
     ]
    }
   ],
   "source": [
    "# 利用 zip() 函式建立字典\n",
    "chapter = [\"CH1\", \"CH2\", \"CH3\", \"CH4\"]\n",
    "content = [\"Python基礎\", \"流程控制\", \"串列\", \"字典\"]\n",
    "book = dict(zip(chapter, content))\n",
    "print(book)"
   ]
  },
  {
   "cell_type": "code",
   "execution_count": 8,
   "metadata": {},
   "outputs": [
    {
     "name": "stdout",
     "output_type": "stream",
     "text": [
      "{4, 5}\n",
      "{4, 5}\n",
      "set()\n",
      "False\n",
      "{1, 2, 3, 4, 5, 6, 7, 8}\n",
      "{1, 2, 3, 4, 5, 6, 7, 8}\n",
      "{1, 2, 3}\n",
      "{1, 2, 3}\n",
      "{1, 2, 3, 6, 7, 8}\n",
      "{1, 2, 3, 6, 7, 8}\n"
     ]
    }
   ],
   "source": [
    "# 交集\n",
    "set_1 = {1, 2, 3, 4, 5}\n",
    "set_2 = {4, 5, 6, 7, 8}\n",
    "print(set_1 & set_2)\n",
    "print(set_1.intersection(set_2))\n",
    "\n",
    "# 如果沒有交集，則回傳空集合\n",
    "set_1 = {1, 2, 3, 4, 5}\n",
    "set_2 = {6, 7, 8}\n",
    "print(set_1 & set_2)\n",
    "print(bool(set_1 & set_2)) # 空集合會被當成 False\n",
    "\n",
    "# 聯集\n",
    "set_1 = {1, 2, 3, 4, 5}\n",
    "set_2 = {4, 5, 6, 7, 8}\n",
    "print(set_1 | set_2)\n",
    "print(set_1.union(set_2))\n",
    "\n",
    "# 差集\n",
    "set_1 = {1, 2, 3, 4, 5}\n",
    "set_2 = {4, 5, 6, 7, 8}\n",
    "print(set_1 - set_2)\n",
    "print(set_1.difference(set_2))\n",
    "\n",
    "# 互斥或\n",
    "set_1 = {1, 2, 3, 4, 5}\n",
    "set_2 = {4, 5, 6, 7, 8}\n",
    "print(set_1 ^ set_2)\n",
    "print(set_1.symmetric_difference(set_2))"
   ]
  },
  {
   "cell_type": "code",
   "execution_count": 9,
   "metadata": {},
   "outputs": [
    {
     "name": "stdout",
     "output_type": "stream",
     "text": [
      "15\n",
      "7\n"
     ]
    }
   ],
   "source": [
    "# 閉包\n",
    "def add_n(summand):\n",
    "    def to_add(addend):\n",
    "        return addend + summand\n",
    "    return to_add\n",
    "\n",
    "add_10 = add_n(10)\n",
    "add_2 = add_n(2)\n",
    "print(add_10(5))\n",
    "print(add_2(5))"
   ]
  },
  {
   "cell_type": "code",
   "execution_count": 10,
   "metadata": {},
   "outputs": [
    {
     "name": "stdout",
     "output_type": "stream",
     "text": [
      "0,1,1,2,3,5,8,13,21,34,55,89,144,233,377,610,987,1597,2584,4181,"
     ]
    }
   ],
   "source": [
    "# 遞迴函式\n",
    "def fib(n): \n",
    "    if n > 1:\n",
    "        return fib(n-1) + fib(n-2)\n",
    "    return n\n",
    "\n",
    "for i in range(20):\n",
    "    print(fib(i), end = ',')"
   ]
  },
  {
   "cell_type": "code",
   "execution_count": 1,
   "metadata": {},
   "outputs": [
    {
     "data": {
      "text/plain": [
       "5"
      ]
     },
     "execution_count": 1,
     "metadata": {},
     "output_type": "execute_result"
    }
   ],
   "source": [
    "5 or 1"
   ]
  },
  {
   "cell_type": "code",
   "execution_count": 11,
   "id": "4ff8d77b",
   "metadata": {},
   "outputs": [
    {
     "name": "stdout",
     "output_type": "stream",
     "text": [
      "<class 'http.client.HTTPResponse'>\n",
      "200\n"
     ]
    }
   ],
   "source": [
    "import urllib.request\n",
    "\n",
    "url='http://www.baidu.com/'\n",
    "\n",
    "response = urllib.request.urlopen(url)\n",
    "\n",
    "content=response.read().decode('UTF-8')\n",
    "\n",
    "print(type(response))\n",
    "\n",
    "# print(content)\n",
    "\n",
    "print(response.getcode())\n",
    "\n"
   ]
  },
  {
   "cell_type": "code",
   "execution_count": 20,
   "id": "17fd3828",
   "metadata": {},
   "outputs": [
    {
     "data": {
      "text/plain": [
       "('科目3.mp4', <http.client.HTTPMessage at 0x2c4579e9a60>)"
      ]
     },
     "execution_count": 20,
     "metadata": {},
     "output_type": "execute_result"
    }
   ],
   "source": [
    "import urllib.request\n",
    "\n",
    "# url_page='http://www.baidu.com/'\n",
    "# urllib.request.urlretrieve(url_page, 'baidu.html')\n",
    "\n",
    "# url_img='https://hips.hearstapps.com/hmg-prod/images/my-project-1-4-1-64b0d5c1d99e4.png?crop=0.498xw:0.997xh;0,0&resize=640:*'\n",
    "# urllib.request.urlretrieve(url_img,filename='lisa.jpg')\n",
    "\n",
    "url_video='https://vd3.bdstatic.com/mda-pm71tpfvb13x401k/sc/cae_h264/1702022588019705590/mda-pm71tpfvb13x401k.mp4?v_from_s=hkapp-haokan-hnb&auth_key=1702643801-0-0-2b3171087a02c310f609679c9f5fb9ea&bcevod_channel=searchbox_feed&pd=1&cr=2&cd=0&pt=3&logid=2201220327&vid=12289730768428836624&klogid=2201220327&abtest=114675_1'\n",
    "urllib.request.urlretrieve(url_video,'科目3.mp4')"
   ]
  },
  {
   "cell_type": "code",
   "execution_count": 12,
   "id": "8f4a47c4",
   "metadata": {},
   "outputs": [
    {
     "name": "stdout",
     "output_type": "stream",
     "text": [
      "你出的拳: 雞\n",
      "電腦的拳: 棒子\n",
      "平手\n"
     ]
    }
   ],
   "source": [
    "import random\n",
    "me = int(input(\"請出拳 [0] 蟲 [1] 雞 [2] 老虎 [3] 棒子\")) \n",
    "com = random.randint(0, 3) \n",
    "trans = [\"蟲\", \"雞\", \"老虎\", \"棒子\"]\n",
    "print(\"你出的拳:\", trans[me])\n",
    "print(\"電腦的拳:\", trans[com])\n",
    "# 跟剪刀石頭布不一樣的是平手條件反而最複雜 # 所以我們平手放在最後 \n",
    "if me == (com + 1) % 4: \n",
    "    print(\"我贏了\")\n",
    "elif com == (me + 1) % 4: \n",
    "    print(\"電腦贏了\")\n",
    "else: print(\"平手\")"
   ]
  },
  {
   "cell_type": "code",
   "execution_count": 14,
   "id": "3c64e860",
   "metadata": {},
   "outputs": [
    {
     "name": "stdout",
     "output_type": "stream",
     "text": [
      "55\n"
     ]
    }
   ],
   "source": [
    "print(sum(range(11)))"
   ]
  },
  {
   "cell_type": "code",
   "execution_count": 3,
   "id": "ce208cd4",
   "metadata": {},
   "outputs": [
    {
     "name": "stdout",
     "output_type": "stream",
     "text": [
      "猜對了\n",
      "猜的次數:6\n"
     ]
    }
   ],
   "source": [
    "import random\n",
    "low=1\n",
    "high=100\n",
    "ans=random.randint(low,high)\n",
    "\n",
    "times=0\n",
    "while True:\n",
    "    guess=int(input(f\"[{low}-{high}]的範圍：\"))\n",
    "    \n",
    "    times=times+1\n",
    "    if guess==ans:\n",
    "        print(\"猜對了\")\n",
    "        break\n",
    "    elif guess>ans:\n",
    "        high=guess\n",
    "    else:\n",
    "        low=guess\n",
    "\n",
    "print(f\"猜的次數:{times}\")"
   ]
  },
  {
   "cell_type": "code",
   "execution_count": 4,
   "id": "e5303668",
   "metadata": {},
   "outputs": [
    {
     "name": "stdout",
     "output_type": "stream",
     "text": [
      "使用 items: dict_items([('name', 'Elwing'), ('height', 175), ('weight', 75)])\n",
      "名字: name\n",
      "資料: Elwing\n",
      "名字: height\n",
      "資料: 175\n",
      "名字: weight\n",
      "資料: 75\n"
     ]
    }
   ],
   "source": [
    "person1 = {\"name\":\"Elwing\", \"height\":175, \"weight\":75} \n",
    "print(\"使用 items:\", person1.items()) \n",
    "for key, value in person1.items(): \n",
    "    print(\"名字:\", key) \n",
    "    print(\"資料:\", value)"
   ]
  },
  {
   "cell_type": "code",
   "execution_count": 5,
   "id": "f50562d2",
   "metadata": {},
   "outputs": [
    {
     "name": "stdout",
     "output_type": "stream",
     "text": [
      "dict_items([('CH1', 'Python基礎'), ('CH2', '流程控制'), ('CH3', '串列'), ('CH4', '字典')])\n",
      "[('CH1', 'Python基礎'), ('CH2', '流程控制'), ('CH3', '串列'), ('CH4', '字典')]\n"
     ]
    }
   ],
   "source": [
    "# 用 .items() 取得字典中所有的鍵值對。\n",
    "book = {\"CH1\": \"Python基礎\", \"CH2\": \"流程控制\", \"CH3\": \"串列\", \"CH4\": \"字典\"}\n",
    "print(book.items())\n",
    "print(list(book.items()))"
   ]
  },
  {
   "cell_type": "code",
   "execution_count": 5,
   "id": "5bb339ba",
   "metadata": {},
   "outputs": [
    {
     "name": "stderr",
     "output_type": "stream",
     "text": [
      "Building prefix dict from the default dictionary ...\n",
      "Dumping model to file cache C:\\Users\\Tim\\AppData\\Local\\Temp\\jieba.cache\n",
      "Loading model cost 0.645 seconds.\n",
      "Prefix dict has been built successfully.\n"
     ]
    },
    {
     "name": "stdout",
     "output_type": "stream",
     "text": [
      "最關鍵詞:['產品', '未來', '學習', '發展', '能夠']\n"
     ]
    }
   ],
   "source": [
    "f = open(\"面試自我介紹.txt\", \"r\", encoding=\"utf-8\") \n",
    "article = f.read() \n",
    "f.close()\n",
    "# print(article)\n",
    "\n",
    "result={}\n",
    "for c in article:\n",
    "    if c in result:\n",
    "        result[c] = result[c]+1\n",
    "    else:\n",
    "        result[c] =1\n",
    "# print(result)\n",
    "\n",
    "import jieba.analyse \n",
    "keywords = jieba.analyse.extract_tags(article,5) \n",
    "print(f\"最關鍵詞:{keywords}\")\n"
   ]
  },
  {
   "cell_type": "code",
   "execution_count": 26,
   "id": "bb9916cc",
   "metadata": {},
   "outputs": [
    {
     "name": "stdout",
     "output_type": "stream",
     "text": [
      "簡單 介紹 一下 自己 ? \n",
      " 你好 ， 我 是 林正廷 ， 非常 榮 幸能 有 機會 應聘永道 射頻 這家 全球 最大 的 RFID 標 籤 ODM 生產廠 商 的 製 程 工程 師職位 。 \n",
      " 在 過去 的 幾年 中 在 一家 研發 、 製 造 和 銷 售 各 類 銘 板 、 薄膜 開關 、 傳統 塑膠件 和 IMD 產品 等 消費品 外 觀件 的 企業 ， 產品 應用 廣泛 ， 包括 家電 、 醫療 、 汽車 等 領域 , 我 有 豐富 的 生產 工藝 經驗 ， 從 印刷 、 塑膠 射出 、 到 Forming 沖 壓 等 製 程 ， 並且 能 從 各 製 程 中 級 試 模 找出 最佳 製 程 參 數 , 及 對 生產過 程中 出現 的 不良 產品 進行 分析 和 改善 參數 , 這些 經驗 使 我 能夠 對 新產品 的 開發 和 生產 提供 全方位 的 支援 ， 並保證 生產 過程 的 品質 和 效率 。 在 產品 開 發階段 , 也 因 對 於 汽車業 PPAP 和 醫療業 3Q 等 程序 文件 有 更 深刻 的 了解 ， 讓 我 在 產品 上 的 開發 更 為 注意 細節 ， 提前 識別 產品 的 風險 及 相 對 應要 如何 制定 措施 優先 減少 風險 , 我 也 在 新 材料 和 新 工藝 的 研發 方面 進行 了 工作 。 在 這期間 ， 我 成功 地開發 了 IME 模內 電子 ， 使 傳統 塑膠件 增加 觸控 功能 ， 並對 觸控 的 材料 選擇 以及 觸控 調試 有 專業 的 能力 。 這項 工作 讓 我 學習 到 軟硬體 的 開發 , 讓 我 對 程式 開發產生 濃厚 的 興趣 , 並在 閒暇 之餘時 ， 持續 對 軟體 的 進修 也 成功 做出 一些 網頁 的 功能 , 未來 也 將持續 進修並 考取 相關 證照 前進 . \n",
      " 最 後 希望 未來 能 加入 貴司 這樣 的 物聯網 公司 ， 並為 其 做出 貢獻 。 我 相信 我 在 產品 開發 領域 的 經驗 能 讓 我 在 面 對 不同 的 挑戰時 能夠 更好 地應 對 ， 並在 工作 中 保持 高度 的 效率 和準 確性 。 以及 我 的 持續 學習 和 團隊 合作 精神 ， 會 使 我 成為 一個 出色 的 工程 師 , 非常 感謝 各位 聆 聽 的 介紹 , 謝謝 ~ \n",
      " \n",
      " 為何 想 來 我們 公司 ？ \n",
      " 第一 ， 貴 公司 是 互聯網 行業 的 領導者 第二 ， 我 對 互聯網 技術 有 著 濃厚 的 興趣 和 熱情 ， 我 希望 能 在 這個 領域 不斷 學習 和 成長 ， 並與 同行 們 共同 探索 新 的 可能性 。 \n",
      " 未來 互聯網 發展 的 趨勢 ， 我 認為 有 以下 幾點 。 一是 智能化 。 隨著 AI 、 物聯網 、 雲計算 等 技術 的 發展 和 普及 ， 互聯 網將 更加 智能化 ， 能夠 提供 更加 個 性化 、 高效 、 安全 的 服務 和 體驗 。 二是 社會化 。 互聯 網將 更加 深入 地影響 人們 的 生活 、 工作 、 學習 等 各 方面 ， 促進 人 與 人 之間 的 交流 、 合作 、 創造 等 社會 活動 。 三是 全球化 。 互聯 網將 打破 地域 、 語言 、 文化 等 障礙 ， 實現 更加 開放 、 包容 、 多元 的 全球 連接 。 \n",
      " \n",
      " 你 的 離職 原因 ? \n",
      " 其中 除了 疫情 關 係 想 回台灣 發展 , 還有 另 一個 原因 在 前份 工作 接觸 到 軟硬體 的 開發 , 我 發現 自己 對 於 軟體 開發 越感 興趣 ， 也 希望 能夠 學習 更 多相 關的 技能 和 知識 。 所以 聽到 你 們 能 經理 介紹 工作 内容 及 環境 時 ， 我覺 得 這是 一個 很 好 的 機會 ， 未來 能夠 有 足夠 的 空間 讓 我 在 產品 開發及 軟體 的 領域 發展 。 相信 也 能 為 貴 公司 帶來 價值 ， 同時 我 也 願意 不斷 學習 和 成長 ， 適應 新 的 工作 需求 。 \n",
      " \n",
      " 你 覺得 自己 有什麼 缺點 ？ \n",
      " 較 内向 不善 於 表達 \n",
      " 我覺 得 我 有 時候 會 比 較 内向 ， 這 可能 會 讓 我 在 團隊 中表現 得 不夠 主動 或 積極 。 但 我 也 意識 到 這個 問題 ， 所以 我 一直 在 努力 改善 自己 的 溝通 技巧 和 社交能力 。 例如 ， 我會 主動 參加線 上 活動 與 網友 互動來 提高 我 的 自信心 和 人際關 係 ； 我 也 會 定期 和 我 的 上司 或 同事 分享 我 的 想法 和 建議 來 增加 我 的 參與感 和 貢獻度 ； 我 更會 主動尋 求反 饋 和 建議 來 改善 我 的 工作 表現 和 效率 。 \n",
      " \n",
      " 你 覺得 自己 有什麼 優點 ？ \n",
      " -   刻苦 耐勞 ， 不論 是 工作 還是 生活 ， 我 都 會 盡力 做到 最好 ， 不怕 困難 和 挑戰 。 \n",
      " -   有 韌性 ， 遇到 逆境 或 壓力 時 ， 我 不會 輕易 放棄 或 退縮 ， 而是 會積極 尋找 解決 方法 。 \n",
      " -   不易 亂 發脾氣 ， 我 懂得 控制 自己 的 情緒 ， 不會 因為 一時 的 衝動 而 影響 工作效率 或 人際關 係 。 \n",
      " -   善 於 傾 聽 ， 我 尊重 別人 的 意見 和 建議 ， 並且 能夠 從 中學習 和 成長 。 \n",
      " -   不斷 學習 ， 對 新 事物 有 好奇心 ， 我 喜歡 接觸 新知 識 和 技能 ， 並且 願意 主動 更新 自己 的 知識庫 。 \n",
      " \n",
      " 有什麼 問題 想問 我 嗎 ？ \n",
      " 公司 的 經營 理念 和 企業 文化 和 願景 \n",
      " 公司 未來 的 佈 局 ? 除了 零售 及 服飾業 未來 還會往 什麼 行業 發展 \n",
      " 請問 在 貴 公司 可以 有 什麼樣 的 個 人 職涯 發展 未來 ？ \n",
      " 該職 位後續 在 公司 發展 方向 主要 有 哪些 ？ \n",
      " 後 續 有 沒 有 培訓 以及 主要 側重 哪些方面 ？ \n",
      " 請問 您 對 這個 職務 的 員 工有 什麼 期許 ？ \n",
      " 有什麼 您 正在 尋找 的 特質 與 能力 ， 是 在 我 身上 沒 看到 的 嗎 ？ \n",
      " \n",
      "   你 對 未來 五年 的 規劃 為何 ? \n",
      " 在 過去 的 工作 中 已經 累積 了 一定 的 經驗 ， 除了 希望 能 在 貴 公司 得到 進 一步 的 發揮外 ， 也 希望 藉由 健全 的 升遷 管道 ， 按部就班 的 成為 獨當 一面 的 專業 經理 人 。 \n",
      "\n",
      "最關鍵詞:['產品', '未來', '學習', '發展', '能夠']\n"
     ]
    }
   ],
   "source": [
    "import jieba\n",
    "import jieba.analyse \n",
    "from jieba import analyse\n",
    "from jieba.analyse import extract_tags\n",
    "f = open(\"面試自我介紹.txt\", \"r\", encoding=\"utf-8\") \n",
    "article = f.read() \n",
    "f.close()\n",
    "\n",
    "sep=\" \".join(jieba.cut(article))\n",
    "print(sep)\n",
    "\n",
    "# keywords = jieba.analyse.extract_tags(article,5) \n",
    "# keywords = analyse.extract_tags(article,5) \n",
    "keywords = extract_tags(article,5) \n",
    "print(f\"最關鍵詞:{keywords}\")"
   ]
  },
  {
   "cell_type": "code",
   "execution_count": 29,
   "id": "ceb9de85",
   "metadata": {},
   "outputs": [
    {
     "name": "stdout",
     "output_type": "stream",
     "text": [
      "dict_items([('CH1', 'Python基礎'), ('CH2', '流程控制'), ('CH3', '串列'), ('CH4', '字典')])\n",
      "[('CH1', 'Python基礎'), ('CH2', '流程控制'), ('CH3', '串列'), ('CH4', '字典')]\n",
      "key:CH1\n",
      "value:Python基礎\n",
      "key:CH2\n",
      "value:流程控制\n",
      "key:CH3\n",
      "value:串列\n",
      "key:CH4\n",
      "value:字典\n"
     ]
    }
   ],
   "source": [
    "# 用 .items() 取得字典中所有的鍵值對。\n",
    "book = {\"CH1\": \"Python基礎\", \"CH2\": \"流程控制\", \"CH3\": \"串列\", \"CH4\": \"字典\"}\n",
    "print(book.items())\n",
    "print(list(book.items()))\n",
    "for key,value in book.items():\n",
    "    print(f\"key:{key}\")\n",
    "    print(f\"value:{value}\")"
   ]
  },
  {
   "cell_type": "code",
   "execution_count": 45,
   "id": "b9fe2d3f",
   "metadata": {},
   "outputs": [
    {
     "name": "stdout",
     "output_type": "stream",
     "text": [
      "{'b', 'c', 'a', 'd'}\n"
     ]
    }
   ],
   "source": [
    "name_set={\"a\", \"b\", \"c\", \"a\",\"c\",\"b\",\"d\"}\n",
    "print(name_set)"
   ]
  },
  {
   "cell_type": "code",
   "execution_count": 85,
   "id": "723ac904",
   "metadata": {},
   "outputs": [
    {
     "name": "stdout",
     "output_type": "stream",
     "text": [
      "產生的彩券: {33, 35, 36, 11, 14, 17, 18}\n",
      "9\n"
     ]
    }
   ],
   "source": [
    "import random \n",
    "lottery = set() \n",
    "times=0\n",
    "while len(lottery) < 7: \n",
    "    lottery.add(random.randint(1, 49))\n",
    "    times=times+1\n",
    "print(\"產生的彩券:\", lottery)\n",
    "print(times)"
   ]
  },
  {
   "cell_type": "code",
   "execution_count": 103,
   "metadata": {},
   "outputs": [
    {
     "name": "stdout",
     "output_type": "stream",
     "text": [
      "55\n",
      "55\n",
      "[1, 2, 3, 4, 5, 6, 7, 8, 9, 10]\n"
     ]
    }
   ],
   "source": [
    "def sum(*args):\n",
    "    total = 0\n",
    "    for i in args:\n",
    "        total += i\n",
    "    return total\n",
    "\n",
    "# 於函式呼叫使用「解包運算子*」\n",
    "data = 1,2,3,4,5,6,7,8,9,10\n",
    "print(sum(*data))\n",
    "print(sum(1,2,3,4,5,6,7,8,9,10))\n",
    "# 於定義式使用「解包運算子*」\n",
    "data = 1,2,3,4,5,6,7,8,9,10\n",
    "my_list = [*data]\n",
    "print(my_list)"
   ]
  },
  {
   "cell_type": "code",
   "execution_count": 104,
   "id": "e6af6b89",
   "metadata": {},
   "outputs": [
    {
     "name": "stdout",
     "output_type": "stream",
     "text": [
      "The style is \"color: red, font: Arial, size: 20px\"\n"
     ]
    }
   ],
   "source": [
    "# 函式參數如果有「雙星號 **」 ，可以將數量不一定的關鍵字引數組成 字典（dict）。\n",
    "def set_style(**kwargs):\n",
    "    color = kwargs['color']\n",
    "    font = kwargs['font']\n",
    "    size = kwargs['size']\n",
    "    return f'The style is \\\"color: {color}, font: {font}, size: {size}\\\"'\n",
    "\n",
    "my_style = set_style(color='red', font='Arial', size='20px')\n",
    "print(my_style)"
   ]
  },
  {
   "cell_type": "code",
   "execution_count": 107,
   "id": "be9b12c2",
   "metadata": {},
   "outputs": [
    {
     "name": "stdout",
     "output_type": "stream",
     "text": [
      "The style is \"color: red, font: Arial, size: 20px\"\n",
      "{'color': 'red', 'font': 'Arial', 'size': '20px'}\n"
     ]
    }
   ],
   "source": [
    "def set_style(**kwargs):\n",
    "    color = kwargs['color']\n",
    "    font = kwargs['font']\n",
    "    size = kwargs['size']\n",
    "    return f'The style is \\\"color: {color}, font: {font}, size: {size}\\\"'\n",
    "\n",
    "\n",
    "# 於函式呼叫使用「解包運算子**」\n",
    "style = {'color':'red', 'font':'Arial', 'size':'20px'}\n",
    "print(set_style(**style))\n",
    "\n",
    "# 於定義式使用「解包運算子**」\n",
    "style = {'color':'red', 'font':'Arial', 'size':'20px'}\n",
    "print({**style})"
   ]
  },
  {
   "cell_type": "code",
   "execution_count": 115,
   "id": "39ff3dac",
   "metadata": {},
   "outputs": [
    {
     "name": "stdout",
     "output_type": "stream",
     "text": [
      "{'這': 1, '是': 1, '測': 4, '試': 4, '字': 1, '串': 1, ',': 1}\n"
     ]
    }
   ],
   "source": [
    "test = \"這是測試字串,測試測試測試\"\n",
    "result = {} \n",
    "for c in test:\n",
    "    if c in result: \n",
    "        result[c] = result[c] + 1\n",
    "    else: \n",
    "        result[c] = 1\n",
    "print(result)"
   ]
  },
  {
   "cell_type": "code",
   "execution_count": 118,
   "id": "ea5164cb",
   "metadata": {},
   "outputs": [
    {
     "name": "stdout",
     "output_type": "stream",
     "text": [
      "{'這': 1, '是': 1, '測': 4, '試': 4, '字': 1, '串': 1, ',': 1}\n"
     ]
    }
   ],
   "source": [
    "test = \"這是測試字串,測試測試測試\"\n",
    "result = {} \n",
    "for c in test:\n",
    "    try: \n",
    "        result[c] = result[c] + 1\n",
    "    except KeyError: \n",
    "        result[c] = 1\n",
    "print(result)"
   ]
  },
  {
   "cell_type": "code",
   "execution_count": 2,
   "id": "6dd5e1fb",
   "metadata": {},
   "outputs": [
    {
     "name": "stdout",
     "output_type": "stream",
     "text": [
      "5x4QVpWrz6Q\n",
      "https://unsplash.com/photos/5x4QVpWrz6Q/download?ixid=M3wxMjA3fDB8MXxhbGx8NXx8fHx8fDJ8fDE3MDI3ODk0NDZ8\n",
      "qGH25zv5xMk\n",
      "https://unsplash.com/photos/qGH25zv5xMk/download?ixid=M3wxMjA3fDF8MXxhbGx8Nnx8fHx8fDJ8fDE3MDI3ODk0NDZ8\n"
     ]
    }
   ],
   "source": [
    "from urllib.request import urlopen,urlretrieve\n",
    "import json\n",
    "\n",
    "\n",
    "url=\"https://unsplash.com/napi/photos?page=3&per_page=2\"\n",
    "response = urlopen(url)\n",
    "doodles=json.load(response)\n",
    "for d in doodles:\n",
    "    print(d[\"id\"])\n",
    "    lk=d[\"links\"].get(\"download\")\n",
    "    print(lk)\n",
    "    \n",
    "    # response=urlopen(lk)l\n",
    "    # img=response.read()\n",
    "    # fname=\"doodles/\"+lk.split(\"/\")[-2]+\".jpg\" \n",
    "    # f=open(fname,\"wb\")\n",
    "    # f.write(img)\n",
    "    # f.close()\n",
    "    \n",
    "    # fname=\"doodles/\"+lk.split(\"/\")[-2]+\".jpg\" \n",
    "    # urlretrieve(lk,fname)\n"
   ]
  },
  {
   "cell_type": "code",
   "execution_count": 8,
   "id": "eae7729a",
   "metadata": {},
   "outputs": [
    {
     "name": "stdout",
     "output_type": "stream",
     "text": [
      "現在的處理頁面：https://www.google.com/doodles/json/2018/1?hl=zh_TW\n",
      "鄧麗君 65 歲冥誕 https://www.google.com/logos/doodles/2018/teresa-tengs-65th-birthday-4912312048680960-l.png\n",
      "發現白眼河燕 50 週年紀念 https://www.google.com/logos/doodles/2018/50th-anniversary-of-princess-sirindhorn-bird-4511129152782336-l.png\n",
      "2018 年捷克大選 - 第 2 輪 https://www.google.com/logos/doodles/2018/czechia-elections-2018-round-2-5833714335481856-l.png\n",
      "2018 年印度共和日 https://www.google.com/logos/doodles/2018/indias-republic-day-2018-5861462944776192-l.png\n",
      "2018 年澳洲國慶日 https://www.google.com/logos/doodles/2018/australia-national-day-2018-5975185793482752-l.png\n",
      "懷爾德彭菲爾德 127 歲冥誕 https://www.google.com/logos/doodles/2018/wilder-penfields-127th-birthday-6477703409565696.6-law.gif\n",
      "維吉尼亞吳爾芙 136 歲冥誕 https://www.google.com/logos/doodles/2018/virginia-woolfs-136th-birthday-5857012284915712.6-l.png\n",
      "史蒂芬凱西 56 歲冥誕 https://www.google.com/logos/doodles/2018/stephen-keshis-56th-birthday-6703702709633024-l.png\n",
      "2018 年祖父節 (波蘭) https://www.google.com/logos/doodles/2018/grandfathers-day-2018-poland-5580123427307520.2-l.png\n",
      "謝爾蓋愛森斯坦 120 歲冥誕 https://www.google.com/logos/doodles/2018/sergei-eisensteins-120th-birthday-5380775741489152-law.gif\n",
      "2018 年祖母節 (波蘭) https://www.google.com/logos/doodles/2018/grandmothers-day-2018-poland-5700235073421312.2-l.png\n",
      "育阿山托沙南 108 歲冥誕 https://www.google.com/logos/doodles/2018/eua-sunthornsanans-108th-birthday-6396447997034496-l.png\n",
      "2018 年教師節 (泰國) https://www.google.com/logos/doodles/2018/teachers-day-2018-thailand-5371240578547712-law.gif\n",
      "凱蒂朱拉多 94 歲冥誕 https://www.google.com/logos/doodles/2018/katy-jurados-94th-birthday-5562889569042432-l.png\n",
      "2018 年馬丁路德金恩紀念日 https://www.google.com/logos/doodles/2018/martin-luther-king-jr-day-2018-5351803502723072-l.png\n",
      "2018 年教師節 (委內瑞拉) https://www.google.com/logos/doodles/2018/teachers-day-2018-venezuela-6453248402653184-law.gif\n",
      "瑪哈絲維塔黛維 92 歲冥誕 https://www.google.com/logos/doodles/2018/mahasweta-devis-92nd-birthday-6448062464524288.2-l.png\n",
      "第 5 屆非洲國家足球冠軍錦標賽 https://www.google.com/logos/doodles/2018/5th-african-nations-championship-4811218719080448-law.gif\n",
      "2018 年兒童節 (泰國) https://www.google.com/logos/doodles/2018/childrens-day-2018-thailand-5770985868361728.2-l.png\n",
      "周有光 112 歲冥誕 https://www.google.com/logos/doodles/2018/zhou-youguangs-112th-birthday-5826412689752064-law.gif\n",
      "2018 年捷克大選 https://www.google.com/logos/doodles/2018/czechia-elections-2018-4959374488371200-l.png\n",
      "艾倫帕頓 115 歲冥誕 https://www.google.com/logos/doodles/2018/alan-patons-115th-birthday-5383574449553408.2-l.png\n",
      "法路舒沙 82 歲冥誕 https://www.google.com/logos/doodles/2018/farouk-shoushas-82nd-birthday-6319686932234240.3-l.png\n",
      "大王花 25 週年紀念 https://www.google.com/logos/doodles/2018/25th-anniversary-of-rafflesia-arnoldii-5911724094914560-law.gif\n",
      "哈爾葛賓科拉納 96 歲冥誕 https://www.google.com/logos/doodles/2018/har-gobind-khoranas-96th-birthday-4731112378073088.2-l.png\n",
      "弗爾利斯納迪亞 110 歲冥誕 https://www.google.com/logos/doodles/2018/fearless-nadias-110th-birthday-6631863979343872.2-l.png\n",
      "2018 年節日 (東歐)：第 2 天 https://www.google.com/logos/doodles/2018/holidays-2018-eastern-europe-day-2-5140463127363584-l.png\n",
      "2018 年節日 (東歐)：第 1 天 https://www.google.com/logos/doodles/2018/holidays-2018-eastern-europe-day-1-4770506724081664-l.png\n",
      "艾瑪依爾拉 161 歲冥誕 https://www.google.com/logos/doodles/2018/emma-ihrers-161st-birthday-4838941827006464-l.png\n",
      "2018 年開學日 (新加坡) https://www.google.com/logos/doodles/2018/first-day-of-school-2018-singapore-6250368575995904-l.png\n",
      "2018 年元旦 https://www.google.com/logos/doodles/2018/new-years-day-2018-6224094180671488-l.png\n",
      "現在的處理頁面：https://www.google.com/doodles/json/2018/2?hl=zh_TW\n",
      "2018 年多明尼加共和國獨立紀念日 https://www.google.com/logos/doodles/2018/dominican-republic-national-day-2018-4626826914693120-law.gif\n",
      "紀念梅阿伊姆 https://www.google.com/logos/doodles/2018/celebrating-may-ayim-6367294832771072-l.png\n",
      "2018 年科威特國慶日 https://www.google.com/logos/doodles/2018/kuwait-national-day-2018-5032899496640512.2-law.gif\n",
      "Doodle 滑雪競賽 - 第 17 天 https://www.google.com/logos/doodles/2018/2018-doodle-snow-games-day-17-6585325022347264-l.png\n",
      "2018 年愛沙尼亞獨立紀念日 https://www.google.com/logos/doodles/2018/estonia-independence-day-2018-6217554556092416.2-law.gif\n",
      "Doodle 滑雪競賽 - 第 16 天 https://www.google.com/logos/doodles/2018/doodle-snow-games-day-16-5525914497581056.3-l.png\n",
      "Doodle 滑雪競賽 - 第 15 天 https://www.google.com/logos/doodles/2018/doodle-snow-games-day-15-5907794870927360.3-l.png\n",
      "Doodle 滑雪競賽 - 第 14 天 https://www.google.com/logos/doodles/2018/doodle-snow-games-day-14-5453527856971776-l.png\n",
      "Doodle 滑雪競賽 - 第 13 天 https://www.google.com/logos/doodles/2018/doodle-snow-games-day-14-6465015337975808-l.png\n",
      "Doodle 滑雪競賽 - 第 12 天 https://www.google.com/logos/doodles/2018/doodle-snow-games-day-12-6070619765473280-l.png\n",
      "Doodle 滑雪競賽 - 第 11 天 https://www.google.com/logos/doodles/2018/doodle-snow-games-day-11-5463133282893824-l.png\n",
      "2018 年狂歡節 (希臘) https://www.google.com/logos/doodles/2018/carnival-2018-greece-5286865140711424-l.png\n",
      "Doodle 滑雪競賽 - 第 10 天 https://www.google.com/logos/doodles/2018/doodle-snow-games-day-10-5902906795491328-l.png\n",
      "Doodle 滑雪競賽 - 第 9 天 https://www.google.com/logos/doodles/2018/doodle-snow-games-day-9-6192834267840512-l.png\n",
      "2018 年立陶宛獨立紀念日 https://www.google.com/logos/doodles/2018/lithuania-independence-day-2018-6115861743009792-law.gif\n",
      "2018 年農曆新年 https://www.google.com/logos/doodles/2018/lunar-new-year-2018-6583503285125120.3-l.png\n",
      "Doodle 滑雪競賽 - 第 8 天 - 農曆新年 https://www.google.com/logos/doodles/2018/doodle-snow-games-day-8-lunar-new-year-6578965786394624-l.png\n",
      "2018 年塞爾維亞國慶日 https://www.google.com/logos/doodles/2018/serbia-national-day-2018-5950280016330752-law.gif\n",
      "2018 年母親節 (以色列) https://www.google.com/logos/doodles/2018/mothers-day-2018-israel-5221031881998336-law.gif\n",
      "Doodle 滑雪競賽 - 第 7 天 https://www.google.com/logos/doodles/2018/doodle-snow-games-day-7-5701673484812288-l.png\n",
      "Doodle 滑雪競賽 - 第 6 天 - 情人節 https://www.google.com/logos/doodles/2018/doodle-snow-games-day-6-valentines-day-5248020919615488-l.png\n",
      "2018 年狂歡節 https://www.google.com/logos/doodles/2018/carnival-2018-6321880117018624-l.png\n",
      "Doodle 滑雪競賽 - 第 5 天 https://www.google.com/logos/doodles/2018/doodle-snow-games-day-7-5009413877268480-l.png\n",
      "2018 年玫瑰星期一 https://www.google.com/logos/doodles/2018/carnival-4652631380197376-l.png\n",
      "Doodle 滑雪競賽 - 第 4 天 https://www.google.com/logos/doodles/2018/doodle-snow-games-day-2-6047722892165120.3-l.png\n",
      "2018 年母親節 (挪威) https://www.google.com/logos/doodles/2018/mothers-day-2018-norway-5183702442180608-law.gif\n",
      "Doodle 滑雪競賽 - 第 3 天 https://www.google.com/logos/doodles/2018/doodle-snow-games-day-3-4649927396294656.6-l.png\n",
      "Doodle 滑雪競賽 - 第 2 天 https://www.google.com/logos/doodles/2018/2018-doodle-snow-games-day-4-6210713008734208-l.png\n",
      "Doodle 滑雪競賽 - 第 1 天 https://www.google.com/logos/doodles/2018/doodle-snow-games-day-1-4597519198715904.2-l.png\n",
      "保拉莫德索恩貝克爾 142 歲冥誕 https://www.google.com/logos/doodles/2018/paula-modersohn-beckers-142nd-birthday-6273696422428672-l.png\n",
      "埃塞耳吉芮兒 89 歲冥誕 https://www.google.com/logos/doodles/2018/aysel-gurels-89th-birthday-5553469934010368.3-l.png\n",
      "懷唐伊日 (2018 年紐西蘭國慶日) https://www.google.com/logos/doodles/2018/waitangi-day-new-zealand-national-day-2018-6572399855140864-law.gif\n",
      "2018 年哥斯大黎加大選 https://www.google.com/logos/doodles/2018/costa-rica-elections-2018-4972746667720704-l.png\n"
     ]
    },
    {
     "ename": "KeyboardInterrupt",
     "evalue": "",
     "output_type": "error",
     "traceback": [
      "\u001b[1;31m---------------------------------------------------------------------------\u001b[0m",
      "\u001b[1;31mKeyboardInterrupt\u001b[0m                         Traceback (most recent call last)",
      "Cell \u001b[1;32mIn[8], line 22\u001b[0m\n\u001b[0;32m     19\u001b[0m     os\u001b[38;5;241m.\u001b[39mmakedirs(dirname)\n\u001b[0;32m     21\u001b[0m fname\u001b[38;5;241m=\u001b[39mdirname\u001b[38;5;241m+\u001b[39murl\u001b[38;5;241m.\u001b[39msplit(\u001b[38;5;124m\"\u001b[39m\u001b[38;5;124m/\u001b[39m\u001b[38;5;124m\"\u001b[39m)[\u001b[38;5;241m-\u001b[39m\u001b[38;5;241m1\u001b[39m]\n\u001b[1;32m---> 22\u001b[0m \u001b[43murlretrieve\u001b[49m\u001b[43m(\u001b[49m\u001b[43murl\u001b[49m\u001b[43m,\u001b[49m\u001b[43mfname\u001b[49m\u001b[43m)\u001b[49m\n",
      "File \u001b[1;32mc:\\Users\\Tim\\AppData\\Local\\Programs\\Python\\Python312\\Lib\\urllib\\request.py:268\u001b[0m, in \u001b[0;36murlretrieve\u001b[1;34m(url, filename, reporthook, data)\u001b[0m\n\u001b[0;32m    265\u001b[0m \u001b[38;5;28;01mif\u001b[39;00m reporthook:\n\u001b[0;32m    266\u001b[0m     reporthook(blocknum, bs, size)\n\u001b[1;32m--> 268\u001b[0m \u001b[38;5;28;01mwhile\u001b[39;00m block \u001b[38;5;241m:=\u001b[39m \u001b[43mfp\u001b[49m\u001b[38;5;241;43m.\u001b[39;49m\u001b[43mread\u001b[49m\u001b[43m(\u001b[49m\u001b[43mbs\u001b[49m\u001b[43m)\u001b[49m:\n\u001b[0;32m    269\u001b[0m     read \u001b[38;5;241m+\u001b[39m\u001b[38;5;241m=\u001b[39m \u001b[38;5;28mlen\u001b[39m(block)\n\u001b[0;32m    270\u001b[0m     tfp\u001b[38;5;241m.\u001b[39mwrite(block)\n",
      "File \u001b[1;32mc:\\Users\\Tim\\AppData\\Local\\Programs\\Python\\Python312\\Lib\\http\\client.py:472\u001b[0m, in \u001b[0;36mHTTPResponse.read\u001b[1;34m(self, amt)\u001b[0m\n\u001b[0;32m    469\u001b[0m \u001b[38;5;28;01mif\u001b[39;00m \u001b[38;5;28mself\u001b[39m\u001b[38;5;241m.\u001b[39mlength \u001b[38;5;129;01mis\u001b[39;00m \u001b[38;5;129;01mnot\u001b[39;00m \u001b[38;5;28;01mNone\u001b[39;00m \u001b[38;5;129;01mand\u001b[39;00m amt \u001b[38;5;241m>\u001b[39m \u001b[38;5;28mself\u001b[39m\u001b[38;5;241m.\u001b[39mlength:\n\u001b[0;32m    470\u001b[0m     \u001b[38;5;66;03m# clip the read to the \"end of response\"\u001b[39;00m\n\u001b[0;32m    471\u001b[0m     amt \u001b[38;5;241m=\u001b[39m \u001b[38;5;28mself\u001b[39m\u001b[38;5;241m.\u001b[39mlength\n\u001b[1;32m--> 472\u001b[0m s \u001b[38;5;241m=\u001b[39m \u001b[38;5;28;43mself\u001b[39;49m\u001b[38;5;241;43m.\u001b[39;49m\u001b[43mfp\u001b[49m\u001b[38;5;241;43m.\u001b[39;49m\u001b[43mread\u001b[49m\u001b[43m(\u001b[49m\u001b[43mamt\u001b[49m\u001b[43m)\u001b[49m\n\u001b[0;32m    473\u001b[0m \u001b[38;5;28;01mif\u001b[39;00m \u001b[38;5;129;01mnot\u001b[39;00m s \u001b[38;5;129;01mand\u001b[39;00m amt:\n\u001b[0;32m    474\u001b[0m     \u001b[38;5;66;03m# Ideally, we would raise IncompleteRead if the content-length\u001b[39;00m\n\u001b[0;32m    475\u001b[0m     \u001b[38;5;66;03m# wasn't satisfied, but it might break compatibility.\u001b[39;00m\n\u001b[0;32m    476\u001b[0m     \u001b[38;5;28mself\u001b[39m\u001b[38;5;241m.\u001b[39m_close_conn()\n",
      "File \u001b[1;32mc:\\Users\\Tim\\AppData\\Local\\Programs\\Python\\Python312\\Lib\\socket.py:707\u001b[0m, in \u001b[0;36mSocketIO.readinto\u001b[1;34m(self, b)\u001b[0m\n\u001b[0;32m    705\u001b[0m \u001b[38;5;28;01mwhile\u001b[39;00m \u001b[38;5;28;01mTrue\u001b[39;00m:\n\u001b[0;32m    706\u001b[0m     \u001b[38;5;28;01mtry\u001b[39;00m:\n\u001b[1;32m--> 707\u001b[0m         \u001b[38;5;28;01mreturn\u001b[39;00m \u001b[38;5;28;43mself\u001b[39;49m\u001b[38;5;241;43m.\u001b[39;49m\u001b[43m_sock\u001b[49m\u001b[38;5;241;43m.\u001b[39;49m\u001b[43mrecv_into\u001b[49m\u001b[43m(\u001b[49m\u001b[43mb\u001b[49m\u001b[43m)\u001b[49m\n\u001b[0;32m    708\u001b[0m     \u001b[38;5;28;01mexcept\u001b[39;00m timeout:\n\u001b[0;32m    709\u001b[0m         \u001b[38;5;28mself\u001b[39m\u001b[38;5;241m.\u001b[39m_timeout_occurred \u001b[38;5;241m=\u001b[39m \u001b[38;5;28;01mTrue\u001b[39;00m\n",
      "File \u001b[1;32mc:\\Users\\Tim\\AppData\\Local\\Programs\\Python\\Python312\\Lib\\ssl.py:1249\u001b[0m, in \u001b[0;36mSSLSocket.recv_into\u001b[1;34m(self, buffer, nbytes, flags)\u001b[0m\n\u001b[0;32m   1245\u001b[0m     \u001b[38;5;28;01mif\u001b[39;00m flags \u001b[38;5;241m!=\u001b[39m \u001b[38;5;241m0\u001b[39m:\n\u001b[0;32m   1246\u001b[0m         \u001b[38;5;28;01mraise\u001b[39;00m \u001b[38;5;167;01mValueError\u001b[39;00m(\n\u001b[0;32m   1247\u001b[0m           \u001b[38;5;124m\"\u001b[39m\u001b[38;5;124mnon-zero flags not allowed in calls to recv_into() on \u001b[39m\u001b[38;5;132;01m%s\u001b[39;00m\u001b[38;5;124m\"\u001b[39m \u001b[38;5;241m%\u001b[39m\n\u001b[0;32m   1248\u001b[0m           \u001b[38;5;28mself\u001b[39m\u001b[38;5;241m.\u001b[39m\u001b[38;5;18m__class__\u001b[39m)\n\u001b[1;32m-> 1249\u001b[0m     \u001b[38;5;28;01mreturn\u001b[39;00m \u001b[38;5;28;43mself\u001b[39;49m\u001b[38;5;241;43m.\u001b[39;49m\u001b[43mread\u001b[49m\u001b[43m(\u001b[49m\u001b[43mnbytes\u001b[49m\u001b[43m,\u001b[49m\u001b[43m \u001b[49m\u001b[43mbuffer\u001b[49m\u001b[43m)\u001b[49m\n\u001b[0;32m   1250\u001b[0m \u001b[38;5;28;01melse\u001b[39;00m:\n\u001b[0;32m   1251\u001b[0m     \u001b[38;5;28;01mreturn\u001b[39;00m \u001b[38;5;28msuper\u001b[39m()\u001b[38;5;241m.\u001b[39mrecv_into(buffer, nbytes, flags)\n",
      "File \u001b[1;32mc:\\Users\\Tim\\AppData\\Local\\Programs\\Python\\Python312\\Lib\\ssl.py:1105\u001b[0m, in \u001b[0;36mSSLSocket.read\u001b[1;34m(self, len, buffer)\u001b[0m\n\u001b[0;32m   1103\u001b[0m \u001b[38;5;28;01mtry\u001b[39;00m:\n\u001b[0;32m   1104\u001b[0m     \u001b[38;5;28;01mif\u001b[39;00m buffer \u001b[38;5;129;01mis\u001b[39;00m \u001b[38;5;129;01mnot\u001b[39;00m \u001b[38;5;28;01mNone\u001b[39;00m:\n\u001b[1;32m-> 1105\u001b[0m         \u001b[38;5;28;01mreturn\u001b[39;00m \u001b[38;5;28;43mself\u001b[39;49m\u001b[38;5;241;43m.\u001b[39;49m\u001b[43m_sslobj\u001b[49m\u001b[38;5;241;43m.\u001b[39;49m\u001b[43mread\u001b[49m\u001b[43m(\u001b[49m\u001b[38;5;28;43mlen\u001b[39;49m\u001b[43m,\u001b[49m\u001b[43m \u001b[49m\u001b[43mbuffer\u001b[49m\u001b[43m)\u001b[49m\n\u001b[0;32m   1106\u001b[0m     \u001b[38;5;28;01melse\u001b[39;00m:\n\u001b[0;32m   1107\u001b[0m         \u001b[38;5;28;01mreturn\u001b[39;00m \u001b[38;5;28mself\u001b[39m\u001b[38;5;241m.\u001b[39m_sslobj\u001b[38;5;241m.\u001b[39mread(\u001b[38;5;28mlen\u001b[39m)\n",
      "\u001b[1;31mKeyboardInterrupt\u001b[0m: "
     ]
    }
   ],
   "source": [
    "from urllib.request import urlopen,urlretrieve\n",
    "import json\n",
    "import os\n",
    "\n",
    "for m in range(12):\n",
    "    url=f\"https://www.google.com/doodles/json/2018/{str(m+1)}?hl=zh_TW\"\n",
    "    # url=\"https://www.google.com/doodles/json/2018/\"+str(m+1)+\"?hl=zh_TW\"\n",
    "    print(f\"現在的處理頁面：{url}\")\n",
    "    response = urlopen(url)\n",
    "\n",
    "    doodles=json.load(response)\n",
    "    for d in doodles:\n",
    "        url=f\"https:{d[\"url\"]}\"\n",
    "        print(d[\"title\"],url)\n",
    "        \n",
    "        # dirname=\"doodles/\"+str(m+1)+\"/\"\n",
    "        dirname=f\"doodles/{str(m+1)}/\"\n",
    "        if not os.path.exists(dirname):\n",
    "            os.makedirs(dirname)\n",
    "        \n",
    "        fname=dirname+url.split(\"/\")[-1]\n",
    "        urlretrieve(url,fname)"
   ]
  },
  {
   "cell_type": "code",
   "execution_count": 21,
   "id": "e2b5020d",
   "metadata": {},
   "outputs": [
    {
     "name": "stdout",
     "output_type": "stream",
     "text": [
      "處理的url:https://tabelog.com/tw/tokyo/rstLst/51/?SrtT=rt\n",
      "龍圓 Ryuuen https://tabelog.com/tw/tokyo/A1311/A131102/13003700/ 3.74 ￥8,000～￥9,999 ￥8,000～￥9,999\n",
      "フジウ Patisserie du Chef FUJIU https://tabelog.com/tw/tokyo/A1329/A132903/13006009/ 3.74 ～￥999 ～￥999\n",
      "ポム・ド・テール Pomme de terre https://tabelog.com/tw/tokyo/A1319/A131907/13009237/ 3.74 ～￥999 ～￥999\n",
      "レストラン・パッション PACHON https://tabelog.com/tw/tokyo/A1303/A130303/13001911/ 3.74 ￥15,000～￥19,999 ￥8,000～￥9,999\n",
      "ポンテ デル ピアット PONTE DEL PIATTO https://tabelog.com/tw/tokyo/A1307/A130703/13166111/ 3.74 ￥15,000～￥19,999 ￥10,000～￥14,999\n",
      "のどぐろ専門 銀座 中俣 nodogurosemmonginzanakamata https://tabelog.com/tw/tokyo/A1301/A130101/13186922/ 3.74 ￥10,000～￥14,999 -\n",
      "鮨 神楽 Sushi kagura https://tabelog.com/tw/tokyo/A1301/A130103/13262603/ 3.74 ￥15,000～￥19,999 ￥6,000～￥7,999\n",
      "ショーマッカー Schomaker https://tabelog.com/tw/tokyo/A1317/A131711/13045113/ 3.74 ～￥999 -\n",
      "天婦羅 みやしろ Tempuramiyashiro https://tabelog.com/tw/tokyo/A1317/A131701/13220479/ 3.74 ￥20,000～￥29,999 ￥15,000～￥19,999\n",
      "よねさん Yonesan https://tabelog.com/tw/tokyo/A1312/A131202/13176407/ 3.74 - -\n",
      "焼鳥 うの Yakitoriuno https://tabelog.com/tw/tokyo/A1317/A131711/13130757/ 3.74 ￥6,000～￥7,999 -\n",
      "ALLIE ALLIE https://tabelog.com/tw/tokyo/A1307/A130702/13192025/ 3.74 ￥15,000～￥19,999 ￥8,000～￥9,999\n",
      "O2 o-tsu- https://tabelog.com/tw/tokyo/A1313/A131303/13219958/ 3.74 ￥8,000～￥9,999 -\n",
      "宇田津 鮨 Udatsusushi https://tabelog.com/tw/tokyo/A1317/A131701/13232637/ 3.74 ￥20,000～￥29,999 ￥8,000～￥9,999\n",
      "鮨結う翼 Sushiyuutsubasa https://tabelog.com/tw/tokyo/A1303/A130302/13260600/ 3.74 ￥10,000～￥14,999 ￥10,000～￥14,999\n",
      "肉割烹 岡田前 nikukappouokadamae https://tabelog.com/tw/tokyo/A1307/A130702/13255880/ 3.74 ￥30,000～￥39,999 -\n",
      "蕎や 月心 Sobayatsukigokoro https://tabelog.com/tw/tokyo/A1317/A131701/13096494/ 3.74 ￥6,000～￥7,999 ￥3,000～￥3,999\n",
      "ロス タコス アスーレス LOS TACOS AZULES https://tabelog.com/tw/tokyo/A1317/A131706/13227066/ 3.74 - ￥2,000～￥2,999\n",
      "小笹寿し Kozasazushi https://tabelog.com/tw/tokyo/A1301/A130103/13000569/ 3.74 ￥20,000～￥29,999 ￥20,000～￥29,999\n",
      "シェ オリビエ Chez Olivier https://tabelog.com/tw/tokyo/A1309/A130904/13097060/ 3.74 ￥20,000～￥29,999 ￥10,000～￥14,999\n",
      "處理的url:https://tabelog.com/tw/tokyo/rstLst/52/?SrtT=rt\n",
      "銀座 稲葉 Ginzainaba https://tabelog.com/tw/tokyo/A1301/A130101/13259495/ 3.74 ￥30,000～￥39,999 ￥8,000～￥9,999\n",
      "ピアット・スズキ Piattosuzuki https://tabelog.com/tw/tokyo/A1307/A130702/13004441/ 3.74 ￥10,000～￥14,999 -\n",
      "ローブリュー LAUBURU https://tabelog.com/tw/tokyo/A1306/A130602/13002092/ 3.74 ￥10,000～￥14,999 -\n",
      "草片 Cusavilla https://tabelog.com/tw/tokyo/A1307/A130703/13191105/ 3.74 ￥10,000～￥14,999 ￥8,000～￥9,999\n",
      "メイ MAY https://tabelog.com/tw/tokyo/A1316/A131603/13168755/ 3.74 ￥15,000～￥19,999 ￥10,000～￥14,999\n",
      "BOLT BOLT https://tabelog.com/tw/tokyo/A1309/A130905/13210695/ 3.74 ￥6,000～￥7,999 -\n",
      "あじゅう田 Ajuuta https://tabelog.com/tw/tokyo/A1303/A130301/13257494/ 3.74 ￥30,000～￥39,999 ￥30,000～￥39,999\n",
      "レストランユニック restaurant unique https://tabelog.com/tw/tokyo/A1316/A131601/13163184/ 3.74 ￥6,000～￥7,999 ￥8,000～￥9,999\n",
      "鳥焼き 小花 toriyakiohana https://tabelog.com/tw/tokyo/A1303/A130302/13265540/ 3.74 ￥15,000～￥19,999 -\n",
      "Steak Dining Vitis Sutekidaininguvithisu https://tabelog.com/tw/tokyo/A1317/A131701/13173227/ 3.74 ￥20,000～￥29,999 ￥8,000～￥9,999\n",
      "アーティショー Artichaut https://tabelog.com/tw/tokyo/A1303/A130302/13042337/ 3.74 ￥15,000～￥19,999 ￥8,000～￥9,999\n",
      "錦福 香港美食 Kinfuku https://tabelog.com/tw/tokyo/A1309/A130906/13218085/ 3.74 ￥6,000～￥7,999 -\n",
      "ブーケ・ド・フランス Bouquet de France https://tabelog.com/tw/tokyo/A1307/A130701/13002082/ 3.74 ￥15,000～￥19,999 ￥8,000～￥9,999\n",
      "敦煌 Tonko https://tabelog.com/tw/tokyo/A1309/A130903/13000935/ 3.74 ￥8,000～￥9,999 -\n",
      "中国意境菜 白燕 Chuugokuikyousaibaien https://tabelog.com/tw/tokyo/A1311/A131101/13238666/ 3.74 ￥8,000～￥9,999 ￥1,000～￥1,999\n",
      "ラ シャッス LA CHASSE https://tabelog.com/tw/tokyo/A1307/A130701/13025071/ 3.74 ￥20,000～￥29,999 -\n",
      "三宅輝 Miyakeakira https://tabelog.com/tw/tokyo/A1307/A130701/13247307/ 3.74 ￥30,000～￥39,999 -\n",
      "平ちゃん heichan https://tabelog.com/tw/tokyo/A1302/A130202/13257531/ 3.74 ￥10,000～￥14,999 ￥5,000～￥5,999\n",
      "甲殻類と私 すがの koukakuruitowatashisugano https://tabelog.com/tw/tokyo/A1301/A130103/13269851/ 3.74 ￥60,000～￥79,999 ￥60,000～￥79,999\n",
      "焼鳥 茜 yakitoriakane https://tabelog.com/tw/tokyo/A1309/A130905/13196727/ 3.74 ￥10,000～￥14,999 -\n",
      "處理的url:https://tabelog.com/tw/tokyo/rstLst/53/?SrtT=rt\n",
      "トレフミヤモト Torefumiyamoto https://tabelog.com/tw/tokyo/A1307/A130701/13005338/ 3.74 ￥20,000～￥29,999 ￥10,000～￥14,999\n",
      "薪焼 銀座おのでら makiyakiginzaonodera https://tabelog.com/tw/tokyo/A1301/A130101/13235042/ 3.74 ￥20,000～￥29,999 ￥10,000～￥14,999\n",
      "豊栄 Houei https://tabelog.com/tw/tokyo/A1323/A132301/13276558/ 3.74 ￥8,000～￥9,999 ￥5,000～￥5,999\n",
      "馳創吼龍 Chisoukouryuu https://tabelog.com/tw/tokyo/A1301/A130101/13225838/ 3.74 ￥15,000～￥19,999 ￥5,000～￥5,999\n",
      "蕎庵 三たて Sobamitate https://tabelog.com/tw/tokyo/A1307/A130702/13274939/ 3.74 ￥15,000～￥19,999 ￥10,000～￥14,999\n",
      "FRANZ FRANZ https://tabelog.com/tw/tokyo/A1307/A130703/13210554/ 3.74 ￥10,000～￥14,999 -\n",
      "caillou Caillou https://tabelog.com/tw/tokyo/A1317/A131710/13279829/ 3.74 ￥10,000～￥14,999 -\n",
      "KINO_ KINO https://tabelog.com/tw/tokyo/A1304/A130403/13285210/ 3.74 ￥15,000～￥19,999 ￥8,000～￥9,999\n",
      "仲野 Nakano https://tabelog.com/tw/tokyo/A1303/A130301/13268768/ 3.74 ￥30,000～￥39,999 -\n",
      "かがみ Kagami https://tabelog.com/tw/tokyo/A1308/A130801/13239661/ 3.74 ￥30,000～￥39,999 -\n",
      "天麩羅 巽 Tatsumi https://tabelog.com/tw/tokyo/A1302/A130201/13141129/ 3.74 ￥20,000～￥29,999 ￥10,000～￥14,999\n",
      "naoto.K Naoto.K https://tabelog.com/tw/tokyo/A1310/A131002/13261755/ 3.74 ￥50,000～￥59,999 -\n",
      "PENTHOUSE GINZA hanare: PENTHOUSE GINZA hanare: https://tabelog.com/tw/tokyo/A1301/A130101/13209209/ 3.74 ￥20,000～￥29,999 -\n",
      "御料理 かつ志 Oryouri katsushi https://tabelog.com/tw/tokyo/A1301/A130103/13235679/ 3.74 ￥20,000～￥29,999 -\n",
      "飄香 広尾店 Pyaoshan https://tabelog.com/tw/tokyo/A1307/A130703/13274033/ 3.74 ￥20,000～￥29,999 -\n",
      "うどん 慎 udonshin https://tabelog.com/tw/tokyo/A1304/A130401/13125862/ 3.73 ￥1,000～￥1,999 ￥1,000～￥1,999\n",
      "神田ラーメン わいず kandara-menwaizu https://tabelog.com/tw/tokyo/A1310/A131002/13004111/ 3.73 ～￥999 ～￥999\n",
      "煮干中華そば 鈴蘭 niboshichuukasobasuzuran https://tabelog.com/tw/tokyo/A1304/A130401/13141542/ 3.73 ～￥999 ～￥999\n",
      "BERG Beruku https://tabelog.com/tw/tokyo/A1304/A130401/13004332/ 3.73 ￥1,000～￥1,999 ～￥999\n",
      "カラシビ味噌らー麺 鬼金棒 神田本店 karashibimisora-menkikambou https://tabelog.com/tw/tokyo/A1310/A131002/13097205/ 3.73 ￥1,000～￥1,999 ￥1,000～￥1,999\n",
      "處理的url:https://tabelog.com/tw/tokyo/rstLst/54/?SrtT=rt\n",
      "ライスカレー まんてん raisukare-manten https://tabelog.com/tw/tokyo/A1310/A131003/13000603/ 3.73 ～￥999 ～￥999\n",
      "トナリ 丸の内店 Tonari https://tabelog.com/tw/tokyo/A1302/A130201/13111899/ 3.73 ￥1,000～￥1,999 ～￥999\n",
      "ポンチ軒 Ponchiken https://tabelog.com/tw/tokyo/A1310/A131002/13141456/ 3.73 ￥2,000～￥2,999 ￥2,000～￥2,999\n",
      "鶏ポタ ラーメン THANK Toripotaramensanku https://tabelog.com/tw/tokyo/A1314/A131401/13135731/ 3.73 ～￥999 ～￥999\n",
      "とんかつ やまいち Tonkatsuyamaichi https://tabelog.com/tw/tokyo/A1310/A131002/13042246/ 3.73 - ￥2,000～￥2,999\n",
      "ウルフギャング・ステーキハウス 丸の内店 Urufugyangusutekihausu https://tabelog.com/tw/tokyo/A1302/A130201/13175479/ 3.73 ￥10,000～￥14,999 ￥2,000～￥2,999\n",
      "永福町 大勝軒 Eifukuchoutaishouken https://tabelog.com/tw/tokyo/A1318/A131805/13011769/ 3.73 ￥1,000～￥1,999 ￥1,000～￥1,999\n",
      "焼肉 ジャンボ 白金 Jumbo Shirokane https://tabelog.com/tw/tokyo/A1316/A131602/13026377/ 3.73 ￥10,000～￥14,999 ￥8,000～￥9,999\n",
      "五代目 野田岩 麻布飯倉本店 Godaime Nodaiwa https://tabelog.com/tw/tokyo/A1314/A131401/13002789/ 3.73 - ￥8,000～￥9,999\n",
      "五ノ神水産 Gonokamisuisan https://tabelog.com/tw/tokyo/A1310/A131002/13163444/ 3.73 ～￥999 ～￥999\n",
      "鏡花 Kyouka https://tabelog.com/tw/tokyo/A1329/A132901/13005986/ 3.73 ￥1,000～￥1,999 ￥1,000～￥1,999\n",
      "はまの屋パーラー 有楽町店 Hamanoyapara https://tabelog.com/tw/tokyo/A1301/A130102/13041024/ 3.73 ￥1,000～￥1,999 ￥1,000～￥1,999\n",
      "トリコロール 本店 Torikororu https://tabelog.com/tw/tokyo/A1301/A130101/13007761/ 3.73 ￥1,000～￥1,999 ￥1,000～￥1,999\n",
      "シバカリーワラ shiva curry wara https://tabelog.com/tw/tokyo/A1317/A131706/13151738/ 3.73 ￥3,000～￥3,999 ￥1,000～￥1,999\n",
      "俺のBakery 恵比寿 orenobe-kari- https://tabelog.com/tw/tokyo/A1303/A130302/13201307/ 3.73 ￥1,000～￥1,999 ￥1,000～￥1,999\n",
      "スパイスカフェ SPICE Cafe https://tabelog.com/tw/tokyo/A1312/A131203/13002935/ 3.73 ￥6,000～￥7,999 ￥1,000～￥1,999\n",
      "ブノワ BENOIT https://tabelog.com/tw/tokyo/A1306/A130602/13019489/ 3.73 ￥10,000～￥14,999 ￥5,000～￥5,999\n",
      "イエローカンパニー 恵比寿本店 YELLOW COMPANY https://tabelog.com/tw/tokyo/A1303/A130302/13014312/ 3.73 ￥2,000～￥2,999 ￥1,000～￥1,999\n",
      "インド料理 想いの木 indoryouriomoinoki https://tabelog.com/tw/tokyo/A1309/A130905/13023967/ 3.73 ￥5,000～￥5,999 ￥1,000～￥1,999\n",
      "レインボウスパイス RAINBOW SPICE https://tabelog.com/tw/tokyo/A1329/A132901/13147181/ 3.73 ～￥999 ～￥999\n",
      "處理的url:https://tabelog.com/tw/tokyo/rstLst/55/?SrtT=rt\n",
      "龍天門 Ryuutemmon https://tabelog.com/tw/tokyo/A1303/A130302/13004490/ 3.73 ￥10,000～￥14,999 ￥4,000～￥4,999\n",
      "竹むら Takemura https://tabelog.com/tw/tokyo/A1310/A131002/13000342/ 3.73 ～￥999 ～￥999\n",
      "きらく亭 Kirakutei https://tabelog.com/tw/tokyo/A1307/A130703/13007145/ 3.73 ￥10,000～￥14,999 -\n",
      "麺屋 まほろ芭 Menyamahoroba https://tabelog.com/tw/tokyo/A1315/A131503/13221764/ 3.73 ￥1,000～￥1,999 ￥1,000～￥1,999\n",
      "麺 酒 やまの mensakeyamano https://tabelog.com/tw/tokyo/A1321/A132102/13154616/ 3.73 ～￥999 ～￥999\n",
      "ろく月 Rokutsuki https://tabelog.com/tw/tokyo/A1311/A131103/13161632/ 3.73 ～￥999 ～￥999\n",
      "虎穴 Fushue https://tabelog.com/tw/tokyo/A1302/A130204/13098919/ 3.73 ￥10,000～￥14,999 -\n",
      "塩生姜らー麺専門店 MANNISH 淡路町本店 Shioshougaramensemmontemmanisshu https://tabelog.com/tw/tokyo/A1310/A131002/13231004/ 3.73 ￥1,000～￥1,999 ￥1,000～￥1,999\n",
      "覆麺 智 Fukumentomo https://tabelog.com/tw/tokyo/A1310/A131003/13054078/ 3.73 - ￥1,000～￥1,999\n",
      "中華そば こてつ chuukasobakotetsu https://tabelog.com/tw/tokyo/A1318/A131802/13198320/ 3.73 ～￥999 ～￥999\n",
      "麺屋 はやしまる Menyahayashimaru https://tabelog.com/tw/tokyo/A1319/A131904/13006636/ 3.73 ￥1,000～￥1,999 ￥1,000～￥1,999\n",
      "パンケーキママカフェ VoiVoi Pankekimamakafevoivoi https://tabelog.com/tw/tokyo/A1317/A131706/13038342/ 3.73 ￥1,000～￥1,999 ￥1,000～￥1,999\n",
      "らーめん天神下 大喜 ra-mentenjinshitadaiki https://tabelog.com/tw/tokyo/A1310/A131001/13208678/ 3.73 ￥2,000～￥2,999 ～￥999\n",
      "ヨハン 本店 JOHANN https://tabelog.com/tw/tokyo/A1317/A131701/13003450/ 3.73 - ～￥999\n",
      "Cafe Bach kafebahha https://tabelog.com/tw/tokyo/A1324/A132401/13003759/ 3.73 ￥1,000～￥1,999 ￥1,000～￥1,999\n",
      "支那そば大和 稲荷町店 shinasobayamato https://tabelog.com/tw/tokyo/A1311/A131101/13206756/ 3.73 ￥1,000～￥1,999 ￥1,000～￥1,999\n",
      "中華そば 吾衛門 chuukasobagoemon https://tabelog.com/tw/tokyo/A1329/A132904/13019588/ 3.73 ～￥999 ～￥999\n",
      "ラーメン二郎 神田神保町店 Ramenjirou https://tabelog.com/tw/tokyo/A1310/A131003/13216512/ 3.73 ～￥999 ￥1,000～￥1,999\n",
      "巴裡 小川軒 新橋店 Pariogawaken https://tabelog.com/tw/tokyo/A1301/A130103/13024996/ 3.73 ￥1,000～￥1,999 ￥1,000～￥1,999\n",
      "ル カフェドゥ ジョエル・ロブション 日本橋高島屋店 LE CAFE de Joel Robuchon https://tabelog.com/tw/tokyo/A1302/A130202/13009090/ 3.73 ￥1,000～￥1,999 ￥1,000～￥1,999\n",
      "處理的url:https://tabelog.com/tw/tokyo/rstLst/56/?SrtT=rt\n",
      "成城アルプス Seijouarupusu https://tabelog.com/tw/tokyo/A1318/A131814/13002002/ 3.73 ￥1,000～￥1,999 ￥1,000～￥1,999\n",
      "らあめん 元 HAJIME https://tabelog.com/tw/tokyo/A1322/A132205/13090786/ 3.73 ￥1,000～￥1,999 ￥1,000～￥1,999\n",
      "長命寺 桜もち Choumeijisakuramochi https://tabelog.com/tw/tokyo/A1312/A131203/13002949/ 3.73 ～￥999 ～￥999\n",
      "ブーランジェリーブルディガラ 広尾本店 BURDIGALA https://tabelog.com/tw/tokyo/A1307/A130703/13000523/ 3.73 ～￥999 ～￥999\n",
      "神泉いちのや shinsenichinoya https://tabelog.com/tw/tokyo/A1303/A130301/13004659/ 3.73 ￥10,000～￥14,999 ￥5,000～￥5,999\n",
      "タイカリーピキヌー Taikaripikinu https://tabelog.com/tw/tokyo/A1317/A131707/13001446/ 3.73 ￥1,000～￥1,999 ￥1,000～￥1,999\n",
      "小笠原伯爵邸 Ogasawarahakushakutei https://tabelog.com/tw/tokyo/A1305/A130504/13000998/ 3.73 ￥15,000～￥19,999 ￥10,000～￥14,999\n",
      "焼肉うしごろ 新宿三丁目店 Yakinikuushigoro https://tabelog.com/tw/tokyo/A1304/A130401/13258565/ 3.73 ￥10,000～￥14,999 ￥5,000～￥5,999\n",
      "トラスパレンテ 中目黒店 TRASPARENTE https://tabelog.com/tw/tokyo/A1317/A131701/13187231/ 3.73 ～￥999 ￥1,000～￥1,999\n",
      "スパイスバザール アチャカナ Spice Bazaar Achakana https://tabelog.com/tw/tokyo/A1304/A130401/13233798/ 3.73 ￥3,000～￥3,999 ￥1,000～￥1,999\n",
      "龍口酒家 本店 Ronkouchuucha https://tabelog.com/tw/tokyo/A1318/A131807/13004350/ 3.73 ￥6,000～￥7,999 ～￥999\n",
      "かりんとう ゆしま花月 Karintouyushimakagetsu https://tabelog.com/tw/tokyo/A1311/A131101/13008524/ 3.73 ～￥999 -\n",
      "トラスパレンテ 学芸大学店 TRASPARENTE https://tabelog.com/tw/tokyo/A1317/A131702/13129736/ 3.73 ～￥999 ￥1,000～￥1,999\n",
      "焼肉くにもと 新館 Kunimoto Shinkan https://tabelog.com/tw/tokyo/A1314/A131401/13035852/ 3.73 ￥10,000～￥14,999 -\n",
      "Tombo Tombo https://tabelog.com/tw/tokyo/A1320/A132001/13212388/ 3.73 ￥1,000～￥1,999 ～￥999\n",
      "folk burgers&beers Folk burgers&beers https://tabelog.com/tw/tokyo/A1310/A131003/13224811/ 3.73 ￥2,000～￥2,999 ￥1,000～￥1,999\n",
      "初小川 Hatsuogawa https://tabelog.com/tw/tokyo/A1311/A131102/13003702/ 3.73 ￥4,000～￥4,999 ￥4,000～￥4,999\n",
      "テオブロマ 渋谷本店 teoburoma https://tabelog.com/tw/tokyo/A1318/A131810/13005471/ 3.73 ￥1,000～￥1,999 ￥1,000～￥1,999\n",
      "草枕 Kusamakura https://tabelog.com/tw/tokyo/A1301/A130103/13043012/ 3.73 ￥1,000～￥1,999 -\n",
      "支那蕎麦 澤田 Shinasobasawada https://tabelog.com/tw/tokyo/A1304/A130402/13257218/ 3.73 ￥1,000～￥1,999 ￥1,000～￥1,999\n",
      "處理的url:https://tabelog.com/tw/tokyo/rstLst/57/?SrtT=rt\n",
      "焼肉うしごろ 表参道店 Yakinikuushigoro https://tabelog.com/tw/tokyo/A1306/A130602/13252182/ 3.73 ￥8,000～￥9,999 ￥3,000～￥3,999\n",
      "麺処 一笑 Mendokoroisshou https://tabelog.com/tw/tokyo/A1319/A131905/13190790/ 3.73 ～￥999 -\n",
      "炭火焼肉 ふちおか Sumibiyakinikufuchioka https://tabelog.com/tw/tokyo/A1318/A131813/13208137/ 3.73 ￥8,000～￥9,999 -\n",
      "ミニマル 富ヶ谷本店 Minimal https://tabelog.com/tw/tokyo/A1303/A130301/13175834/ 3.73 ￥1,000～￥1,999 ￥1,000～￥1,999\n",
      "ル・コワンヴェール パトリック・ルメル Le Coin Vert PATRICK LEMESLE https://tabelog.com/tw/tokyo/A1309/A130905/13058480/ 3.73 ～￥999 ￥1,000～￥1,999\n",
      "カントニーズ 燕 Cantonese en https://tabelog.com/tw/tokyo/A1302/A130201/13147494/ 3.73 ￥10,000～￥14,999 ￥6,000～￥7,999\n",
      "鮓 村瀬 Murase https://tabelog.com/tw/tokyo/A1307/A130701/13174475/ 3.73 ￥20,000～￥29,999 -\n",
      "とらやベーカリー TORAYA BAKERY https://tabelog.com/tw/tokyo/A1324/A132403/13050971/ 3.73 ～￥999 ～￥999\n",
      "セルサルサーレ sel sal sale https://tabelog.com/tw/tokyo/A1303/A130302/13166739/ 3.73 ￥10,000～￥14,999 ￥3,000～￥3,999\n",
      "世田谷中華そば 祖師谷七丁目食堂 Setagayacyuukasoba soshigayananachoumeshokudou https://tabelog.com/tw/tokyo/A1318/A131814/13251905/ 3.73 ～￥999 ～￥999\n",
      "い志い Shibamataishii https://tabelog.com/tw/tokyo/A1324/A132403/13098265/ 3.73 ￥1,000～￥1,999 -\n",
      "麺屋 瑞風 menyamizukaze https://tabelog.com/tw/tokyo/A1328/A132801/13194366/ 3.73 ～￥999 -\n",
      "SEN YO Senyou https://tabelog.com/tw/tokyo/A1319/A131904/13135036/ 3.73 ￥5,000～￥5,999 ￥1,000～￥1,999\n",
      "えんツコ堂 製パン ENTUKO https://tabelog.com/tw/tokyo/A1319/A131907/13060088/ 3.73 ～￥999 -\n",
      "塩野 Shiono https://tabelog.com/tw/tokyo/A1308/A130801/13002747/ 3.73 ￥1,000～￥1,999 -\n",
      "中華蕎麦 きつね Chuukasoba kitsune https://tabelog.com/tw/tokyo/A1318/A131809/13241588/ 3.73 - ～￥999\n",
      "徳うち山 tokuuchiyama https://tabelog.com/tw/tokyo/A1301/A130101/13129656/ 3.73 ￥15,000～￥19,999 ￥6,000～￥7,999\n",
      "ジュウバー Jiubar https://tabelog.com/tw/tokyo/A1309/A130905/13207885/ 3.73 ￥5,000～￥5,999 -\n",
      "エムサイズ Emusaizu https://tabelog.com/tw/tokyo/A1317/A131702/13024601/ 3.73 - ～￥999\n",
      "愚直 Guchoku https://tabelog.com/tw/tokyo/A1322/A132203/13043552/ 3.73 ～￥999 ～￥999\n",
      "處理的url:https://tabelog.com/tw/tokyo/rstLst/58/?SrtT=rt\n",
      "石臼挽き手打ち蕎麦 高はし ishiusubikiteuchisabatakahashi https://tabelog.com/tw/tokyo/A1319/A131906/13004378/ 3.73 - ￥1,000～￥1,999\n",
      "ジャン フランコ Gian Franco https://tabelog.com/tw/tokyo/A1317/A131707/13169306/ 3.73 ￥1,000～￥1,999 -\n",
      "アルヴァ aruva https://tabelog.com/tw/tokyo/A1302/A130201/13176921/ 3.73 ￥30,000～￥39,999 ￥15,000～￥19,999\n",
      "カイソ KAISO https://tabelog.com/tw/tokyo/A1318/A131812/13129587/ 3.73 ～￥999 ～￥999\n",
      "HOPPERS HOPPERS https://tabelog.com/tw/tokyo/A1302/A130203/13266235/ 3.73 ￥6,000～￥7,999 ￥1,000～￥1,999\n",
      "蟹王府 Shewanfu https://tabelog.com/tw/tokyo/A1302/A130202/13253305/ 3.73 ￥20,000～￥29,999 ￥3,000～￥3,999\n",
      "超純水採麺 天国屋 Choujunsuisaimentengokuya https://tabelog.com/tw/tokyo/A1327/A132701/13262390/ 3.73 ￥1,000～￥1,999 ￥1,000～￥1,999\n",
      "ペルー料理 bepocah Bepocah https://tabelog.com/tw/tokyo/A1306/A130601/13153983/ 3.73 ￥8,000～￥9,999 -\n",
      "マンサルヴァ MANSALVA https://tabelog.com/tw/tokyo/A1303/A130302/13114704/ 3.73 ￥10,000～￥14,999 ￥6,000～￥7,999\n",
      "ルメルシマン オカモト Remerciements OKAMOTO https://tabelog.com/tw/tokyo/A1306/A130602/13145384/ 3.73 ￥10,000～￥14,999 ￥5,000～￥5,999\n",
      "ボナ・フェスタ BONA FESTA https://tabelog.com/tw/tokyo/A1311/A131102/13016868/ 3.73 ￥8,000～￥9,999 ￥3,000～￥3,999\n",
      "石の華 Ishinohana https://tabelog.com/tw/tokyo/A1303/A130301/13004802/ 3.73 ￥6,000～￥7,999 -\n",
      "神戸牛炉釜炭焼ステーキ IDEA 銀座 IDEA https://tabelog.com/tw/tokyo/A1301/A130101/13161192/ 3.73 ￥20,000～￥29,999 -\n",
      "カラペティ・バトゥバ QUAND L'APPETIT VA TOUT VA https://tabelog.com/tw/tokyo/A1307/A130702/13097828/ 3.73 ￥10,000～￥14,999 ￥8,000～￥9,999\n",
      "日本橋いづもや nihombashiidumoya https://tabelog.com/tw/tokyo/A1302/A130202/13011198/ 3.73 ￥15,000～￥19,999 ￥4,000～￥4,999\n",
      "Les deux Les deux https://tabelog.com/tw/tokyo/A1317/A131701/13134304/ 3.73 ￥10,000～￥14,999 -\n",
      "ブランジュリー パリの空の下 buranjuri-parinosoranoshita https://tabelog.com/tw/tokyo/A1317/A131709/13100024/ 3.73 ￥2,000～￥2,999 -\n",
      "焼鳥 ひら野 Yakitorihirano https://tabelog.com/tw/tokyo/A1301/A130103/13267696/ 3.73 ￥10,000～￥14,999 -\n",
      "時喰み Tokihami https://tabelog.com/tw/tokyo/A1301/A130101/13233337/ 3.73 ￥8,000～￥9,999 -\n",
      "新ばし 久 Shimbashikyuu https://tabelog.com/tw/tokyo/A1301/A130103/13030766/ 3.73 ￥15,000～￥19,999 -\n",
      "處理的url:https://tabelog.com/tw/tokyo/rstLst/59/?SrtT=rt\n",
      "aniko Aniko https://tabelog.com/tw/tokyo/A1308/A130801/13240038/ 3.73 ￥6,000～￥7,999 ￥1,000～￥1,999\n",
      "Hotel's Hotel's https://tabelog.com/tw/tokyo/A1306/A130602/13262762/ 3.73 ￥20,000～￥29,999 ￥10,000～￥14,999\n",
      "蔵六雄山 Zourokuyuuzan https://tabelog.com/tw/tokyo/A1307/A130701/13139640/ 3.73 ￥20,000～￥29,999 -\n",
      "Lemon Lemon https://tabelog.com/tw/tokyo/A1303/A130302/13257993/ 3.73 ￥10,000～￥14,999 -\n",
      "コム・ア・ラ・メゾン COMME A LA MAISON https://tabelog.com/tw/tokyo/A1308/A130801/13002186/ 3.73 ￥10,000～￥14,999 -\n",
      "みこころ 無添加チャイナ935 Mikokoromutenkachaina https://tabelog.com/tw/tokyo/A1310/A131003/13241715/ 3.73 ￥8,000～￥9,999 ￥1,000～￥1,999\n",
      "蕎麦切り 酒 大愚 Sobakirisaketaigu https://tabelog.com/tw/tokyo/A1308/A130802/13130565/ 3.73 ￥6,000～￥7,999 -\n",
      "蕎麦割烹  倉田 sobakappoukurata https://tabelog.com/tw/tokyo/A1317/A131710/13166182/ 3.73 ￥10,000～￥14,999 ￥2,000～￥2,999\n",
      "MAISON MARUNOUCHI MAISON MARUNOUCHI https://tabelog.com/tw/tokyo/A1302/A130201/13256879/ 3.73 ￥8,000～￥9,999 ￥6,000～￥7,999\n",
      "マルタ Maruta https://tabelog.com/tw/tokyo/A1326/A132601/13219686/ 3.73 ￥20,000～￥29,999 ￥20,000～￥29,999\n",
      "立喰 鮨となり Tachiguisushitonari https://tabelog.com/tw/tokyo/A1307/A130702/13267404/ 3.73 ￥8,000～￥9,999 ￥8,000～￥9,999\n",
      "ポンドールイノ Pont d'Or Inno https://tabelog.com/tw/tokyo/A1302/A130202/13118182/ 3.73 ￥10,000～￥14,999 ￥5,000～￥5,999\n",
      "笠井 Kasai https://tabelog.com/tw/tokyo/A1317/A131702/13242439/ 3.73 ￥15,000～￥19,999 -\n",
      "やきとり 陽火 Yakitoriharuka https://tabelog.com/tw/tokyo/A1316/A131602/13247688/ 3.73 ￥10,000～￥14,999 -\n",
      "ファカロー ピッツァ ギャラリー Fakalo pizza gallery https://tabelog.com/tw/tokyo/A1311/A131101/13269491/ 3.73 ￥6,000～￥7,999 ￥5,000～￥5,999\n",
      "オステリア セルヴァジーナ OSTERIA SELVAGGINA https://tabelog.com/tw/tokyo/A1323/A132301/13135740/ 3.73 ￥10,000～￥14,999 ￥4,000～￥4,999\n",
      "Saucer Saucer https://tabelog.com/tw/tokyo/A1303/A130302/13263364/ 3.73 ￥20,000～￥29,999 -\n",
      "インフィニート ヒロ infinito HIRO https://tabelog.com/tw/tokyo/A1308/A130801/13253595/ 3.73 ￥20,000～￥29,999 ￥1,000～￥1,999\n",
      "寿修 Jushuu https://tabelog.com/tw/tokyo/A1306/A130602/13119927/ 3.73 ￥30,000～￥39,999 -\n",
      "五明 ｇｏｍｅｉ Gomei https://tabelog.com/tw/tokyo/A1301/A130101/13187289/ 3.73 ￥30,000～￥39,999 ￥30,000～￥39,999\n",
      "處理的url:https://tabelog.com/tw/tokyo/rstLst/60/?SrtT=rt\n",
      "TATSUMI TATSUMI https://tabelog.com/tw/tokyo/A1316/A131602/13266170/ 3.73 ￥30,000～￥39,999 -\n",
      "江戸焼肉 Edoyakiniku https://tabelog.com/tw/tokyo/A1301/A130101/13270037/ 3.73 ￥30,000～￥39,999 -\n",
      "Yumanite Yumanite https://tabelog.com/tw/tokyo/A1318/A131810/13264596/ 3.73 ￥10,000～￥14,999 ￥3,000～￥3,999\n",
      "鮨 忠 sushitada https://tabelog.com/tw/tokyo/A1313/A131301/13256736/ 3.73 ￥30,000～￥39,999 -\n",
      "御料理 辻 Oryouritsuji https://tabelog.com/tw/tokyo/A1307/A130702/13209899/ 3.73 ￥20,000～￥29,999 ￥10,000～￥14,999\n",
      "WAGYU 日山 Wagyuuhiyama https://tabelog.com/tw/tokyo/A1302/A130204/13247441/ 3.73 ￥30,000～￥39,999 -\n",
      "あらいかわ Araikawa https://tabelog.com/tw/tokyo/A1307/A130702/13218481/ 3.73 ￥15,000～￥19,999 -\n",
      "西麻布 香宮 Nishiazabushanguu https://tabelog.com/tw/tokyo/A1307/A130703/13260412/ 3.73 ￥30,000～￥39,999 ￥8,000～￥9,999\n",
      "DK DK https://tabelog.com/tw/tokyo/A1306/A130603/13278055/ 3.73 ￥30,000～￥39,999 -\n",
      "麻布 塊 azabukai https://tabelog.com/tw/tokyo/A1314/A131401/13278087/ 3.73 ￥20,000～￥29,999 -\n",
      "銀座 ふじた GINZA Fujita https://tabelog.com/tw/tokyo/A1301/A130101/13271666/ 3.73 ￥40,000～￥49,999 -\n",
      "山介 Yamasuke https://tabelog.com/tw/tokyo/A1324/A132401/13247495/ 3.73 ￥10,000～￥14,999 ￥6,000～￥7,999\n",
      "そらのいろ ニッポン Soranoironippon https://tabelog.com/tw/tokyo/A1302/A130201/13183558/ 3.72 ～￥999 ～￥999\n",
      "松戸富田麺絆 matsudotomitamemban https://tabelog.com/tw/tokyo/A1302/A130201/13232095/ 3.72 ￥1,000～￥1,999 ￥1,000～￥1,999\n",
      "聖林館 Seirinkan https://tabelog.com/tw/tokyo/A1317/A131701/13003188/ 3.72 ￥3,000～￥3,999 ￥2,000～￥2,999\n",
      "希須林 赤坂 kisurin https://tabelog.com/tw/tokyo/A1308/A130801/13020232/ 3.72 ￥1,000～￥1,999 ￥1,000～￥1,999\n",
      "タンドールバル カマルプール 木場店 Kamarupuru https://tabelog.com/tw/tokyo/A1313/A131303/13128960/ 3.72 - ￥1,000～￥1,999\n",
      "自家製麺 MENSHO TOKYO jikaseimemmensho-to-kyo- https://tabelog.com/tw/tokyo/A1310/A131003/13171239/ 3.72 ～￥999 ～￥999\n",
      "麺や 佐市 menyasaichi https://tabelog.com/tw/tokyo/A1312/A131201/13147184/ 3.72 ～￥999 ～￥999\n",
      "No.4 No.4 https://tabelog.com/tw/tokyo/A1309/A130904/13189835/ 3.72 ￥2,000～￥2,999 ￥1,000～￥1,999\n",
      "處理的url:https://tabelog.com/tw/tokyo/rstLst/61/?SrtT=rt\n",
      "好像最後一頁\n"
     ]
    }
   ],
   "source": [
    "from urllib.request import urlopen\n",
    "from urllib.error import HTTPError\n",
    "from bs4 import BeautifulSoup\n",
    "\n",
    "page=51\n",
    "while True:\n",
    "    \n",
    "    url=f\"https://tabelog.com/tw/tokyo/rstLst/{str(page)}/?SrtT=rt\"\n",
    "    print(f\"處理的url:{url}\")\n",
    "    try:\n",
    "        response = urlopen(url)\n",
    "    except Exception:\n",
    "        print(\"好像最後一頁\")\n",
    "        break\n",
    "        \n",
    "    html=BeautifulSoup(response)\n",
    "    # print(html)\n",
    "\n",
    "    # print(html.find_all(\"li\",{\"class\":\"list-rst\"}))\n",
    "\n",
    "    for r in html.find_all(\"li\",class_=\"list-rst\"):\n",
    "        ja=r.find(\"small\",class_=\"list-rst__name-ja\")\n",
    "        en=r.find(\"a\",class_=\"list-rst__name-main\")\n",
    "        ratings=r.find(\"b\",class_=\"c-rating__val\")\n",
    "        price=r.find_all(\"span\",class_=\"c-rating__val\")\n",
    "        print(ja.text,\n",
    "            en.text,\n",
    "            en[\"href\"],\n",
    "            ratings.text,\n",
    "            price[0].text,\n",
    "            price[1].text)\n",
    "    page=page+1\n"
   ]
  }
 ],
 "metadata": {
  "kernelspec": {
   "display_name": "Python 3 (ipykernel)",
   "language": "python",
   "name": "python3"
  },
  "language_info": {
   "codemirror_mode": {
    "name": "ipython",
    "version": 3
   },
   "file_extension": ".py",
   "mimetype": "text/x-python",
   "name": "python",
   "nbconvert_exporter": "python",
   "pygments_lexer": "ipython3",
   "version": "3.12.0"
  }
 },
 "nbformat": 4,
 "nbformat_minor": 5
}
